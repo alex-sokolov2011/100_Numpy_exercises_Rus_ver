{
 "cells": [
  {
   "cell_type": "markdown",
   "metadata": {},
   "source": [
    "# 100 numpy exercises (100 упражнений по numpy)\n",
    "Я переработал знаменитые 100 упражнений для изучения библиотеки numpy. Каждое задание содержит:\n",
    "- перевод условий заданий на русский язык (в математических терминах старался использовать академические)\n",
    "- ссылки на документацию классов (методов, функций) которые используются в решении под каждым заданием\n",
    "- краткие описания классов (методов, функций) и атрибутов, использованных в решении рядом со ссылками\n",
    "- удалён устаревший код на сентябрь 2022 года (версия numpy == 1.24.2)\n",
    "- исправленны ошибки\n",
    "- в некоторых задачах сделан разбор производительности разных методов  \n",
    "\n",
    "Звездочками в скобочках отмечена условная сложность упражнений. На мой взгляд материал будет полезен:  \n",
    "- новичкам, у которых есть сложности с английским и которым важно понимать условие задания перед тем как его делать\n",
    "- тем кто уже уверенно постигает pandas и начал понимать, что иногда оптимальнее запрогать на numpy  \n",
    "\n",
    "Желаю плодотворного изучения библиотеки numpy в Python! Для тренировок с кодом есть [версия на kaggle](https://www.kaggle.com/code/sokolovaleks/100-numpy-exercises-rus-version)    \n",
    "\n",
    "Александр Соколов  \n",
    "https://github.com/alex-sokolov2011  \n",
    "Если у вас есть примеры хороших и полезных заданий по numpy, пишите мне [sokaa2011@gmail.com](mailto:sokaa2011@gmail.com) - с удовольствием опубликую тут или добавляйте сами в contribution.\n",
    "\n",
    "Оригинал на английском тут https://github.com/rougier/numpy-100"
   ]
  },
  {
   "cell_type": "markdown",
   "metadata": {},
   "source": [
    "### 1. Import the numpy package under the name `np` (★☆☆)\n",
    "импортируйте библиотеку numpy, переименовав ее на **np**"
   ]
  },
  {
   "cell_type": "code",
   "execution_count": 1,
   "metadata": {},
   "outputs": [],
   "source": [
    "import numpy as np"
   ]
  },
  {
   "cell_type": "markdown",
   "metadata": {},
   "source": [
    "### 2. Print the numpy version and the configuration (★☆☆)\n",
    "Выведите на печать версию numpy и ее конфигурацию"
   ]
  },
  {
   "cell_type": "code",
   "execution_count": 2,
   "metadata": {},
   "outputs": [
    {
     "name": "stdout",
     "output_type": "stream",
     "text": [
      "1.24.4\n",
      "openblas64__info:\n",
      "    libraries = ['openblas64_', 'openblas64_']\n",
      "    library_dirs = ['/usr/local/lib']\n",
      "    language = c\n",
      "    define_macros = [('HAVE_CBLAS', None), ('BLAS_SYMBOL_SUFFIX', '64_'), ('HAVE_BLAS_ILP64', None)]\n",
      "    runtime_library_dirs = ['/usr/local/lib']\n",
      "blas_ilp64_opt_info:\n",
      "    libraries = ['openblas64_', 'openblas64_']\n",
      "    library_dirs = ['/usr/local/lib']\n",
      "    language = c\n",
      "    define_macros = [('HAVE_CBLAS', None), ('BLAS_SYMBOL_SUFFIX', '64_'), ('HAVE_BLAS_ILP64', None)]\n",
      "    runtime_library_dirs = ['/usr/local/lib']\n",
      "openblas64__lapack_info:\n",
      "    libraries = ['openblas64_', 'openblas64_']\n",
      "    library_dirs = ['/usr/local/lib']\n",
      "    language = c\n",
      "    define_macros = [('HAVE_CBLAS', None), ('BLAS_SYMBOL_SUFFIX', '64_'), ('HAVE_BLAS_ILP64', None), ('HAVE_LAPACKE', None)]\n",
      "    runtime_library_dirs = ['/usr/local/lib']\n",
      "lapack_ilp64_opt_info:\n",
      "    libraries = ['openblas64_', 'openblas64_']\n",
      "    library_dirs = ['/usr/local/lib']\n",
      "    language = c\n",
      "    define_macros = [('HAVE_CBLAS', None), ('BLAS_SYMBOL_SUFFIX', '64_'), ('HAVE_BLAS_ILP64', None), ('HAVE_LAPACKE', None)]\n",
      "    runtime_library_dirs = ['/usr/local/lib']\n",
      "Supported SIMD extensions in this NumPy install:\n",
      "    baseline = SSE,SSE2,SSE3\n",
      "    found = SSSE3,SSE41,POPCNT,SSE42,AVX,F16C\n",
      "    not found = FMA3,AVX2,AVX512F,AVX512CD,AVX512_KNL,AVX512_KNM,AVX512_SKX,AVX512_CLX,AVX512_CNL,AVX512_ICL\n"
     ]
    }
   ],
   "source": [
    "print(np.__version__)\n",
    "np.show_config()"
   ]
  },
  {
   "cell_type": "markdown",
   "metadata": {},
   "source": [
    "### 3. Create a null vector of size 10 (★☆☆)\n",
    "Создайте нулевой вектор размера 10"
   ]
  },
  {
   "cell_type": "code",
   "execution_count": 3,
   "metadata": {},
   "outputs": [
    {
     "name": "stdout",
     "output_type": "stream",
     "text": [
      "Исходный вектор Z: \n",
      " [0. 0. 0. 0. 0. 0. 0. 0. 0. 0.]\n"
     ]
    }
   ],
   "source": [
    "Z = np.zeros(10)\n",
    "print('Исходный вектор Z: \\n', Z)"
   ]
  },
  {
   "cell_type": "markdown",
   "metadata": {},
   "source": [
    "***[np.zeros](https://numpy.org/doc/stable/reference/generated/numpy.zeros.html)*** - возвращает новый массив заполненный нулями.  "
   ]
  },
  {
   "cell_type": "markdown",
   "metadata": {},
   "source": [
    "#### 4. How to find the memory size of any array (★☆☆)\n",
    "Как найти размер памяти занимаемый вектором"
   ]
  },
  {
   "cell_type": "code",
   "execution_count": 4,
   "metadata": {},
   "outputs": [
    {
     "name": "stdout",
     "output_type": "stream",
     "text": [
      "Исходный вектор Z: \n",
      " [[0. 0. 0. 0. 0. 0. 0. 0. 0. 0.]\n",
      " [0. 0. 0. 0. 0. 0. 0. 0. 0. 0.]\n",
      " [0. 0. 0. 0. 0. 0. 0. 0. 0. 0.]\n",
      " [0. 0. 0. 0. 0. 0. 0. 0. 0. 0.]\n",
      " [0. 0. 0. 0. 0. 0. 0. 0. 0. 0.]\n",
      " [0. 0. 0. 0. 0. 0. 0. 0. 0. 0.]\n",
      " [0. 0. 0. 0. 0. 0. 0. 0. 0. 0.]\n",
      " [0. 0. 0. 0. 0. 0. 0. 0. 0. 0.]\n",
      " [0. 0. 0. 0. 0. 0. 0. 0. 0. 0.]\n",
      " [0. 0. 0. 0. 0. 0. 0. 0. 0. 0.]]\n",
      "Размер памяти занимаемый вектором Z: 800 байт\n"
     ]
    }
   ],
   "source": [
    "Z = np.zeros((10,10))\n",
    "print('Исходный вектор Z: \\n', Z)\n",
    "print(\"Размер памяти занимаемый вектором Z: %d байт\" % (Z.size * Z.itemsize))"
   ]
  },
  {
   "cell_type": "markdown",
   "metadata": {},
   "source": [
    "***[np.zeros](https://numpy.org/doc/stable/reference/generated/numpy.zeros.html)*** - возвращает новый массив заполненный нулями.  "
   ]
  },
  {
   "cell_type": "markdown",
   "metadata": {},
   "source": [
    "#### 5. How to get the documentation of the numpy add function from the command line? (★☆☆)  \n",
    "Как получить документацию по функции numpy add (сложение) из командной строки?"
   ]
  },
  {
   "cell_type": "code",
   "execution_count": 5,
   "metadata": {},
   "outputs": [
    {
     "name": "stdout",
     "output_type": "stream",
     "text": [
      "add(x1, x2, /, out=None, *, where=True, casting='same_kind', order='K', dtype=None, subok=True[, signature, extobj])\n",
      "\n",
      "Add arguments element-wise.\n",
      "\n",
      "Parameters\n",
      "----------\n",
      "x1, x2 : array_like\n",
      "    The arrays to be added.\n",
      "    If ``x1.shape != x2.shape``, they must be broadcastable to a common\n",
      "    shape (which becomes the shape of the output).\n",
      "out : ndarray, None, or tuple of ndarray and None, optional\n",
      "    A location into which the result is stored. If provided, it must have\n",
      "    a shape that the inputs broadcast to. If not provided or None,\n",
      "    a freshly-allocated array is returned. A tuple (possible only as a\n",
      "    keyword argument) must have length equal to the number of outputs.\n",
      "where : array_like, optional\n",
      "    This condition is broadcast over the input. At locations where the\n",
      "    condition is True, the `out` array will be set to the ufunc result.\n",
      "    Elsewhere, the `out` array will retain its original value.\n",
      "    Note that if an uninitialized `out` array is created via the default\n",
      "    ``out=None``, locations within it where the condition is False will\n",
      "    remain uninitialized.\n",
      "**kwargs\n",
      "    For other keyword-only arguments, see the\n",
      "    :ref:`ufunc docs <ufuncs.kwargs>`.\n",
      "\n",
      "Returns\n",
      "-------\n",
      "add : ndarray or scalar\n",
      "    The sum of `x1` and `x2`, element-wise.\n",
      "    This is a scalar if both `x1` and `x2` are scalars.\n",
      "\n",
      "Notes\n",
      "-----\n",
      "Equivalent to `x1` + `x2` in terms of array broadcasting.\n",
      "\n",
      "Examples\n",
      "--------\n",
      ">>> np.add(1.0, 4.0)\n",
      "5.0\n",
      ">>> x1 = np.arange(9.0).reshape((3, 3))\n",
      ">>> x2 = np.arange(3.0)\n",
      ">>> np.add(x1, x2)\n",
      "array([[  0.,   2.,   4.],\n",
      "       [  3.,   5.,   7.],\n",
      "       [  6.,   8.,  10.]])\n",
      "\n",
      "The ``+`` operator can be used as a shorthand for ``np.add`` on ndarrays.\n",
      "\n",
      ">>> x1 = np.arange(9.0).reshape((3, 3))\n",
      ">>> x2 = np.arange(3.0)\n",
      ">>> x1 + x2\n",
      "array([[ 0.,  2.,  4.],\n",
      "       [ 3.,  5.,  7.],\n",
      "       [ 6.,  8., 10.]])\n",
      "None\n"
     ]
    }
   ],
   "source": [
    "# ответ для ячейки в Jupyter Notebook\n",
    "print(np.info(np.add))"
   ]
  },
  {
   "cell_type": "code",
   "execution_count": 6,
   "metadata": {},
   "outputs": [
    {
     "name": "stdout",
     "output_type": "stream",
     "text": [
      "add(x1, x2, /, out=None, *, where=True, casting='same_kind', order='K', dtype=None, subok=True[, signature, extobj])\n",
      "\n",
      "Add arguments element-wise.\n",
      "\n",
      "Parameters\n",
      "----------\n",
      "x1, x2 : array_like\n",
      "    The arrays to be added.\n",
      "    If ``x1.shape != x2.shape``, they must be broadcastable to a common\n",
      "    shape (which becomes the shape of the output).\n",
      "out : ndarray, None, or tuple of ndarray and None, optional\n",
      "    A location into which the result is stored. If provided, it must have\n",
      "    a shape that the inputs broadcast to. If not provided or None,\n",
      "    a freshly-allocated array is returned. A tuple (possible only as a\n",
      "    keyword argument) must have length equal to the number of outputs.\n",
      "where : array_like, optional\n",
      "    This condition is broadcast over the input. At locations where the\n",
      "    condition is True, the `out` array will be set to the ufunc result.\n",
      "    Elsewhere, the `out` array will retain its original value.\n",
      "    Note that if an uninitialized `out` array is created via the default\n",
      "    ``out=None``, locations within it where the condition is False will\n",
      "    remain uninitialized.\n",
      "**kwargs\n",
      "    For other keyword-only arguments, see the\n",
      "    :ref:`ufunc docs <ufuncs.kwargs>`.\n",
      "\n",
      "Returns\n",
      "-------\n",
      "add : ndarray or scalar\n",
      "    The sum of `x1` and `x2`, element-wise.\n",
      "    This is a scalar if both `x1` and `x2` are scalars.\n",
      "\n",
      "Notes\n",
      "-----\n",
      "Equivalent to `x1` + `x2` in terms of array broadcasting.\n",
      "\n",
      "Examples\n",
      "--------\n",
      ">>> np.add(1.0, 4.0)\n",
      "5.0\n",
      ">>> x1 = np.arange(9.0).reshape((3, 3))\n",
      ">>> x2 = np.arange(3.0)\n",
      ">>> np.add(x1, x2)\n",
      "array([[  0.,   2.,   4.],\n",
      "       [  3.,   5.,   7.],\n",
      "       [  6.,   8.,  10.]])\n",
      "\n",
      "The ``+`` operator can be used as a shorthand for ``np.add`` on ndarrays.\n",
      "\n",
      ">>> x1 = np.arange(9.0).reshape((3, 3))\n",
      ">>> x2 = np.arange(3.0)\n",
      ">>> x1 + x2\n",
      "array([[ 0.,  2.,  4.],\n",
      "       [ 3.,  5.,  7.],\n",
      "       [ 6.,  8., 10.]])\n"
     ]
    }
   ],
   "source": [
    "# вызов документации через командную строку вызываемую из ячейки Jupyter Notebook\n",
    "!python3 -c \"import numpy; numpy.info(numpy.add)\""
   ]
  },
  {
   "cell_type": "markdown",
   "id": "722308bc",
   "metadata": {},
   "source": [
    "***[np.info](https://numpy.org/doc/stable/reference/generated/numpy.info.html)*** - Возвращает справочную информацию для функции, класса или модуля.  "
   ]
  },
  {
   "cell_type": "markdown",
   "id": "729a843f",
   "metadata": {},
   "source": [
    "#### 6. Create a null vector of size 10 but the fifth value which is 1 (★☆☆)\n",
    "Как создать вектор размера 10, пятый элемент которого = 1"
   ]
  },
  {
   "cell_type": "code",
   "execution_count": 7,
   "id": "8c6ffbc4",
   "metadata": {},
   "outputs": [
    {
     "name": "stdout",
     "output_type": "stream",
     "text": [
      "Нулевой вектор Z, в котором пятый элемент равен 1: \n",
      " [0. 0. 0. 0. 1. 0. 0. 0. 0. 0.]\n"
     ]
    }
   ],
   "source": [
    "Z = np.zeros(10)\n",
    "Z[4] = 1\n",
    "print('Нулевой вектор Z, в котором пятый элемент равен 1: \\n', Z)"
   ]
  },
  {
   "cell_type": "markdown",
   "id": "4326d651",
   "metadata": {},
   "source": [
    "***[np.zeros](https://numpy.org/doc/stable/reference/generated/numpy.zeros.html)*** - возвращает новый массив заполненный нулями.  "
   ]
  },
  {
   "cell_type": "markdown",
   "id": "bd8e18be",
   "metadata": {},
   "source": [
    "#### 7. Create a vector with values ranging from 10 to 49 (★☆☆)\n",
    "Создайте вектор со значениями от 10 до 49"
   ]
  },
  {
   "cell_type": "code",
   "execution_count": 8,
   "id": "fd251015",
   "metadata": {},
   "outputs": [
    {
     "name": "stdout",
     "output_type": "stream",
     "text": [
      "Исходный вектор Z: \n",
      " [10 11 12 13 14 15 16 17 18 19 20 21 22 23 24 25 26 27 28 29 30 31 32 33 34 35 36 37 38 39 40 41 42 43 44 45 46 47 48 49]\n"
     ]
    }
   ],
   "source": [
    "np.set_printoptions(linewidth=130)\n",
    "Z = np.arange(start=10,stop=50)\n",
    "print('Исходный вектор Z: \\n', Z)"
   ]
  },
  {
   "cell_type": "markdown",
   "id": "2d76830a",
   "metadata": {},
   "source": [
    "***[np.arange](https://numpy.org/doc/stable/reference/generated/numpy.arange.html)*** - Возвращает равномерно распределенные значения в пределах заданного полуоткрытого интервала [start. stop). Для целочисленных аргументов функция эквивалентна встроенной функции range Python , но возвращает ndarray, а не список.  \n",
    "\n",
    "***[np.set_printoptions](https://numpy.org/doc/stable/reference/generated/numpy.set_printoptions.html)*** - Установка параметров печати. Параметры этого метода позволяют определить способы отображения чисел с плавающей запятой, массивов и других объектов NumPy.   \n",
    " linewidth - кол-во знаков печати в ширину.  "
   ]
  },
  {
   "cell_type": "markdown",
   "id": "2651d10b",
   "metadata": {},
   "source": [
    "#### 8. Reverse a vector (first element becomes last) (★☆☆)\n",
    "Инвертировать вектор (первый элемент становится последним)"
   ]
  },
  {
   "cell_type": "code",
   "execution_count": 9,
   "id": "81c27455",
   "metadata": {},
   "outputs": [
    {
     "name": "stdout",
     "output_type": "stream",
     "text": [
      "Исходный вектор Z: \n",
      " [ 0  1  2  3  4  5  6  7  8  9 10 11 12 13 14 15 16 17 18 19 20 21 22 23 24 25 26 27 28 29 30 31 32 33 34 35 36 37 38 39 40 41 42\n",
      " 43 44 45 46 47 48 49]\n",
      "Инвентированный вектор Z: \n",
      " [49 48 47 46 45 44 43 42 41 40 39 38 37 36 35 34 33 32 31 30 29 28 27 26 25 24 23 22 21 20 19 18 17 16 15 14 13 12 11 10  9  8  7\n",
      "  6  5  4  3  2  1  0]\n"
     ]
    }
   ],
   "source": [
    "Z = np.arange(50)\n",
    "print('Исходный вектор Z: \\n', Z)\n",
    "Z = Z[::-1]\n",
    "print('Инвентированный вектор Z: \\n', Z)"
   ]
  },
  {
   "cell_type": "markdown",
   "id": "f12a116f",
   "metadata": {},
   "source": [
    "***[np.arange](https://numpy.org/doc/stable/reference/generated/numpy.arange.html)*** - Возвращает равномерно распределенные значения в пределах заданного полуоткрытого интервала [start. end). Для целочисленных аргументов функция эквивалентна встроенной функции range Python , но возвращает ndarray, а не список.  \n",
    "Если вместо start и stop указывается только одно число, то по умолчанию start равен нулю, а stop равно заданному числу.  "
   ]
  },
  {
   "cell_type": "markdown",
   "id": "b02201e7",
   "metadata": {},
   "source": [
    "#### 9. Create a 3x3 matrix with values ranging from 0 to 8 (★☆☆)\n",
    "Создайте матрицу 3x3 со значениями от 0 до 8\n"
   ]
  },
  {
   "cell_type": "code",
   "execution_count": 10,
   "id": "6ab05a76",
   "metadata": {},
   "outputs": [
    {
     "name": "stdout",
     "output_type": "stream",
     "text": [
      "Исходная матрица Z: \n",
      " [[0 1 2]\n",
      " [3 4 5]\n",
      " [6 7 8]]\n"
     ]
    }
   ],
   "source": [
    "Z = np.arange(9).reshape(3, 3)\n",
    "print('Исходная матрица Z: \\n', Z)"
   ]
  },
  {
   "cell_type": "markdown",
   "id": "6524b662",
   "metadata": {},
   "source": [
    "***[np.arange](https://numpy.org/doc/stable/reference/generated/numpy.arange.html)*** - Возвращает равномерно распределенные значения в пределах заданного полуоткрытого интервала [start. stop). Для целочисленных аргументов функция эквивалентна встроенной функции range Python , но возвращает ndarray, а не список.  \n",
    "Если вместо start и stop указывается только одно число, то по умолчанию start равен нулю, а stop равно заданному числу.  \n",
    "\n",
    "***[np.reshape](https://numpy.org/doc/stable/reference/generated/numpy.reshape.html)*** - Изменяет размерность вектора на новую без изменения его данных.  "
   ]
  },
  {
   "cell_type": "markdown",
   "id": "e44bdfe4",
   "metadata": {},
   "source": [
    "### 10. Find indices of non-zero elements from array \\[1,2,0,0,4,0\\] (★☆☆)\n",
    "Найдите индексы ненулевых элементов из вектора \\[1,2,0,0,4,0\\]"
   ]
  },
  {
   "cell_type": "code",
   "execution_count": 11,
   "id": "507fe7af",
   "metadata": {},
   "outputs": [
    {
     "name": "stdout",
     "output_type": "stream",
     "text": [
      "Исходный вектор Z: \n",
      " [1 2 0 0 4 0]\n",
      "Индексы ненулевых значений: \n",
      " (array([0, 1, 4]),)\n"
     ]
    }
   ],
   "source": [
    "Z = np.array([1,2,0,0,4,0])\n",
    "print('Исходный вектор Z: \\n', Z)\n",
    "nz = np.nonzero(Z)\n",
    "print('Индексы ненулевых значений: \\n', nz)"
   ]
  },
  {
   "cell_type": "markdown",
   "id": "75dca46a",
   "metadata": {},
   "source": [
    "***[np.nonzero](https://numpy.org/doc/stable/reference/generated/numpy.ndarray.nonzero.html)*** -  Возвращает индексы элементов, которые не равны нулю.  "
   ]
  },
  {
   "cell_type": "markdown",
   "id": "dca61ac6",
   "metadata": {},
   "source": [
    "#### 11. Create a 3x3 identity matrix (★☆☆)\n",
    "Создайте единичную матрицу 3x3"
   ]
  },
  {
   "cell_type": "code",
   "execution_count": 12,
   "id": "8dd5ac4c",
   "metadata": {},
   "outputs": [
    {
     "name": "stdout",
     "output_type": "stream",
     "text": [
      "Исходная матрица Z: \n",
      " [[1. 0. 0.]\n",
      " [0. 1. 0.]\n",
      " [0. 0. 1.]]\n"
     ]
    }
   ],
   "source": [
    "Z = np.eye(3)\n",
    "print('Исходная матрица Z: \\n', Z)"
   ]
  },
  {
   "cell_type": "markdown",
   "id": "2bb11067",
   "metadata": {},
   "source": [
    "***[np.eye](https://numpy.org/doc/stable/reference/generated/numpy.eye.html)*** - Возвращает двумерный массив с единицами по диагонали и нулями в других местах.  "
   ]
  },
  {
   "cell_type": "markdown",
   "id": "ad3a31f2",
   "metadata": {},
   "source": [
    "#### 12. Create a 3x3x3 array with random values (★☆☆)\n",
    "Создайте массив 3 на 3 на 3 со случайными значениями"
   ]
  },
  {
   "cell_type": "code",
   "execution_count": 13,
   "id": "400a628c",
   "metadata": {},
   "outputs": [
    {
     "name": "stdout",
     "output_type": "stream",
     "text": [
      "Исходный вектор Z: \n",
      " [[[2 1 2]\n",
      "  [1 1 2]\n",
      "  [1 0 2]]\n",
      "\n",
      " [[2 2 2]\n",
      "  [2 2 0]\n",
      "  [0 2 0]]\n",
      "\n",
      " [[0 0 1]\n",
      "  [1 2 2]\n",
      "  [1 0 2]]]\n"
     ]
    }
   ],
   "source": [
    "Z = np.random.randint(low=0 , high= 3,size=(3,3,3))\n",
    "print('Исходный вектор Z: \\n', Z)"
   ]
  },
  {
   "cell_type": "markdown",
   "id": "266c2d8a",
   "metadata": {},
   "source": [
    "***[np.random.randint](https://numpy.org/doc/stable/reference/random/generated/numpy.random.randint.html)*** - Возвращает случайные целые числа в «полуоткрытом» интервале [low, high) в виде вектора размера size.  "
   ]
  },
  {
   "cell_type": "markdown",
   "id": "f746901b",
   "metadata": {},
   "source": [
    "#### 13. Create a 10x10 array with random values and find the minimum and maximum values (★☆☆)\n",
    "Создайте массив 10x10 со случайными значениями и найдите минимальное и максимальное значения"
   ]
  },
  {
   "cell_type": "code",
   "execution_count": 14,
   "id": "cd0b996a",
   "metadata": {},
   "outputs": [
    {
     "name": "stdout",
     "output_type": "stream",
     "text": [
      "Исходный вектор Z 10x10: \n",
      " [[0.84214 0.34305 0.08847 0.60495 0.34415 0.68682 0.55506 0.362   0.32189 0.8848 ]\n",
      " [0.41775 0.55125 0.78438 0.76969 0.91617 0.17759 0.59365 0.96932 0.7138  0.95318]\n",
      " [0.75134 0.96673 0.5255  0.71258 0.89298 0.94053 0.09316 0.83515 0.93847 0.70279]\n",
      " [0.23488 0.53271 0.60431 0.74045 0.82548 0.19923 0.9141  0.85132 0.41283 0.29838]\n",
      " [0.31358 0.4934  0.54243 0.7745  0.5379  0.24394 0.05537 0.26386 0.27072 0.05951]\n",
      " [0.12564 0.95968 0.36912 0.51383 0.19901 0.52317 0.73857 0.6283  0.09924 0.95066]\n",
      " [0.68421 0.12351 0.40928 0.31766 0.13869 0.16743 0.85288 0.81615 0.92787 0.54382]\n",
      " [0.48939 0.8416  0.52557 0.46741 0.33902 0.23993 0.84642 0.87184 0.39307 0.47603]\n",
      " [0.8422  0.72884 0.11598 0.8513  0.39721 0.46847 0.53515 0.64611 0.93167 0.16443]\n",
      " [0.38516 0.54397 0.41147 0.58596 0.0125  0.77628 0.19326 0.48391 0.84599 0.22693]]\n",
      "Минимальное значение:  0.012497600646311113 \n",
      "Максимальное значение:  0.9693175841731473\n"
     ]
    }
   ],
   "source": [
    "np.set_printoptions(suppress=True, precision=5, linewidth=100)\n",
    "Z = np.random.random(size=(10,10))\n",
    "print('Исходный вектор Z 10x10: \\n', Z)\n",
    "\n",
    "Zmin, Zmax = Z.min(), Z.max()\n",
    "print('Минимальное значение: ',  Zmin, '\\nМаксимальное значение: ', Zmax)"
   ]
  },
  {
   "cell_type": "markdown",
   "id": "79acaf70",
   "metadata": {},
   "source": [
    "***[np.random.random](https://numpy.org/doc/stable/reference/random/generated/numpy.random.random.html)*** - Возвращает случайные вещественные числа в «полуоткрытом» интервале [0, 1.0) в виде вектора размера size.  \n",
    "\n",
    "***[np.set_printoptions](https://numpy.org/doc/stable/reference/generated/numpy.set_printoptions.html)*** - Установка параметров печати. Параметры этого метода позволяют определить способы отображения чисел с плавающей запятой, массивов и других объектов NumPy.  \n",
    "\n",
    "В представленном примере:  \n",
    "- suppress = True - Если True, всегда печатать числа с плавающей запятой, используя запись с фиксированной запятой, и в этом случае числа, равные нулю в текущей точности, будут печататься как ноль. Если False, то экспоненциальное представление используется, когда абсолютное значение наименьшего числа < 1e-4 или отношение максимального абсолютного значения к минимальному > 1e3. Значение по умолчанию — False.  \n",
    "- precision - (точность) кол-во выводимых знаков после запятой,  \n",
    "- linewidth - кол-во знаков печати в ширину.  \n"
   ]
  },
  {
   "cell_type": "markdown",
   "id": "7e6e4867",
   "metadata": {},
   "source": [
    "#### 14. Create a random vector of size 30 and find the mean value (★☆☆)\n",
    "Создайте случайный вектор размером 30 и найдите среднее значение"
   ]
  },
  {
   "cell_type": "code",
   "execution_count": 15,
   "id": "f26834ee",
   "metadata": {},
   "outputs": [
    {
     "name": "stdout",
     "output_type": "stream",
     "text": [
      "Исходный вектор Z: \n",
      " [0.7 0.5 0.8 0.5 0.  0.1 0.7 0.2 0.5 0.5 0.4 0.8 0.5 0.9 0.9 0.  0.2 0.5 0.4 0.9 0.8 0.3 0.1 0.7 0.5 0.5 0.  0.4 0.5 0.2]\n",
      "Среднее значение вектора Z: 0.46731490260208125\n"
     ]
    }
   ],
   "source": [
    "np.set_printoptions(precision=1, linewidth=130)\n",
    "Z = np.random.random(30)\n",
    "print('Исходный вектор Z: \\n', Z)\n",
    "m = Z.mean()\n",
    "print('Среднее значение вектора Z:', m)"
   ]
  },
  {
   "cell_type": "markdown",
   "id": "234dd9f8",
   "metadata": {},
   "source": [
    "***[np.mean](https://numpy.org/doc/stable/reference/generated/numpy.mean.html)*** - Возвращает среднее значение элементов массива.  \n",
    "\n",
    "***[np.set_printoptions](https://numpy.org/doc/stable/reference/generated/numpy.set_printoptions.html)*** - Установка параметров печати. Параметры этого метода позволяют определить способы отображения чисел с плавающей запятой, массивов и других объектов NumPy.  \n",
    "\n",
    "В представленном примере:  \n",
    "- precision - (точность) кол-во выводимых знаков после запятой,  \n",
    "- linewidth - кол-во знаков печати в ширину.  "
   ]
  },
  {
   "cell_type": "markdown",
   "id": "a8031a2d",
   "metadata": {},
   "source": [
    "#### 15. Create a 2d array with 1 on the border and 0 inside (★☆☆)\n",
    "Создайте двумерный-массив с 1(единицами) на границе и 0(нулями) внутри"
   ]
  },
  {
   "cell_type": "code",
   "execution_count": 16,
   "id": "a6e7d459",
   "metadata": {},
   "outputs": [
    {
     "name": "stdout",
     "output_type": "stream",
     "text": [
      "Исходный вектор Z: \n",
      " [[1. 1. 1. 1. 1. 1. 1. 1. 1. 1.]\n",
      " [1. 1. 1. 1. 1. 1. 1. 1. 1. 1.]\n",
      " [1. 1. 1. 1. 1. 1. 1. 1. 1. 1.]\n",
      " [1. 1. 1. 1. 1. 1. 1. 1. 1. 1.]\n",
      " [1. 1. 1. 1. 1. 1. 1. 1. 1. 1.]\n",
      " [1. 1. 1. 1. 1. 1. 1. 1. 1. 1.]\n",
      " [1. 1. 1. 1. 1. 1. 1. 1. 1. 1.]\n",
      " [1. 1. 1. 1. 1. 1. 1. 1. 1. 1.]\n",
      " [1. 1. 1. 1. 1. 1. 1. 1. 1. 1.]\n",
      " [1. 1. 1. 1. 1. 1. 1. 1. 1. 1.]]\n",
      "Вектор Z с нулями внутри: \n",
      " [[1. 1. 1. 1. 1. 1. 1. 1. 1. 1.]\n",
      " [1. 0. 0. 0. 0. 0. 0. 0. 0. 1.]\n",
      " [1. 0. 0. 0. 0. 0. 0. 0. 0. 1.]\n",
      " [1. 0. 0. 0. 0. 0. 0. 0. 0. 1.]\n",
      " [1. 0. 0. 0. 0. 0. 0. 0. 0. 1.]\n",
      " [1. 0. 0. 0. 0. 0. 0. 0. 0. 1.]\n",
      " [1. 0. 0. 0. 0. 0. 0. 0. 0. 1.]\n",
      " [1. 0. 0. 0. 0. 0. 0. 0. 0. 1.]\n",
      " [1. 0. 0. 0. 0. 0. 0. 0. 0. 1.]\n",
      " [1. 1. 1. 1. 1. 1. 1. 1. 1. 1.]]\n"
     ]
    }
   ],
   "source": [
    "Z = np.ones((10,10))\n",
    "print('Исходный вектор Z: \\n', Z)\n",
    "Z[1:-1,1:-1] = 0\n",
    "print('Вектор Z с нулями внутри: \\n', Z)"
   ]
  },
  {
   "cell_type": "markdown",
   "id": "18558202",
   "metadata": {},
   "source": [
    "***[np.ones](https://numpy.org/doc/stable/reference/generated/numpy.ones.html)*** - Возвращает новый массив, заполненный единицами.  \n"
   ]
  },
  {
   "cell_type": "markdown",
   "id": "e749d197",
   "metadata": {},
   "source": [
    "#### 16. How to add a border (filled with 0's) around an existing array? (★☆☆)\n",
    "Как добавить границу (заполненную нулями) вокруг существующего массива (например: массив 5 на 5 из единиц окружить нулями, чтобы он превратился в массив 7 на 7?"
   ]
  },
  {
   "cell_type": "code",
   "execution_count": 17,
   "id": "997436f5",
   "metadata": {},
   "outputs": [
    {
     "name": "stdout",
     "output_type": "stream",
     "text": [
      "Исходный вектор Z: \n",
      " [[1. 1. 1. 1. 1.]\n",
      " [1. 1. 1. 1. 1.]\n",
      " [1. 1. 1. 1. 1.]\n",
      " [1. 1. 1. 1. 1.]\n",
      " [1. 1. 1. 1. 1.]]\n",
      "Исходный вектор Z окруженный нулями: \n",
      " [[0. 0. 0. 0. 0. 0. 0.]\n",
      " [0. 1. 1. 1. 1. 1. 0.]\n",
      " [0. 1. 1. 1. 1. 1. 0.]\n",
      " [0. 1. 1. 1. 1. 1. 0.]\n",
      " [0. 1. 1. 1. 1. 1. 0.]\n",
      " [0. 1. 1. 1. 1. 1. 0.]\n",
      " [0. 0. 0. 0. 0. 0. 0.]]\n"
     ]
    }
   ],
   "source": [
    "Z = np.ones((5,5))\n",
    "print('Исходный вектор Z: \\n', Z)\n",
    "Z = np.pad(Z, pad_width=1, mode='constant', constant_values=0)\n",
    "print('Исходный вектор Z окруженный нулями: \\n',Z)"
   ]
  },
  {
   "cell_type": "code",
   "execution_count": 18,
   "id": "75ae8032",
   "metadata": {},
   "outputs": [
    {
     "name": "stdout",
     "output_type": "stream",
     "text": [
      "Исходный вектор Z: \n",
      " [[1. 1. 1. 1. 1.]\n",
      " [1. 1. 1. 1. 1.]\n",
      " [1. 1. 1. 1. 1.]\n",
      " [1. 1. 1. 1. 1.]\n",
      " [1. 1. 1. 1. 1.]]\n",
      "Исходный вектор Z с нулями по краю: \n",
      " [[0. 0. 0. 0. 0.]\n",
      " [0. 1. 1. 1. 0.]\n",
      " [0. 1. 1. 1. 0.]\n",
      " [0. 1. 1. 1. 0.]\n",
      " [0. 0. 0. 0. 0.]]\n"
     ]
    }
   ],
   "source": [
    "# если нужно отрезать (обнулить) от существующего массива\n",
    "Z = np.ones((5,5))\n",
    "print('Исходный вектор Z: \\n', Z)\n",
    "Z[:, [0, -1]] = 0\n",
    "Z[[0, -1], :] = 0\n",
    "print('Исходный вектор Z с нулями по краю: \\n',Z)"
   ]
  },
  {
   "cell_type": "markdown",
   "id": "2b4f1108",
   "metadata": {},
   "source": [
    "***[np.ones](https://numpy.org/doc/stable/reference/generated/numpy.ones.html)*** - Возвращает новый массив, заполненный единицами.  \n",
    "\n",
    "***[np.pad](https://numpy.org/doc/stable/reference/generated/numpy.pad.html)*** - Заполняет края массива, заданной шириной (pad_width) и по заданному правилу.  "
   ]
  },
  {
   "cell_type": "markdown",
   "id": "d5794f42",
   "metadata": {},
   "source": [
    "#### 17. What is the result of the following expression? (★☆☆)\n",
    "Каков результат следующих выражений ?\n",
    "```python\n",
    "0 * np.nan\n",
    "np.nan == np.nan\n",
    "np.inf > np.nan\n",
    "np.nan - np.nan\n",
    "np.nan in set([np.nan])\n",
    "0.3 == 3 * 0.1\n",
    "```"
   ]
  },
  {
   "cell_type": "code",
   "execution_count": 19,
   "id": "a56c40f2",
   "metadata": {},
   "outputs": [
    {
     "name": "stdout",
     "output_type": "stream",
     "text": [
      "nan\n",
      "False\n",
      "False\n",
      "nan\n",
      "True\n",
      "False\n"
     ]
    }
   ],
   "source": [
    "print(0 * np.nan)\n",
    "print(np.nan == np.nan)\n",
    "print(np.inf > np.nan)\n",
    "print(np.nan - np.nan)\n",
    "print(np.nan in set([np.nan]))\n",
    "print(0.3 == 3 * 0.1)"
   ]
  },
  {
   "cell_type": "markdown",
   "id": "01057876",
   "metadata": {},
   "source": [
    "#### 18. Create a 5x5 matrix with values 1,2,3,4 just below the diagonal (★☆☆)\n",
    "Создайте матрицу 5 на 5 со значениями 1,2,3,4 сразу ниже диагонали"
   ]
  },
  {
   "cell_type": "code",
   "execution_count": 20,
   "id": "933b3d0b",
   "metadata": {},
   "outputs": [
    {
     "name": "stdout",
     "output_type": "stream",
     "text": [
      "Массив для диагональной матрицы: \n",
      " [1 2 3 4]\n",
      "Матрица со сдвинутой вниз диагональю: \n",
      " [[0 0 0 0 0]\n",
      " [1 0 0 0 0]\n",
      " [0 2 0 0 0]\n",
      " [0 0 3 0 0]\n",
      " [0 0 0 4 0]]\n"
     ]
    }
   ],
   "source": [
    "# исходный массив для диагональной матрицы\n",
    "A = np.arange(1,5)\n",
    "print('Массив для диагональной матрицы: \\n', A)\n",
    "Z = np.diag(A,k=-1)\n",
    "print('Матрица со сдвинутой вниз диагональю: \\n', Z)"
   ]
  },
  {
   "cell_type": "markdown",
   "id": "515f7078",
   "metadata": {},
   "source": [
    "***[np.diag](https://numpy.org/doc/stable/reference/generated/numpy.diag.html)*** - создает диагональную матрицу.  \n",
    "k - необязательный параметр int. Шаг смещения диагонали. Значение по умолчанию — 0. При k>0 диагональ смещается выше главной диагонали, а при k<0 для смещения диагоналей ниже главной диагонали.  \n",
    "\n",
    "***[np.arange](https://numpy.org/doc/stable/reference/generated/numpy.arange.html)*** - Возвращает равномерно распределенные значения в пределах заданного полуоткрытого интервала [start. stop). Для целочисленных аргументов функция эквивалентна встроенной функции range Python , но возвращает ndarray, а не список.  \n",
    "Если вместо start и stop указывается только одно число, то по умолчанию start равен нулю, а stop равно заданному числу.  "
   ]
  },
  {
   "cell_type": "markdown",
   "id": "a78375b9",
   "metadata": {},
   "source": [
    "#### 19. Create a 8x8 matrix and fill it with a checkerboard pattern (★☆☆)\n",
    "Создайте матрицу 8x8 и залейте ее шахматным узором\n",
    "Пояснение к заданию: не используйте функцию tile. Ниже будет аналогичное задание 21 с использованием функции tile"
   ]
  },
  {
   "cell_type": "code",
   "execution_count": 21,
   "id": "9e22e8f5",
   "metadata": {},
   "outputs": [
    {
     "name": "stdout",
     "output_type": "stream",
     "text": [
      "Исходный вектор с нулями Z: \n",
      " [[0 0 0 0 0 0 0 0]\n",
      " [0 0 0 0 0 0 0 0]\n",
      " [0 0 0 0 0 0 0 0]\n",
      " [0 0 0 0 0 0 0 0]\n",
      " [0 0 0 0 0 0 0 0]\n",
      " [0 0 0 0 0 0 0 0]\n",
      " [0 0 0 0 0 0 0 0]\n",
      " [0 0 0 0 0 0 0 0]]\n",
      "Вектор залитый единицами в шахматном узоре Z: \n",
      " [[0 1 0 1 0 1 0 1]\n",
      " [1 0 1 0 1 0 1 0]\n",
      " [0 1 0 1 0 1 0 1]\n",
      " [1 0 1 0 1 0 1 0]\n",
      " [0 1 0 1 0 1 0 1]\n",
      " [1 0 1 0 1 0 1 0]\n",
      " [0 1 0 1 0 1 0 1]\n",
      " [1 0 1 0 1 0 1 0]]\n"
     ]
    }
   ],
   "source": [
    "Z = np.zeros((8,8),dtype=int)\n",
    "print('Исходный вектор с нулями Z: \\n', Z)\n",
    "Z[1::2,::2] = 1\n",
    "Z[::2,1::2] = 1\n",
    "print('Вектор залитый единицами в шахматном узоре Z: \\n', Z)"
   ]
  },
  {
   "cell_type": "markdown",
   "id": "73189f31",
   "metadata": {},
   "source": [
    "***[np.zeros](https://numpy.org/doc/stable/reference/generated/numpy.zeros.html)*** - возвращает новый массив заполненный нулями.  \n",
    "Параметр dtype - желаемый тип данных для массива. Значение по умолчанию = numpy.float64.  "
   ]
  },
  {
   "cell_type": "markdown",
   "id": "2d8109ef",
   "metadata": {},
   "source": [
    "#### Extra task (Дополнительное задание)\n",
    "#### Consider a (5,6) shape array, what is the index (x,y,z) of the 10th element?  \n",
    "Рассмотрим массив формы (5,6), каков индекс (x, y, z) 10-го элемента?  \n",
    "Пояснения к заданию: в оригинале задания счет элементов подразумевался с 1, а не с нуля"
   ]
  },
  {
   "cell_type": "code",
   "execution_count": 22,
   "id": "d0783aa0",
   "metadata": {},
   "outputs": [
    {
     "name": "stdout",
     "output_type": "stream",
     "text": [
      "Исходный вектор Z: \n",
      " [[ 1  3  5  7  9 11]\n",
      " [13 15 17 19 21 23]\n",
      " [25 27 29 31 33 35]\n",
      " [37 39 41 43 45 47]\n",
      " [49 51 53 55 57 59]]\n",
      "Индекс элемента 19, (десятого) по порядку в векторе Z: (1, 3)\n",
      "Индекс элемента 19, (десятого) по порядку в векторе Z: (номер строки: 1, номер столбца: 3)\n"
     ]
    }
   ],
   "source": [
    "num_row = 5  # число строк матрицы\n",
    "num_col = 6  # число столбцов матрицы\n",
    "\n",
    "Z = np.arange(start=1,stop=num_row*num_col*2+1,step=2).reshape(num_row, num_col)\n",
    "print('Исходный вектор Z: \\n', Z)\n",
    "\n",
    "N = 10  # номер индекса (предполагаем, что счет элемментов начинается с 1 (единицы))\n",
    "tuple_coordinate_of_index = np.unravel_index(indices=N-1,shape=Z.shape)  # координаты заданного индекса\n",
    "index_of_row = tuple_coordinate_of_index[0]\n",
    "index_of_col = tuple_coordinate_of_index[1]\n",
    "elem = Z[index_of_row,index_of_col]\n",
    "print(f'Индекс элемента {elem}, (десятого) по порядку в векторе Z: {tuple_coordinate_of_index}')\n",
    "\n",
    "print(f'Индекс элемента {elem}, (десятого) по порядку в векторе Z: (номер строки: {index_of_row}, номер столбца: {index_of_col})')"
   ]
  },
  {
   "cell_type": "markdown",
   "id": "caeaca0f",
   "metadata": {},
   "source": [
    "***[np.arange](https://numpy.org/doc/stable/reference/generated/numpy.arange.html)*** - Возвращает равномерно распределенные значения в пределах заданного полуоткрытого интервала [start. stop). Для целочисленных аргументов функция эквивалентна встроенной функции range Python с шагом step, но возвращает ndarray, а не список. Размер шага по умолчанию равен 1.  \n",
    " \n",
    "***[np.unravel_index](https://numpy.org/doc/stable/reference/generated/numpy.unravel_index.html)*** - Преобразует привычный плоский индекс вектора или массив плоских индексов в кортеж массивов координат.  \n",
    "Аргументы:  \n",
    "- shape = размерность массива.  \n",
    "- indices = индекс плоского массива или массив плоских индексов.  "
   ]
  },
  {
   "cell_type": "markdown",
   "id": "89050004",
   "metadata": {},
   "source": [
    "#### 20. Consider a (6,7,8) shape array, what is the index (x,y,z) of the 100th element?\n",
    "Рассмотрим массив формы (6,7,8), каков индекс (x, y, z) 100-го элемента?  \n",
    "Пояснения к заданию: в оригинале задания счет элементов подразумевался с 1, а не с нуля"
   ]
  },
  {
   "cell_type": "code",
   "execution_count": 23,
   "id": "809bf494",
   "metadata": {},
   "outputs": [
    {
     "name": "stdout",
     "output_type": "stream",
     "text": [
      "(1, 5, 3)\n"
     ]
    }
   ],
   "source": [
    "N = 100  # номер индекса (предполагаем, что счет элемментов начинается с 1 (единицы))\n",
    "print(np.unravel_index(indices=N-1,shape=(6,7,8)))"
   ]
  },
  {
   "cell_type": "markdown",
   "id": "3ce385e8",
   "metadata": {},
   "source": [
    "***[np.unravel_index](https://numpy.org/doc/stable/reference/generated/numpy.unravel_index.html)*** - Преобразует привычный плоский индекс вектора или массив плоских индексов в кортеж массивов координат.  \n",
    "shape = размерность массива.  \n",
    "indices = индекс плоского массива или массив плоских индексов.  "
   ]
  },
  {
   "cell_type": "markdown",
   "id": "bdc2adc3",
   "metadata": {},
   "source": [
    "#### 21. Create a checkerboard 8x8 matrix using the tile function (★☆☆)\n",
    "Создайте матрицу шахматной доски 8x8, используя функцию tile"
   ]
  },
  {
   "cell_type": "code",
   "execution_count": 24,
   "id": "83ebfafc",
   "metadata": {},
   "outputs": [
    {
     "name": "stdout",
     "output_type": "stream",
     "text": [
      "Форма одной маленькой плитки z,  которой будем заполнять массив Z: \n",
      " [[0 1]\n",
      " [1 0]]\n",
      "Искомый массив Z: \n",
      " [[0 1 0 1 0 1 0 1]\n",
      " [1 0 1 0 1 0 1 0]\n",
      " [0 1 0 1 0 1 0 1]\n",
      " [1 0 1 0 1 0 1 0]\n",
      " [0 1 0 1 0 1 0 1]\n",
      " [1 0 1 0 1 0 1 0]\n",
      " [0 1 0 1 0 1 0 1]\n",
      " [1 0 1 0 1 0 1 0]]\n"
     ]
    }
   ],
   "source": [
    "z = np.array([[0,1],[1,0]])\n",
    "print('Форма одной маленькой плитки z,  которой будем заполнять массив Z: \\n', z)\n",
    "Z = np.tile(A=z, reps=(4,4))\n",
    "print('Искомый массив Z: \\n', Z)"
   ]
  },
  {
   "cell_type": "markdown",
   "id": "1e832e3d",
   "metadata": {},
   "source": [
    "***[np.tile](https://numpy.org/doc/stable/reference/generated/numpy.tile.html)*** - Строит массив, повторив массив A количество раз, заданное повторениями reps, по каждой оси.  "
   ]
  },
  {
   "cell_type": "markdown",
   "id": "f6610917",
   "metadata": {},
   "source": [
    "#### 22. Normalize a 5x5 random matrix (★☆☆)\n",
    "Нормализовать матрицу случайных значений 5 на 5  \n",
    "\n",
    "**!!!Внимание!!!** в английском языке есть два понятия standardization и normalization, которые означают стандартизация и нормализация. Эти понятия различаются. Нормализация - это операция приведения матрицы к норме. При этом нормы бывают разные (подробнее о нормах можно посмотреть по [ссылке](https://ru.wikipedia.org/w/index.php?title=%D0%9D%D0%BE%D1%80%D0%BC%D0%B0_%D0%BC%D0%B0%D1%82%D1%80%D0%B8%D1%86%D1%8B&stable=1)). В оригинале ответом является стандартизация, а не нормализация. Я посчитал это ответ неверным и привел решение для нормализации.  "
   ]
  },
  {
   "cell_type": "markdown",
   "id": "2d36a750",
   "metadata": {},
   "source": [
    "***Уточнение для условия упражнения:***  \n",
    "Давайте нормализуем матрицу по L1 норме. Это означает что после нормализации сумма элементов в каждой сроке матрицы будет давать единицу.  "
   ]
  },
  {
   "cell_type": "code",
   "execution_count": 25,
   "id": "23c75343",
   "metadata": {},
   "outputs": [
    {
     "name": "stdout",
     "output_type": "stream",
     "text": [
      "Исходная матрица Z: \n",
      " [[0.0174 0.6865 0.9183 0.6524 0.3352]\n",
      " [0.5022 0.3571 0.0324 0.437  0.4287]\n",
      " [0.1719 0.274  0.9266 0.7253 0.5902]\n",
      " [0.1056 0.5538 0.3692 0.8306 0.8534]\n",
      " [0.6868 0.9092 0.9537 0.9144 0.6152]]\n",
      "Проверим, что матрица Z НЕ нормализованна по L1-норме: \n",
      " [[2.6099]\n",
      " [1.7574]\n",
      " [2.688 ]\n",
      " [2.7125]\n",
      " [4.0793]]\n",
      "Нормализованная по L1-норме матрица Z: \n",
      " [[0.0067 0.263  0.3519 0.25   0.1284]\n",
      " [0.2858 0.2032 0.0184 0.2487 0.2439]\n",
      " [0.0639 0.1019 0.3447 0.2698 0.2196]\n",
      " [0.0389 0.2042 0.1361 0.3062 0.3146]\n",
      " [0.1684 0.2229 0.2338 0.2241 0.1508]]\n",
      "Проверим, что матрица Z нормализованна по L1-норме: \n",
      " [[1.]\n",
      " [1.]\n",
      " [1.]\n",
      " [1.]\n",
      " [1.]]\n"
     ]
    }
   ],
   "source": [
    "np.set_printoptions(precision=4)\n",
    "Z = np.random.random((5,5))\n",
    "print('Исходная матрица Z: \\n', Z)\n",
    "print('Проверим, что матрица Z НЕ нормализованна по L1-норме: \\n', np.sum(Z, axis=1)[:, np.newaxis])\n",
    "\n",
    "Z_normilized = Z/ (np.sum(Z, axis=1)[:, np.newaxis])\n",
    "print('Нормализованная по L1-норме матрица Z: \\n', Z_normilized)\n",
    "print('Проверим, что матрица Z нормализованна по L1-норме: \\n', np.sum(Z_normilized, axis=1)[:, np.newaxis])"
   ]
  },
  {
   "cell_type": "markdown",
   "id": "d80ec901",
   "metadata": {},
   "source": [
    "***[np.random.random](https://numpy.org/doc/stable/reference/random/generated/numpy.random.random.html)*** - Возвращает случайные вещественные числа в «полуоткрытом» интервале [0, 1.0) в виде вектора размера size.  \n",
    "\n",
    "***[np.sum](https://numpy.org/doc/stable/reference/generated/numpy.sum.html)*** - Сумма элементов массива (матрицы) по заданной оси. Для двумерных матриц: axis = 1 - по строкам, axis=0 - по столбцам. В общем случае axis - это ось или оси, по которым выполняется суммирование. Значение по умолчанию, axis=None, суммирует все элементы входного массива. Если ось отрицательная, считается от последней до первой оси.  \n",
    "\n",
    "***[np.set_printoptions](https://numpy.org/doc/stable/reference/generated/numpy.set_printoptions.html)*** - Установка параметров печати. Параметры этого метода позволяют определить способы отображения чисел с плавающей запятой, массивов и других объектов NumPy.  \n",
    "В представленном примере:  \n",
    "- precision = 4 - (точность) кол-во выводимых знаков после запятой  \n",
    "\n",
    "***[np.newaxis](https://numpy.org/doc/stable/reference/constants.html?highlight=newaxis#numpy.newaxis)*** - псевдоним для None, полезный для индексации массивов."
   ]
  },
  {
   "cell_type": "code",
   "execution_count": 26,
   "id": "f7422e3a",
   "metadata": {},
   "outputs": [
    {
     "name": "stdout",
     "output_type": "stream",
     "text": [
      "Нормализованная по L1-норме матрица Z c помощью метода linalg.norm: \n",
      " [[0.0067 0.263  0.3519 0.25   0.1284]\n",
      " [0.2858 0.2032 0.0184 0.2487 0.2439]\n",
      " [0.0639 0.1019 0.3447 0.2698 0.2196]\n",
      " [0.0389 0.2042 0.1361 0.3062 0.3146]\n",
      " [0.1684 0.2229 0.2338 0.2241 0.1508]]\n",
      "Проверим, что полученные нормализованные матрицы одинаковы: \n",
      " [[0. 0. 0. 0. 0.]\n",
      " [0. 0. 0. 0. 0.]\n",
      " [0. 0. 0. 0. 0.]\n",
      " [0. 0. 0. 0. 0.]\n",
      " [0. 0. 0. 0. 0.]]\n"
     ]
    }
   ],
   "source": [
    "# еще один способ нормализации c помощью метода linalg.norm\n",
    "from numpy import linalg as LA\n",
    "Z_normilized2 = Z/LA.norm(Z, axis=1, ord=1)[:, np.newaxis]\n",
    "print('Нормализованная по L1-норме матрица Z c помощью метода linalg.norm: \\n', Z_normilized2)\n",
    "print('Проверим, что полученные нормализованные матрицы одинаковы: \\n', Z_normilized2-Z_normilized)"
   ]
  },
  {
   "cell_type": "markdown",
   "id": "d1243407",
   "metadata": {},
   "source": [
    "***[np.linalg.norm](https://numpy.org/doc/stable/reference/generated/numpy.linalg.norm.html)*** - Эта функция возвращает матричную норму.  "
   ]
  },
  {
   "cell_type": "markdown",
   "id": "6aadfe37",
   "metadata": {},
   "source": [
    "#### 23. Create a custom dtype that describes a color as four unsigned bytes (RGBA) (★☆☆)\n",
    "Создайте настраиваемый dtype, который описывает цвет как четыре байта без знака (RGBA)"
   ]
  },
  {
   "cell_type": "code",
   "execution_count": 27,
   "id": "b9efd28c",
   "metadata": {},
   "outputs": [],
   "source": [
    "# в python в matplotlib значений RGBA это значения на отрезке от 0 до 1. Но при верстке сайтов \n",
    "color = np.dtype([('red', np.uint8),\n",
    "                  ('green', np.uint8),\n",
    "                  ('blue', np.uint8),\n",
    "                  ('alpha', np.uint8)])"
   ]
  },
  {
   "cell_type": "code",
   "execution_count": 28,
   "id": "8bb4b1c0",
   "metadata": {},
   "outputs": [
    {
     "name": "stdout",
     "output_type": "stream",
     "text": [
      "type of array point <class 'numpy.ndarray'>\n"
     ]
    },
    {
     "data": {
      "text/plain": [
       "array([(  0,   0,   0,  0), (255, 255, 255, 50)], dtype=[('red', 'u1'), ('green', 'u1'), ('blue', 'u1'), ('alpha', 'u1')])"
      ]
     },
     "execution_count": 28,
     "metadata": {},
     "output_type": "execute_result"
    }
   ],
   "source": [
    "# инициализируем массив point с посмотрим на массив и на его тип\n",
    "point = np.array([(0, 0, 0, 0), (255, 255, 255, 50)],dtype=color)\n",
    "print('type of array point', type(point))\n",
    "point"
   ]
  },
  {
   "cell_type": "code",
   "execution_count": 29,
   "id": "6dfe1755",
   "metadata": {},
   "outputs": [
    {
     "data": {
      "text/plain": [
       "(255, 255, 255, 50)"
      ]
     },
     "execution_count": 29,
     "metadata": {},
     "output_type": "execute_result"
    }
   ],
   "source": [
    "# выведем значения яркости трех цветов и прозрачности второй точки\n",
    "point[1]\n",
    "# на выходе получаем картеж"
   ]
  },
  {
   "cell_type": "code",
   "execution_count": 30,
   "id": "4cc95bc4",
   "metadata": {},
   "outputs": [
    {
     "data": {
      "text/plain": [
       "array([  0, 255], dtype=uint8)"
      ]
     },
     "execution_count": 30,
     "metadata": {},
     "output_type": "execute_result"
    }
   ],
   "source": [
    "# выведем значения яркости красного цвета двух точек\n",
    "point['red']\n",
    "# на выходе получаем массив"
   ]
  },
  {
   "cell_type": "markdown",
   "id": "78695a0f",
   "metadata": {},
   "source": [
    "***[np.dtype](https://numpy.org/doc/stable/reference/generated/numpy.dtype.html)*** - создает тип массива.  "
   ]
  },
  {
   "cell_type": "markdown",
   "id": "60f1bc87",
   "metadata": {},
   "source": [
    "#### 24. Multiply a 5x3 matrix by a 3x2 matrix (real matrix product) (★☆☆)\n",
    "Умножьте матрицу 5x3 на матрицу 3x2 (матричное произведение)"
   ]
  },
  {
   "cell_type": "code",
   "execution_count": 31,
   "id": "04921e37",
   "metadata": {},
   "outputs": [
    {
     "name": "stdout",
     "output_type": "stream",
     "text": [
      "Исходная матрица A из единиц: \n",
      " [[1. 1. 1.]\n",
      " [1. 1. 1.]\n",
      " [1. 1. 1.]\n",
      " [1. 1. 1.]\n",
      " [1. 1. 1.]]\n",
      "Исходная матрица B из единиц: \n",
      " [[1. 1.]\n",
      " [1. 1.]\n",
      " [1. 1.]]\n",
      "Произведение матриц A и B: \n",
      " [[3. 3.]\n",
      " [3. 3.]\n",
      " [3. 3.]\n",
      " [3. 3.]\n",
      " [3. 3.]]\n"
     ]
    }
   ],
   "source": [
    "A = np.ones((5,3))\n",
    "print('Исходная матрица A из единиц: \\n', A)\n",
    "B = np.ones((3,2))\n",
    "print('Исходная матрица B из единиц: \\n', B)\n",
    "Z = np.dot(A, B)\n",
    "print('Произведение матриц A и B: \\n', Z)"
   ]
  },
  {
   "cell_type": "code",
   "execution_count": 32,
   "id": "25b25493",
   "metadata": {},
   "outputs": [
    {
     "name": "stdout",
     "output_type": "stream",
     "text": [
      "Произведение матриц A и B с помощью @: \n",
      " [[3. 3.]\n",
      " [3. 3.]\n",
      " [3. 3.]\n",
      " [3. 3.]\n",
      " [3. 3.]]\n"
     ]
    }
   ],
   "source": [
    "# второй способ перемножить две дву-мерные матрицы с помощью np.matmul (можно использовать его сокращенную запись @)\n",
    "Z2 = A @  B\n",
    "print('Произведение матриц A и B с помощью @: \\n', Z2)"
   ]
  },
  {
   "cell_type": "markdown",
   "id": "6ca4bfbd",
   "metadata": {},
   "source": [
    "***[np.ones](https://numpy.org/doc/stable/reference/generated/numpy.ones.html)*** - Возвращает новый массив, заполненный единицами.  \n",
    "\n",
    "***[np.dot](https://numpy.org/doc/stable/reference/generated/numpy.dot.html)*** - cкалярное произведение двух массивов.  \n",
    "\n",
    "***[np.matmul](https://numpy.org/doc/stable/reference/generated/numpy.matmul.html)*** - матричное произведение двух массивов."
   ]
  },
  {
   "cell_type": "markdown",
   "id": "ec0a383e",
   "metadata": {},
   "source": [
    "#### 25. Given a 1D array, negate all elements which are between 3 and 8, in place. (★☆☆)\n",
    "задан одномерный массив, инвертируйте (поменяйте знак) у всех элементов массива, которые находятся в диапазоне от 3 до 8, прямо в нем самом (без перезаписывания значений)."
   ]
  },
  {
   "cell_type": "code",
   "execution_count": 33,
   "id": "e5c112aa",
   "metadata": {},
   "outputs": [
    {
     "name": "stdout",
     "output_type": "stream",
     "text": [
      "Исходный вектор Z: \n",
      " [ 0  1  2  3  4  5  6  7  8  9 10]\n",
      "Вектор Z с инвертированными значениями в диапазоне от 3 до 8: \n",
      " [ 0  1  2  3 -4 -5 -6 -7  8  9 10]\n"
     ]
    }
   ],
   "source": [
    "Z = np.arange(11)\n",
    "print('Исходный вектор Z: \\n', Z)\n",
    "Z[(3 < Z) & (Z < 8)] *= -1\n",
    "print('Вектор Z с инвертированными значениями в диапазоне от 3 до 8: \\n', Z)"
   ]
  },
  {
   "cell_type": "markdown",
   "id": "6b5c8a0e",
   "metadata": {},
   "source": [
    "***[np.arange](https://numpy.org/doc/stable/reference/generated/numpy.arange.html)*** - Возвращает равномерно распределенные значения в пределах заданного полуоткрытого интервала [start. stop). Для целочисленных аргументов функция эквивалентна встроенной функции range Python , но возвращает ndarray, а не список.  "
   ]
  },
  {
   "cell_type": "markdown",
   "id": "7aae5597",
   "metadata": {},
   "source": [
    "#### 26. What is the output of the following script? (★☆☆)\n",
    "что выведет следующий скрипт?\n",
    "```python\n",
    "print(sum(range(5),-1))\n",
    "from numpy import *\n",
    "print(sum(range(5),-1))\n",
    "```"
   ]
  },
  {
   "cell_type": "code",
   "execution_count": 34,
   "id": "b1052299",
   "metadata": {},
   "outputs": [
    {
     "name": "stdout",
     "output_type": "stream",
     "text": [
      "9\n",
      "10\n"
     ]
    }
   ],
   "source": [
    "print(sum(range(5),-1))\n",
    "from numpy import *\n",
    "print(sum(range(5),-1))"
   ]
  },
  {
   "cell_type": "code",
   "execution_count": 35,
   "id": "47f722f0",
   "metadata": {},
   "outputs": [
    {
     "data": {
      "text/plain": [
       "10"
      ]
     },
     "execution_count": 35,
     "metadata": {},
     "output_type": "execute_result"
    }
   ],
   "source": [
    "# после импорта всех методов из библиотеки numpy стандартный оператор sum становится np.sum\n",
    "np.sum(range(5))"
   ]
  },
  {
   "cell_type": "markdown",
   "id": "2a9bcf23",
   "metadata": {},
   "source": [
    "***[np.sum](https://numpy.org/doc/stable/reference/generated/numpy.sum.html)*** - cумма элементов массива по заданной оси."
   ]
  },
  {
   "cell_type": "markdown",
   "id": "9c9f7588",
   "metadata": {},
   "source": [
    "#### 27. Consider an integer vector Z, which of these expressions are legal? (★☆☆)\n",
    "Какие действия над вектором Z разрешенные?\n",
    "```python\n",
    "Z**Z\n",
    "2 << Z >> 2\n",
    "Z <- Z\n",
    "1j*Z\n",
    "Z/1/1\n",
    "Z<Z>Z\n",
    "```"
   ]
  },
  {
   "cell_type": "code",
   "execution_count": 36,
   "id": "8b7b5f22",
   "metadata": {},
   "outputs": [
    {
     "name": "stdout",
     "output_type": "stream",
     "text": [
      "Исходный вектор:\n",
      " [0 1 2 3 4 5 6 7 8 9] \n",
      "\n",
      "z**z:\n",
      " [        1         1         4        27       256      3125     46656    823543  16777216 387420489] \n",
      "\n",
      "2 << z >> 2:\n",
      " [  0   1   2   4   8  16  32  64 128 256] \n",
      "\n",
      "z <- z\n",
      " [False False False False False False False False False False] \n",
      "\n",
      "1j*z\n",
      " [0.+0.j 0.+1.j 0.+2.j 0.+3.j 0.+4.j 0.+5.j 0.+6.j 0.+7.j 0.+8.j 0.+9.j] \n",
      "\n",
      "z/1/1 [0. 1. 2. 3. 4. 5. 6. 7. 8. 9.] \n",
      "\n"
     ]
    }
   ],
   "source": [
    "z=np.arange(10)\n",
    "print('Исходный вектор:\\n',z, '\\n')\n",
    "print('z**z:\\n', z**z, '\\n')\n",
    "print('2 << z >> 2:\\n', 2 << z >> 2, '\\n')\n",
    "print('z <- z\\n', z <- z, '\\n')\n",
    "print('1j*z\\n', 1j*z, '\\n')\n",
    "print('z/1/1', z/1/1, '\\n')\n"
   ]
  },
  {
   "cell_type": "code",
   "execution_count": 37,
   "id": "d9002fcd",
   "metadata": {},
   "outputs": [
    {
     "name": "stdout",
     "output_type": "stream",
     "text": [
      "при попытке выполнения Z<Z>Z получаем ошибку выполнения: <class 'ValueError'>\n"
     ]
    }
   ],
   "source": [
    "try:\n",
    "    print(z<z>z)\n",
    "except Exception as e:\n",
    "    print('при попытке выполнения Z<Z>Z получаем ошибку выполнения:', e.__class__)"
   ]
  },
  {
   "cell_type": "markdown",
   "id": "f3435c88",
   "metadata": {},
   "source": [
    "***[np.arange](https://numpy.org/doc/stable/reference/generated/numpy.arange.html)*** - Возвращает равномерно распределенные значения в пределах заданного полуоткрытого интервала [start. stop). Для целочисленных аргументов функция эквивалентна встроенной функции range Python , но возвращает ndarray, а не список.  "
   ]
  },
  {
   "cell_type": "markdown",
   "id": "d3eee5ea",
   "metadata": {},
   "source": [
    "#### 28. What are the result of the following expressions?\n",
    "Каковы результаты следующих выражений?\n",
    "```python\n",
    "np.array(0) / np.array(0)\n",
    "np.array(0) // np.array(0)\n",
    "np.array([np.nan]).astype(int).astype(float)\n",
    "```"
   ]
  },
  {
   "cell_type": "code",
   "execution_count": 38,
   "id": "6e523470",
   "metadata": {},
   "outputs": [
    {
     "name": "stdout",
     "output_type": "stream",
     "text": [
      "Результат выполнения np.array(0) / np.array(0):\n",
      " nan \n",
      "\n"
     ]
    },
    {
     "name": "stderr",
     "output_type": "stream",
     "text": [
      "/tmp/ipykernel_77714/4200145774.py:1: RuntimeWarning: invalid value encountered in divide\n",
      "  print('Результат выполнения np.array(0) / np.array(0):\\n', np.array(0) / np.array(0), '\\n')\n"
     ]
    }
   ],
   "source": [
    "print('Результат выполнения np.array(0) / np.array(0):\\n', np.array(0) / np.array(0), '\\n')"
   ]
  },
  {
   "cell_type": "code",
   "execution_count": 39,
   "id": "95d2bb1d",
   "metadata": {},
   "outputs": [
    {
     "name": "stdout",
     "output_type": "stream",
     "text": [
      "Результат выполнения np.array(0) // np.array(0):\n",
      " 0 \n",
      "\n"
     ]
    },
    {
     "name": "stderr",
     "output_type": "stream",
     "text": [
      "/tmp/ipykernel_77714/1096922608.py:1: RuntimeWarning: divide by zero encountered in floor_divide\n",
      "  print('Результат выполнения np.array(0) // np.array(0):\\n', np.array(0) // np.array(0), '\\n')\n"
     ]
    }
   ],
   "source": [
    "print('Результат выполнения np.array(0) // np.array(0):\\n', np.array(0) // np.array(0), '\\n')"
   ]
  },
  {
   "cell_type": "code",
   "execution_count": 40,
   "id": "cda3f311",
   "metadata": {},
   "outputs": [
    {
     "name": "stdout",
     "output_type": "stream",
     "text": [
      "Результат выполнения np.array([np.nan]).astype(int).astype(float):\n",
      " [-9.2234e+18] \n",
      "\n"
     ]
    },
    {
     "name": "stderr",
     "output_type": "stream",
     "text": [
      "/tmp/ipykernel_77714/2200579343.py:1: RuntimeWarning: invalid value encountered in cast\n",
      "  print('Результат выполнения np.array([np.nan]).astype(int).astype(float):\\n', np.array([np.nan]).astype(int).astype(float), '\\n')\n"
     ]
    }
   ],
   "source": [
    "print('Результат выполнения np.array([np.nan]).astype(int).astype(float):\\n', np.array([np.nan]).astype(int).astype(float), '\\n')"
   ]
  },
  {
   "cell_type": "markdown",
   "id": "6340e2c3",
   "metadata": {},
   "source": [
    "***[np.ndarray.astype](https://numpy.org/doc/stable/reference/generated/numpy.ndarray.astype.html)*** - Метод, который приводит массив к заданному типу.  \n"
   ]
  },
  {
   "cell_type": "markdown",
   "id": "cc0fcfe7",
   "metadata": {},
   "source": [
    "#### 29. How to round away from zero a float array ? (★☆☆)\n",
    "Как округлить Вверх массив с плавающей запятой?  \n",
    "(Необходимо реализовать не классическое математическое округление, а округление вверх по абсолютному значению (round(0)=0, round(0.1)=1, round(1)=1, round(-0.1)=-1 и round(-1)=-1) - то есть любое значение больше нуля это единица.)"
   ]
  },
  {
   "cell_type": "code",
   "execution_count": 41,
   "id": "27704b90",
   "metadata": {},
   "outputs": [
    {
     "name": "stdout",
     "output_type": "stream",
     "text": [
      "Исходный вектор Z:\n",
      " [-1.75 -1.5  -1.25 -1.   -0.75 -0.5  -0.25  0.    0.25  0.5   0.75  1.    1.25  1.5   1.75]\n",
      "\n"
     ]
    }
   ],
   "source": [
    "# инициализируем симметричный относительно нуля вектор, по которому просто проверять округление\n",
    "Z = (np.arange(15)-7)/4\n",
    "print('Исходный вектор Z:\\n', Z)\n",
    "print('')"
   ]
  },
  {
   "cell_type": "code",
   "execution_count": 42,
   "id": "629a2145",
   "metadata": {},
   "outputs": [
    {
     "name": "stdout",
     "output_type": "stream",
     "text": [
      "Округленный стандартным методом np.around вектор Z:\n",
      " [-2. -2. -1. -1. -1. -0. -0.  0.  0.  0.  1.  1.  1.  2.  2.]\n",
      "Округленный стандартным методом np.round вектор Z:\n",
      " [-2. -2. -1. -1. -1. -0. -0.  0.  0.  0.  1.  1.  1.  2.  2.]\n"
     ]
    }
   ],
   "source": [
    "# смотрим на стандартные функции округления around и round (они эквиваленты, но round более медленно, но точно с числами с плавающей запятой)\n",
    "Z_round1 = np.around(Z,decimals=0)\n",
    "print('Округленный стандартным методом np.around вектор Z:\\n', Z_round1)\n",
    "Z_round2 = np.round(Z,decimals=0)\n",
    "print('Округленный стандартным методом np.round вектор Z:\\n', Z_round2)"
   ]
  },
  {
   "cell_type": "markdown",
   "id": "e038ef4e",
   "metadata": {},
   "source": [
    "!!!Внимание!!! np.round и np.around равнозначны. Во втором случае класс round вызывает функцию np.around. Функция np.around округляет числа, находящие ровно посередине, до ближайшего ЧЕТНОГО числа (round(0.5)=0, round(1.5)=2, round(2.5)=2)"
   ]
  },
  {
   "cell_type": "code",
   "execution_count": 43,
   "id": "3b60de7b",
   "metadata": {},
   "outputs": [
    {
     "name": "stdout",
     "output_type": "stream",
     "text": [
      "Округленный ВВЕРХ вектор Z первым способом:\n",
      " [-2. -2. -2. -1. -1. -1. -1.  0.  1.  1.  1.  1.  2.  2.  2.]\n",
      "Округленный ВВЕРХ вектор Z вторым способом:\n",
      " [-2. -2. -2. -1. -1. -1. -1.  0.  1.  1.  1.  1.  2.  2.  2.]\n"
     ]
    }
   ],
   "source": [
    "Z_round_away1 = np.copysign(np.ceil(np.abs(Z)), Z)\n",
    "print('Округленный ВВЕРХ вектор Z первым способом:\\n', Z_round_away1)\n",
    "Z_round_away2 = np.where(Z>0, np.ceil(Z), np.floor(Z))\n",
    "print('Округленный ВВЕРХ вектор Z вторым способом:\\n', Z_round_away2)"
   ]
  },
  {
   "cell_type": "markdown",
   "id": "49478786",
   "metadata": {},
   "source": [
    "***[np.arange](https://numpy.org/doc/stable/reference/generated/numpy.arange.html)*** - Возвращает равномерно распределенные значения в пределах заданного полуоткрытого интервала [start. stop). Для целочисленных аргументов функция эквивалентна встроенной функции range Python , но возвращает ndarray, а не список.  \n",
    "\n",
    "***[np.around](https://numpy.org/doc/stable/reference/generated/numpy.around.html)*** - Равномерно округляет значения вектора до заданного числа десятичных знаков.  \n",
    "Округляет числа, находящие ровно посередине, до ближайшего ЧЕТНОГО числа (round(0.5)=0, round(1.5)=2, round(2.5)=2)  \n",
    "\n",
    "***[np.abs](https://numpy.org/doc/stable/reference/generated/numpy.absolute.html)*** - Вычисляет абсолютные значения вектора поэлементно.  \n",
    "\n",
    "***[np.ceil](https://numpy.org/doc/stable/reference/generated/numpy.ceil.html)*** - Возвращает целочисленный потолок (верхнюю границу) значений вектора поэлементно.  \n",
    "Потолок скаляра x - это наименьшее целое число i такое, что i >= x  \n",
    "\n",
    "***[np.copysign](https://numpy.org/doc/stable/reference/generated/numpy.copysign.html)*** - Изменяет знак значений первого вектора x1 на знак элементов второго вектора x2 поэлементно. Если x2 - скаляр, его знак будет скопирован для всех элементов x1.  \n",
    "\n",
    "***[np.floor](https://numpy.org/doc/stable/reference/generated/numpy.floor.html)*** - Возвращает нижнюю целочисленную границу значений вектора поэлементно.  \n",
    "Нижняя целочисленная граница скаляра x - это наибольшее целое число i такое, что x >= i    \n",
    "\n",
    "***[np.where](https://numpy.org/doc/stable/reference/generated/numpy.where.html)*** - Возвращает элементы из первого или второго векторов в зависимости от значений вектора условий.  "
   ]
  },
  {
   "cell_type": "markdown",
   "id": "e1ab4390",
   "metadata": {},
   "source": [
    "#### 30. How to find common values between two arrays? (★☆☆)\n",
    "Как найти общие значения между двумя массивами"
   ]
  },
  {
   "cell_type": "code",
   "execution_count": 44,
   "id": "9775b19e",
   "metadata": {},
   "outputs": [
    {
     "name": "stdout",
     "output_type": "stream",
     "text": [
      "Первый исходный вектор Z1:\n",
      " [6 5 8 0 4 2 8 0 2 9]\n",
      "Второй исходный вектор Z2:\n",
      " [1 6 7 3 7 9 4 6 0 4]\n",
      "Пересекающиеся значения двух векторов: \n",
      " [0 4 6 9]\n"
     ]
    }
   ],
   "source": [
    "Z1 = np.random.randint(0,10,10)\n",
    "print('Первый исходный вектор Z1:\\n', Z1)\n",
    "Z2 = np.random.randint(0,10,10)\n",
    "print('Второй исходный вектор Z2:\\n', Z2)\n",
    "print('Пересекающиеся значения двух векторов: \\n', np.intersect1d(Z1,Z2))"
   ]
  },
  {
   "cell_type": "markdown",
   "id": "3cf16b58",
   "metadata": {},
   "source": [
    "***[np.intersect1d](https://numpy.org/doc/stable/reference/generated/numpy.intersect1d.html)*** - Находит значения пересекающиеся в двух векторах.  \n",
    "Выводит отсортированные уникальные пересекающиеся значения.  \n",
    "\n",
    "***[np.random.randint](https://numpy.org/doc/stable/reference/random/generated/numpy.random.randint.html)*** - Возвращает случайные целые числа в «полуоткрытом» интервале [low, high) в виде вектора размера size.  "
   ]
  },
  {
   "cell_type": "markdown",
   "id": "2620d420",
   "metadata": {},
   "source": [
    "#### 31. How to ignore all numpy warnings (not recommended)? (★☆☆)\n",
    "Как игнорировать все предупреждения о numpy (не рекомендуется)"
   ]
  },
  {
   "cell_type": "code",
   "execution_count": 45,
   "id": "2fdb4a83",
   "metadata": {},
   "outputs": [],
   "source": [
    "defaults = np.seterr(all=\"ignore\")\n",
    "Z = np.ones(1) / 0"
   ]
  },
  {
   "cell_type": "code",
   "execution_count": 46,
   "id": "652f043f",
   "metadata": {},
   "outputs": [
    {
     "name": "stderr",
     "output_type": "stream",
     "text": [
      "/tmp/ipykernel_77714/548721433.py:3: RuntimeWarning: divide by zero encountered in divide\n",
      "  Z = np.ones(1) / 0\n"
     ]
    }
   ],
   "source": [
    "# вернуть настройки по умолчанию\n",
    "defaults = np.seterr(**defaults)\n",
    "Z = np.ones(1) / 0"
   ]
  },
  {
   "cell_type": "code",
   "execution_count": 47,
   "id": "a9359951",
   "metadata": {},
   "outputs": [],
   "source": [
    "# еще один способ\n",
    "with np.errstate(all=\"ignore\"):\n",
    "    np.arange(3) / 0"
   ]
  },
  {
   "cell_type": "markdown",
   "id": "2355bd80",
   "metadata": {},
   "source": [
    "***[np.seterr](https://numpy.org/doc/stable/reference/generated/numpy.seterr.html)*** - Настройки обработки ошибок в расчетах с плавающей запятой.  \n",
    "\n",
    "***[np.errstate](https://numpy.org/doc/stable/reference/generated/numpy.errstate.html)*** - Менеджер контекста для обработки ошибок с плавающей запятой\n",
    "\n",
    "***[np.arange](https://numpy.org/doc/stable/reference/generated/numpy.arange.html)*** - Возвращает равномерно распределенные значения в пределах заданного полуоткрытого интервала [start. stop). Для целочисленных аргументов функция эквивалентна встроенной функции range Python , но возвращает ndarray, а не список.  "
   ]
  },
  {
   "cell_type": "markdown",
   "id": "7aaa57d6",
   "metadata": {},
   "source": [
    "#### 32. Is the following expression true? (★☆☆)\n",
    "Верно ли следующее выражение?\n",
    "```python\n",
    "np.sqrt(-1) == np.emath.sqrt(-1)\n",
    "```"
   ]
  },
  {
   "cell_type": "code",
   "execution_count": 48,
   "id": "174783a5",
   "metadata": {},
   "outputs": [
    {
     "name": "stderr",
     "output_type": "stream",
     "text": [
      "/tmp/ipykernel_77714/244602691.py:1: RuntimeWarning: invalid value encountered in sqrt\n",
      "  np.sqrt(-1) == np.emath.sqrt(-1)\n"
     ]
    },
    {
     "data": {
      "text/plain": [
       "False"
      ]
     },
     "execution_count": 48,
     "metadata": {},
     "output_type": "execute_result"
    }
   ],
   "source": [
    "np.sqrt(-1) == np.emath.sqrt(-1)"
   ]
  },
  {
   "cell_type": "markdown",
   "id": "c4f21b7e",
   "metadata": {},
   "source": [
    "***[np.emath](https://numpy.org/doc/stable/reference/routines.emath.html)*** - Функция-оболочки вызова определенных математических функций  \n",
    "Например вызов функции sqrt в этом модуле даёт математические ответы в комплексной плоскости  "
   ]
  },
  {
   "cell_type": "markdown",
   "id": "7eec32af",
   "metadata": {},
   "source": [
    "#### 33. How to get the dates of yesterday, today and tomorrow? (★☆☆)\n",
    "Как получить даты вчера, сегодня и завтра"
   ]
  },
  {
   "cell_type": "code",
   "execution_count": 49,
   "id": "ca55e38c",
   "metadata": {},
   "outputs": [
    {
     "name": "stdout",
     "output_type": "stream",
     "text": [
      "Вчера  : 2024-02-08\n",
      "Сегодня: 2024-02-09\n",
      "Завтра : 2024-02-10\n"
     ]
    }
   ],
   "source": [
    "yesterday = np.datetime64('today') - np.timedelta64(1)\n",
    "today     = np.datetime64('today')\n",
    "tomorrow  = np.datetime64('today') + np.timedelta64(1)\n",
    "print('Вчера  :', yesterday)\n",
    "print('Сегодня:', today)\n",
    "print('Завтра :',tomorrow)"
   ]
  },
  {
   "cell_type": "markdown",
   "id": "45a6c200",
   "metadata": {},
   "source": [
    "***[np.datetime64](https://numpy.org/doc/stable/reference/arrays.scalars.html?highlight=datetime64#numpy.datetime64)***  \n",
    "\n",
    "***[np.timedelta64](https://numpy.org/doc/stable/reference/arrays.scalars.html?highlight=timedelta64#numpy.timedelta64)***  "
   ]
  },
  {
   "cell_type": "markdown",
   "id": "b58f72e8",
   "metadata": {},
   "source": [
    "#### 34. How to get all the dates corresponding to the month of July 2016? (★★☆)\n",
    "Как получить все даты, соответствующие июлю месяцу 2016"
   ]
  },
  {
   "cell_type": "code",
   "execution_count": 50,
   "id": "91aa3de3",
   "metadata": {},
   "outputs": [
    {
     "name": "stdout",
     "output_type": "stream",
     "text": [
      "['2016-07-01' '2016-07-02' '2016-07-03' '2016-07-04' '2016-07-05' '2016-07-06' '2016-07-07' '2016-07-08' '2016-07-09'\n",
      " '2016-07-10' '2016-07-11' '2016-07-12' '2016-07-13' '2016-07-14' '2016-07-15' '2016-07-16' '2016-07-17' '2016-07-18'\n",
      " '2016-07-19' '2016-07-20' '2016-07-21' '2016-07-22' '2016-07-23' '2016-07-24' '2016-07-25' '2016-07-26' '2016-07-27'\n",
      " '2016-07-28' '2016-07-29' '2016-07-30' '2016-07-31']\n"
     ]
    }
   ],
   "source": [
    "Z = np.arange('2016-07', '2016-08', dtype='datetime64[D]')\n",
    "print(Z)"
   ]
  },
  {
   "cell_type": "markdown",
   "id": "c93de564",
   "metadata": {},
   "source": [
    "***[dtype=datetime64[D]](https://numpy.org/doc/stable/reference/arrays.datetime.html)***  \n",
    "\n",
    "***[np.arange](https://numpy.org/doc/stable/reference/generated/numpy.arange.html)*** - Возвращает равномерно распределенные значения в пределах заданного полуоткрытого интервала [start. stop). Для целочисленных аргументов функция эквивалентна встроенной функции range Python , но возвращает ndarray, а не список.  "
   ]
  },
  {
   "cell_type": "markdown",
   "id": "c2bd60a3",
   "metadata": {},
   "source": [
    "#### 35. How to compute ((A+B)*(-A/2)) in place (without copy)? (★★☆)\n",
    "Как вычислить ((A + B) * (- A / 2)) на месте (без копирования - то есть без создания дополнительного массива кроме существующих A, B)?"
   ]
  },
  {
   "cell_type": "code",
   "execution_count": 51,
   "id": "0e2c2b68",
   "metadata": {},
   "outputs": [
    {
     "name": "stdout",
     "output_type": "stream",
     "text": [
      "Исходный вектор A:\n",
      " [1. 1. 1.]\n",
      "Исходный вектор B:\n",
      " [2. 2. 2.]\n",
      "Результат заданного выражения ((A+B)*(-A/2)) (без копирования):\n",
      " [-1.5 -1.5 -1.5]\n"
     ]
    }
   ],
   "source": [
    "A = np.ones(3)*1\n",
    "print('Исходный вектор A:\\n', A)\n",
    "B = np.ones(3)*2\n",
    "print('Исходный вектор B:\\n', B)\n",
    "np.add(A,B,out=B)\n",
    "np.divide(A,2,out=A)\n",
    "np.negative(A,out=A)\n",
    "np.multiply(A,B,out=A)\n",
    "print('Результат заданного выражения ((A+B)*(-A/2)) (без копирования):\\n', A)"
   ]
  },
  {
   "cell_type": "markdown",
   "id": "8ed7a2de",
   "metadata": {},
   "source": [
    "***[np.ones](https://numpy.org/doc/stable/reference/generated/numpy.ones.html)*** - Возвращает новый массив, заполненный единицами.  \n",
    "\n",
    "***[np.add](https://numpy.org/doc/stable/reference/generated/numpy.add.html)*** - Складывает поэлементно значения векторов.  \n",
    "Параметр out - место куда сохраняется результат.  \n",
    "\n",
    "***[np.divide](https://numpy.org/doc/stable/reference/generated/numpy.divide.html)*** - Выполняет поэлементное деление значений векторов.  \n",
    "Параметр out - место куда сохраняется результат.  \n",
    "\n",
    "***[np.negative](https://numpy.org/doc/stable/reference/generated/numpy.negative.html)*** - Меняет знак значений вектора поэлементно.  \n",
    "Параметр out - место куда сохраняется результат.  \n",
    "\n",
    "***[np.multiply](https://numpy.org/doc/stable/reference/generated/numpy.multiply.html)*** - Выполняет поэлементное перемножение значений векторов.  \n",
    "Параметр out - место куда сохраняется результат.  \n"
   ]
  },
  {
   "cell_type": "markdown",
   "id": "95be1be2",
   "metadata": {},
   "source": [
    "#### 36. Extract the integer part of a random array of positive numbers using 4 different methods (★★☆)\n",
    "Извлеките целую часть случайного массива положительных чисел, используя 4 разных метода."
   ]
  },
  {
   "cell_type": "code",
   "execution_count": 52,
   "id": "9e6dd137",
   "metadata": {},
   "outputs": [
    {
     "name": "stdout",
     "output_type": "stream",
     "text": [
      "Исходный вектор Z:\n",
      " [5.4802 8.9641 1.1498 1.5534 3.2803 2.5965 2.8914 1.8856 8.1582 4.7356]\n",
      "===\n",
      "[5. 8. 1. 1. 3. 2. 2. 1. 8. 4.]\n",
      "[5. 8. 1. 1. 3. 2. 2. 1. 8. 4.]\n",
      "[5. 8. 1. 1. 3. 2. 2. 1. 8. 4.]\n",
      "[5 8 1 1 3 2 2 1 8 4]\n",
      "[5. 8. 1. 1. 3. 2. 2. 1. 8. 4.]\n"
     ]
    }
   ],
   "source": [
    "Z = np.random.uniform(low=0,high=10,size=10)\n",
    "print('Исходный вектор Z:\\n', Z)\n",
    "print('===')\n",
    "print(Z - Z%1)\n",
    "print(Z // 1)\n",
    "print(np.floor(Z))\n",
    "print(Z.astype(int))\n",
    "print(np.trunc(Z))"
   ]
  },
  {
   "cell_type": "markdown",
   "id": "729eb482",
   "metadata": {},
   "source": [
    "***[np.random.uniform](https://numpy.org/doc/stable/reference/random/generated/numpy.random.uniform.html)*** - Выборка из равномерного распределения из полуоткрытого интервала [low, high). Если параметр size не определен, то по умолчанию возвращается одно значение  \n",
    "\n",
    "***[np.floor](https://numpy.org/doc/stable/reference/generated/numpy.floor.html)*** - Возвращает нижнюю целочисленную границу значений вектора поэлементно.  \n",
    "Нижняя целочисленная граница скаляра x - это наибольшее целое число i такое, что x >= i  \n",
    "\n",
    "***[np.ndarray.astype](https://numpy.org/doc/stable/reference/generated/numpy.ndarray.astype.html)*** - Метод, который приводит массив к заданному типу.  \n",
    "\n",
    "***[np.trunc](https://numpy.org/doc/stable/reference/generated/numpy.trunc.html)*** - Возвращает усеченное значение вектора поэлементно.  \n",
    "Усеченное значение — это ближайшее целое число i , которое ближе к нулю, чем x. Попросту говоря, дробная часть знакового числа x отбрасывается.  \n"
   ]
  },
  {
   "cell_type": "markdown",
   "id": "45956830",
   "metadata": {},
   "source": [
    "#### 37. Create a 5x5 matrix with row values ranging from 0 to 4 (★★☆)\n",
    "Создайте матрицу 5x5 со значениями строк от 0 до 4"
   ]
  },
  {
   "cell_type": "code",
   "execution_count": 53,
   "id": "377936f8",
   "metadata": {},
   "outputs": [
    {
     "name": "stdout",
     "output_type": "stream",
     "text": [
      "Матрица 5x5 со значениями строк от 0 до 4:\n",
      " [[0. 1. 2. 3. 4.]\n",
      " [0. 1. 2. 3. 4.]\n",
      " [0. 1. 2. 3. 4.]\n",
      " [0. 1. 2. 3. 4.]\n",
      " [0. 1. 2. 3. 4.]]\n"
     ]
    }
   ],
   "source": [
    "Z = np.zeros((5,5))  # инициируем матрицу 5 на 5 заполненную нулями\n",
    "Z += np.arange(5)\n",
    "print('Матрица 5x5 со значениями строк от 0 до 4:\\n', Z)"
   ]
  },
  {
   "cell_type": "markdown",
   "id": "9437750e",
   "metadata": {},
   "source": [
    "***[np.zeros](https://numpy.org/doc/stable/reference/generated/numpy.zeros.html)*** - возвращает новый массив заполненный нулями.  \n",
    "\n",
    "***[np.arange](https://numpy.org/doc/stable/reference/generated/numpy.arange.html)*** - Возвращает равномерно распределенные значения в пределах заданного полуоткрытого интервала [start. stop). Для целочисленных аргументов функция эквивалентна встроенной функции range Python , но возвращает ndarray, а не список.  "
   ]
  },
  {
   "cell_type": "markdown",
   "id": "ed000435",
   "metadata": {},
   "source": [
    "#### 38. Consider a generator function that generates 10 integers and use it to build an array (★☆☆)\n",
    "Рассмотрим функцию генератора, которая генерирует 10 целых чисел и использует ее для построения массива."
   ]
  },
  {
   "cell_type": "code",
   "execution_count": 54,
   "id": "44d8b460",
   "metadata": {},
   "outputs": [
    {
     "name": "stdout",
     "output_type": "stream",
     "text": [
      "[0. 1. 2. 3. 4. 5. 6. 7. 8. 9.]\n"
     ]
    }
   ],
   "source": [
    "def generate():\n",
    "    for x in range(10):\n",
    "        yield x\n",
    "Z = np.fromiter(generate(),dtype=float,count=-1)\n",
    "print(Z)"
   ]
  },
  {
   "cell_type": "markdown",
   "id": "1f04c79d",
   "metadata": {},
   "source": [
    "***[np.fromiter](https://numpy.org/doc/stable/reference/generated/numpy.fromiter.html)*** - создаёт одномерный массив из итерируемого объекта.  "
   ]
  },
  {
   "cell_type": "markdown",
   "id": "9c139b44",
   "metadata": {},
   "source": [
    "#### 39. Create a vector of size 10 with values ranging from 0 to 1, both excluded (★★☆)\n",
    "Создайте вектор размера 10 со значениями от 0 до 1, за исключением границ отрезка 0 и 1."
   ]
  },
  {
   "cell_type": "code",
   "execution_count": 55,
   "id": "15885b68",
   "metadata": {},
   "outputs": [
    {
     "name": "stdout",
     "output_type": "stream",
     "text": [
      "Вектор размера 10 с равномерно распределенными значениями на открытом отрезке (0,1):\n",
      " [0.0909 0.1818 0.2727 0.3636 0.4545 0.5455 0.6364 0.7273 0.8182 0.9091]\n"
     ]
    }
   ],
   "source": [
    "Z = np.linspace(0,1,11,endpoint=False)[1:]\n",
    "print('Вектор размера 10 с равномерно распределенными значениями на открытом отрезке (0,1):\\n', Z)"
   ]
  },
  {
   "cell_type": "markdown",
   "id": "a49abade",
   "metadata": {},
   "source": [
    "***[np.linspace](https://numpy.org/doc/stable/reference/generated/numpy.linspace.html)*** - Возвращает равномерно распределенные числа в указанном интервале.  \n",
    "endpoint = False - конечная точка интервала может быть исключена.  "
   ]
  },
  {
   "cell_type": "markdown",
   "id": "9f0115d4",
   "metadata": {},
   "source": [
    "#### 40. Create a random vector of size 10 and sort it (★★☆)\n",
    "Создайте случайный вектор размером 10 и отсортируйте его"
   ]
  },
  {
   "cell_type": "code",
   "execution_count": 56,
   "id": "053185e6",
   "metadata": {},
   "outputs": [
    {
     "name": "stdout",
     "output_type": "stream",
     "text": [
      "Исходный одномерный вектор Z из случайных целых чисел до 10:\n",
      " [[1 5 3 8 7 3 2 9 9 7]]\n",
      "Отсортированный вектор Z:\n",
      " [[1 2 3 3 5 7 7 8 9 9]]\n"
     ]
    }
   ],
   "source": [
    "Z = np.random.randint(10, size=(1,10))\n",
    "print('Исходный одномерный вектор Z из случайных целых чисел до 10:\\n', Z)\n",
    "Z.sort()\n",
    "print('Отсортированный вектор Z:\\n', Z)"
   ]
  },
  {
   "cell_type": "markdown",
   "id": "b7422d43",
   "metadata": {},
   "source": [
    "***[np.ndarray.sort](https://numpy.org/doc/stable/reference/generated/numpy.ndarray.sort.html)*** - Метод сортирует вектор сразу преобразуя его как np.sort   \n",
    "\n",
    "***[np.sort()](https://numpy.org/doc/stable/reference/generated/numpy.sort.html)*** - Возвращает отсортированную копию массива  \n",
    "\n",
    "***[np.random.randint](https://numpy.org/doc/stable/reference/random/generated/numpy.random.randint.html)*** - Возвращает случайные целые числа в «полуоткрытом» интервале [low, high) в виде вектора размера size.  "
   ]
  },
  {
   "cell_type": "markdown",
   "id": "883d97f9",
   "metadata": {},
   "source": [
    "#### 41. How to sum a small array faster than np.sum? (★★☆)\n",
    "Как суммировать небольшой массив быстрее, чем np.sum"
   ]
  },
  {
   "cell_type": "code",
   "execution_count": 57,
   "id": "66e49f82",
   "metadata": {},
   "outputs": [
    {
     "name": "stdout",
     "output_type": "stream",
     "text": [
      "Исходный вектор Z:\n",
      " [0 1 2 3 4 5 6 7 8 9]\n"
     ]
    }
   ],
   "source": [
    "Z = np.arange(10)\n",
    "print('Исходный вектор Z:\\n', Z)"
   ]
  },
  {
   "cell_type": "code",
   "execution_count": 58,
   "id": "5f6d6efe",
   "metadata": {},
   "outputs": [
    {
     "name": "stdout",
     "output_type": "stream",
     "text": [
      "CPU times: user 37 µs, sys: 8 µs, total: 45 µs\n",
      "Wall time: 52 µs\n"
     ]
    },
    {
     "data": {
      "text/plain": [
       "45"
      ]
     },
     "execution_count": 58,
     "metadata": {},
     "output_type": "execute_result"
    }
   ],
   "source": [
    "%time np.add.reduce(Z)"
   ]
  },
  {
   "cell_type": "code",
   "execution_count": 59,
   "id": "afd0a3e1",
   "metadata": {},
   "outputs": [
    {
     "name": "stdout",
     "output_type": "stream",
     "text": [
      "CPU times: user 41 µs, sys: 10 µs, total: 51 µs\n",
      "Wall time: 54.1 µs\n"
     ]
    },
    {
     "data": {
      "text/plain": [
       "45"
      ]
     },
     "execution_count": 59,
     "metadata": {},
     "output_type": "execute_result"
    }
   ],
   "source": [
    "%time np.sum(Z)"
   ]
  },
  {
   "cell_type": "markdown",
   "id": "57fa7cf9",
   "metadata": {},
   "source": [
    "***[np.ufunc.reduce](https://numpy.org/doc/stable/reference/generated/numpy.ufunc.reduce.html)*** - Уменьшает размерность массива на единицу, применяя np.ufunc вдоль одной оси.  \n",
    "\n",
    "***[np.arange](https://numpy.org/doc/stable/reference/generated/numpy.arange.html)*** - Возвращает равномерно распределенные значения в пределах заданного полуоткрытого интервала [start. stop). Для целочисленных аргументов функция эквивалентна встроенной функции range Python , но возвращает ndarray, а не список.  "
   ]
  },
  {
   "cell_type": "markdown",
   "id": "ab6d1ea1",
   "metadata": {},
   "source": [
    "#### 42. Consider two random array A and B, check if they are equal (★★☆)\n",
    "Рассмотрим два случайных массива A и B, проверьте, равны ли они"
   ]
  },
  {
   "cell_type": "code",
   "execution_count": 60,
   "id": "d3c0554f",
   "metadata": {},
   "outputs": [
    {
     "name": "stdout",
     "output_type": "stream",
     "text": [
      "Исходный одномерный массив A размером 5 их случайных целых от 0 до 1:\n",
      " [0 1 0 0 0 0 1 1 0 0]\n",
      "Исходный одномерный массив B размером 5 их случайных целых от 0 до 1:\n",
      " [0 0 1 1 1 1 0 0 0 1]\n",
      "Логическое выражение (Массивы A и B равны) соответствует: => False\n",
      "Логическое выражение (Массивы A и A равны) соответствует: => True\n"
     ]
    }
   ],
   "source": [
    "A = np.random.randint(0,2,10)\n",
    "print('Исходный одномерный массив A размером 5 их случайных целых от 0 до 1:\\n', A)\n",
    "B = np.random.randint(0,2,10)\n",
    "print('Исходный одномерный массив B размером 5 их случайных целых от 0 до 1:\\n', B)\n",
    "equal = np.allclose(A,B)\n",
    "print('Логическое выражение (Массивы A и B равны) соответствует: =>', equal)\n",
    "equal2 = np.allclose(A,A)\n",
    "print('Логическое выражение (Массивы A и A равны) соответствует: =>', equal2)"
   ]
  },
  {
   "cell_type": "code",
   "execution_count": 61,
   "id": "752c6d91",
   "metadata": {},
   "outputs": [
    {
     "name": "stdout",
     "output_type": "stream",
     "text": [
      "Логическое выражение (Массивы A и B равны) соответствует: => False\n",
      "Логическое выражение (Массивы B и B равны) соответствует: => True\n"
     ]
    }
   ],
   "source": [
    "# другой способ\n",
    "equal = np.array_equal(A,B)\n",
    "print('Логическое выражение (Массивы A и B равны) соответствует: =>', equal)\n",
    "equal2 = np.array_equal(B,B)\n",
    "print('Логическое выражение (Массивы B и B равны) соответствует: =>', equal2)"
   ]
  },
  {
   "cell_type": "code",
   "execution_count": 62,
   "id": "93a79e28",
   "metadata": {},
   "outputs": [
    {
     "name": "stdout",
     "output_type": "stream",
     "text": [
      "Исходный одномерный массив A размером 10 из случайных вещественных чисел:\n",
      " [0.3366 0.5554 0.1285 0.2074 0.5656 0.8832 0.457  0.9413 0.7971 0.7342]\n",
      "Массив A2 равный исходному A, только с погрешностью от выражения (A/1.5)*1.5 :\n",
      " [0.3366 0.5554 0.1285 0.2074 0.5656 0.8832 0.457  0.9413 0.7971 0.7342]\n",
      "Логическое выражение (Массивы A и A2 равны) соответствует: => False (через array_equal)\n",
      "Логическое выражение (Массивы A и A2 равны) соответствует: => True (через allclose)\n"
     ]
    }
   ],
   "source": [
    "A = np.random.rand(10)\n",
    "print('Исходный одномерный массив A размером 10 из случайных вещественных чисел:\\n', A)\n",
    "\n",
    "A2 = A/1.5  # делим на 1.5\n",
    "A2 = A2*1.5  # умножаем на 1.5 и получаем исходный массив только с погрешностью от операций\n",
    "print('Массив A2 равный исходному A, только с погрешностью от выражения (A/1.5)*1.5 :\\n', A2)\n",
    "\n",
    "equal = np.array_equal(A,A2)\n",
    "print('Логическое выражение (Массивы A и A2 равны) соответствует: =>', equal, '(через array_equal)')\n",
    "equal2 = np.allclose(A,A2)\n",
    "print('Логическое выражение (Массивы A и A2 равны) соответствует: =>', equal2, '(через allclose)')\n"
   ]
  },
  {
   "cell_type": "markdown",
   "id": "20b3823d",
   "metadata": {},
   "source": [
    "***[np.allclose](https://numpy.org/doc/stable/reference/generated/numpy.allclose.html)*** - Возвращает True, если два массива поэлементно равны в пределах допуска. Только для числовых массивов  \n",
    "\n",
    "***[np.array_equal](https://numpy.org/doc/stable/reference/generated/numpy.array_equal.html)*** - Возвращает True, если два массива имеют одинаковую форму и элементы, в противном случае - False.  \n",
    "Предназначен для использования с массивами целых чисел и проверяет только точное равенство.  \n",
    "\n",
    "***[np.random.randint](https://numpy.org/doc/stable/reference/random/generated/numpy.random.randint.html)*** - Возвращает случайные целые числа в «полуоткрытом» интервале [low, high) в виде вектора размера size.  "
   ]
  },
  {
   "cell_type": "markdown",
   "id": "90e4edfb",
   "metadata": {},
   "source": [
    "#### 43. Make an array immutable (read-only) (★★☆)\n",
    "Сделать массив неизменным (только для чтения)"
   ]
  },
  {
   "cell_type": "code",
   "execution_count": 63,
   "id": "6f4383ce",
   "metadata": {},
   "outputs": [
    {
     "name": "stdout",
     "output_type": "stream",
     "text": [
      "Исходный массив Z:\n",
      " [0 1 2 3 4 5 6 7 8 9]\n",
      "упс. ошибка при выполнении записи Z[0] = 1:  <class 'ValueError'>\n"
     ]
    }
   ],
   "source": [
    "Z = np.arange(10)\n",
    "print('Исходный массив Z:\\n', Z)\n",
    "Z.setflags(write=False)  # изменяем флаг чтения на False (это разнозначно Z.flags.writeable = False)\n",
    "try:\n",
    "    Z[0] = 1  # попытка перезаписать нулевой элемент массива  \n",
    "except Exception as e:\n",
    "    print('упс. ошибка при выполнении записи Z[0] = 1: ', e.__class__)"
   ]
  },
  {
   "cell_type": "code",
   "execution_count": 64,
   "id": "cc9fec5d",
   "metadata": {},
   "outputs": [
    {
     "name": "stdout",
     "output_type": "stream",
     "text": [
      "упс. ошибка при выполнении перемешивания массива Z:  <class 'ValueError'>\n",
      "array is read-only\n",
      "Исправили после 08.2022\n"
     ]
    }
   ],
   "source": [
    "# ранее массив не был полностью защищен от изменения\n",
    "try:\n",
    "    np.random.shuffle(Z)  # например в его можно перемешать\n",
    "    Z\n",
    "except Exception as e:\n",
    "    print('упс. ошибка при выполнении перемешивания массива Z: ', e.__class__)\n",
    "    print(e)\n",
    "    print('Исправили после 08.2022')\n",
    "\n",
    "# до 08.2022 правильным ответом на вопрос 43 было написание собственного класса неизменяемого массива\n",
    "# но для тех на кого в основном ориентирован этот файл - это овер (поэтому код представлен только в виде ссылке ниже)\n"
   ]
  },
  {
   "cell_type": "markdown",
   "id": "148f33aa",
   "metadata": {},
   "source": [
    "***[np.arange](https://numpy.org/doc/stable/reference/generated/numpy.arange.html)*** - Возвращает равномерно распределенные значения в пределах заданного полуоткрытого интервала [start. stop). Для целочисленных аргументов функция эквивалентна встроенной функции range Python , но возвращает ndarray, а не список.  \n",
    "\n",
    "***[np.ndarray.flags.writeable](https://numpy.org/doc/stable/reference/generated/numpy.ndarray.flags.html)*** -  Установка значения writeable=False блокирует данные, делая их доступными только для чтения  \n",
    "\n",
    "***[np.random.shuffle](https://numpy.org/doc/stable/reference/random/generated/numpy.random.shuffle.html)*** -  Перемешивает элементы массива случайным образом с изменением самого массива.  \n",
    "\n",
    "[тут пример класса неизменяемого массива](https://gist.github.com/sfaleron/9791418d7023a9985bb803170c5d93d8)  "
   ]
  },
  {
   "cell_type": "markdown",
   "id": "a055126c",
   "metadata": {},
   "source": [
    "#### 44. Consider a random 10x2 matrix representing cartesian coordinates, convert them to polar coordinates (★★☆)\n",
    "Рассмотрим случайную матрицу 10x2, представляющую декартовы координаты, преобразуйте их в полярные координаты."
   ]
  },
  {
   "cell_type": "code",
   "execution_count": 65,
   "id": "9e54b103",
   "metadata": {},
   "outputs": [
    {
     "name": "stdout",
     "output_type": "stream",
     "text": [
      "Исходный вектор Z, где первая координата x, а вторая y : \n",
      " [[ 1.  0.]\n",
      " [ 1.  1.]\n",
      " [ 0.  1.]\n",
      " [-1.  1.]\n",
      " [-1.  0.]\n",
      " [-1. -1.]\n",
      " [ 0. -1.]\n",
      " [ 1. -1.]]\n",
      "===\n",
      "Преобразование исходного вектора в полярные координаты: \n",
      " [[ 1.      0.    ]\n",
      " [ 1.4142  0.7854]\n",
      " [ 1.      1.5708]\n",
      " [ 1.4142  2.3562]\n",
      " [ 1.      3.1416]\n",
      " [ 1.4142 -2.3562]\n",
      " [ 1.     -1.5708]\n",
      " [ 1.4142 -0.7854]]\n",
      "Первая координата - длина вектора, вторая координата - угол в радианах\n"
     ]
    }
   ],
   "source": [
    "Z = np.array([[1,0],[1,1], [0,1], [-1,1], [-1,0], [-1,-1], [0,-1], [1,-1]]).astype(float64)\n",
    "print('Исходный вектор Z, где первая координата x, а вторая y : \\n', Z)\n",
    "print('===')\n",
    "X,Y = Z[:,0], Z[:,1]\n",
    "R = np.sqrt(X**2+Y**2)\n",
    "T = np.arctan2(Y,X)\n",
    "Z[:,0] = R\n",
    "Z[:,1] = T\n",
    "print('Преобразование исходного вектора в полярные координаты: \\n', Z)\n",
    "print('Первая координата - длина вектора, вторая координата - угол в радианах')"
   ]
  },
  {
   "cell_type": "markdown",
   "id": "f032641e",
   "metadata": {},
   "source": [
    "***[np.ndarray.astype](https://numpy.org/doc/stable/reference/generated/numpy.ndarray.astype.html)*** - Метод, который приводит массив к заданному типу.  \n",
    "\n",
    "***[np.sqrt](https://numpy.org/doc/stable/reference/generated/numpy.sqrt.html)*** - Возвращает квадратный корень извлеченный из неотрицательных элементов массива.  \n",
    "\n",
    "***[np.arctan2](https://numpy.org/doc/stable/reference/generated/numpy.arctan2.html)*** - Поэлементный арктангенс элементов массива.  \n",
    "Обратите внимание: « y- координата» — это первый вектор функции, « x - координата» — второй.   "
   ]
  },
  {
   "cell_type": "markdown",
   "id": "8d2d4960",
   "metadata": {},
   "source": [
    "#### 45. Create random vector of size 10 and replace the maximum value by 0 (★★☆)\n",
    "Создайте случайный вектор размером 10 и замените максимальное значение на 0"
   ]
  },
  {
   "cell_type": "code",
   "execution_count": 66,
   "id": "048c7e66",
   "metadata": {},
   "outputs": [
    {
     "name": "stdout",
     "output_type": "stream",
     "text": [
      "Исходный вектор ненулевых случайных целых от 1 до 10: \n",
      " [9 7 9 3 6 7 4 9 4 6]\n",
      "Исходный вектор в котором максимальное значение заменили на ноль: \n",
      " [0 7 9 3 6 7 4 9 4 6]\n"
     ]
    }
   ],
   "source": [
    "Z = np.random.randint(1,10, 10)\n",
    "print('Исходный вектор ненулевых случайных целых от 1 до 10: \\n', Z)\n",
    "\n",
    "Z[Z.argmax()] = 0\n",
    "print('Исходный вектор в котором максимальное значение заменили на ноль: \\n', Z)"
   ]
  },
  {
   "cell_type": "markdown",
   "id": "3cfdc0d0",
   "metadata": {},
   "source": [
    "***[np.random.randint](https://numpy.org/doc/stable/reference/random/generated/numpy.random.randint.html)*** - Возвращает случайные целые числа в «полуоткрытом» интервале [low, high) в виде вектора размера size.  \n",
    "\n",
    "***[np.ndarray.argmax](https://numpy.org/doc/stable/reference/generated/numpy.ndarray.argmax.html)*** - Возвращает индексы максимальных значений по заданной оси.  \n",
    "В случае многократного вхождения максимальных значений возвращается индекс, соответствующий только первому вхождению."
   ]
  },
  {
   "cell_type": "markdown",
   "id": "12788596",
   "metadata": {},
   "source": [
    "#### 46. Create a structured array with `x` and `y` coordinates covering the [0,1]x[0,1] area (★★☆)\n",
    "Создайте структурированный массив с координатами x и y, покрывающими область [0,1] x [0,1]."
   ]
  },
  {
   "cell_type": "code",
   "execution_count": 67,
   "id": "f9d0f0c4",
   "metadata": {},
   "outputs": [
    {
     "name": "stdout",
     "output_type": "stream",
     "text": [
      "Массив с координатами x и y, покрывающими область [0,1] x [0,1]:\n",
      " [[(0.  , 0.  ) (0.25, 0.  ) (0.5 , 0.  ) (0.75, 0.  ) (1.  , 0.  )]\n",
      " [(0.  , 0.25) (0.25, 0.25) (0.5 , 0.25) (0.75, 0.25) (1.  , 0.25)]\n",
      " [(0.  , 0.5 ) (0.25, 0.5 ) (0.5 , 0.5 ) (0.75, 0.5 ) (1.  , 0.5 )]\n",
      " [(0.  , 0.75) (0.25, 0.75) (0.5 , 0.75) (0.75, 0.75) (1.  , 0.75)]\n",
      " [(0.  , 1.  ) (0.25, 1.  ) (0.5 , 1.  ) (0.75, 1.  ) (1.  , 1.  )]]\n"
     ]
    }
   ],
   "source": [
    "N = 5  # инициируем кол-во частей разбивки области по x и по y \n",
    "Z = np.zeros((N,N), [('x',float),('y',float)])  # зададим массив для координат покрытия области со спец типом\n",
    "Z['x'], Z['y'] = np.meshgrid(np.linspace(0,1,num=N),\n",
    "                             np.linspace(0,1,num=N))\n",
    "print('Массив с координатами x и y, покрывающими область [0,1] x [0,1]:\\n', Z)"
   ]
  },
  {
   "cell_type": "markdown",
   "id": "09191df7",
   "metadata": {},
   "source": [
    "***[np.zeros](https://numpy.org/doc/stable/reference/generated/numpy.zeros.html)*** - возвращает новый массив заполненный нулями.  \n",
    "\n",
    "***[np.linspace](https://numpy.org/doc/stable/reference/generated/numpy.linspace.html)*** - Возвращает равномерно распределенные числа в указанном интервале.  \n",
    "num - количество образцов для генерации. По умолчанию 50. Должно быть неотрицательным.  \n",
    "\n",
    "***[np.meshgrid](https://numpy.org/doc/stable/reference/generated/numpy.meshgrid.html)*** - Возвращает матрицы координат из векторов координат.  \n",
    "num - количество образцов для генерации. По умолчанию 50. Должно быть неотрицательным.  "
   ]
  },
  {
   "cell_type": "markdown",
   "id": "a4933373",
   "metadata": {},
   "source": [
    "#### 47. Given two arrays, X and Y, construct the Cauchy matrix C (Cij =1/(xi - yj))\n",
    "Для двух массивов, X и Y, построить матрицу Коши C (Cij = 1 / (xi - yj))"
   ]
  },
  {
   "cell_type": "code",
   "execution_count": 68,
   "id": "42ffff6a",
   "metadata": {},
   "outputs": [
    {
     "name": "stdout",
     "output_type": "stream",
     "text": [
      "Исходный вектор X:\n",
      " [0 1 2 3]\n",
      "Исходный вектор Y:\n",
      " [0.5 1.5 2.5 3.5]\n",
      "Матрица Коши векторов X и Y: \n",
      " [[-2.     -0.6667 -0.4    -0.2857]\n",
      " [ 2.     -2.     -0.6667 -0.4   ]\n",
      " [ 0.6667  2.     -2.     -0.6667]\n",
      " [ 0.4     0.6667  2.     -2.    ]]\n",
      "Детерминант матрицы Коши 44.38416931216933\n"
     ]
    }
   ],
   "source": [
    "X = np.arange(4)\n",
    "print('Исходный вектор X:\\n', X)\n",
    "\n",
    "Y = X + 0.5\n",
    "print('Исходный вектор Y:\\n', Y)\n",
    "\n",
    "C = 1.0 / np.subtract.outer(X, Y)\n",
    "print('Матрица Коши векторов X и Y: \\n', C)\n",
    "print('Детерминант матрицы Коши', np.linalg.det(C))"
   ]
  },
  {
   "cell_type": "markdown",
   "id": "e446f2a8",
   "metadata": {},
   "source": [
    "***[np.arange](https://numpy.org/doc/stable/reference/generated/numpy.arange.html)*** - Возвращает равномерно распределенные значения в пределах заданного полуоткрытого интервала [start. stop). Для целочисленных аргументов функция эквивалентна встроенной функции range Python , но возвращает ndarray, а не список.  \n",
    "\n",
    "***[np.ufunc.outer](https://numpy.org/doc/stable/reference/generated/numpy.ufunc.outer.html)*** - Применяет функцию ufunc ко всем парам (xi, yi) где xi из вектора X, а yi из вектора Y.  \n",
    "\n",
    "***[np.subtract](https://numpy.org/doc/stable/reference/generated/numpy.subtract.html)*** - Вычитание аргументов вектора поэлементно  "
   ]
  },
  {
   "cell_type": "markdown",
   "id": "b4d5fc80",
   "metadata": {},
   "source": [
    "#### 48. Print the minimum and maximum representable value for each numpy scalar type (★★☆)\n",
    "Выведите минимальное и максимальное представимое значение для каждого скалярного типа numpy"
   ]
  },
  {
   "cell_type": "code",
   "execution_count": 69,
   "id": "f7d72940",
   "metadata": {},
   "outputs": [
    {
     "name": "stdout",
     "output_type": "stream",
     "text": [
      "Тип: int8, минимум: -128, максимум: 127\n",
      "Тип: int32, минимум: -2147483648, максимум: 2147483647\n",
      "Тип: int64, минимум: -9223372036854775808, максимум: 9223372036854775807\n",
      "Тип: float32, минимум: -3.4028234663852886e+38, максимум: 3.4028234663852886e+38, и дельта: 1.1920928955078125e-07\n",
      "Тип: float64, минимум: -1.7976931348623157e+308, максимум: 1.7976931348623157e+308, и дельта: 2.220446049250313e-16\n"
     ]
    }
   ],
   "source": [
    "for dtype in [np.int8, np.int32, np.int64]:\n",
    "   print(f'Тип: {dtype.__name__}, минимум: {np.iinfo(dtype).min}, максимум: {np.iinfo(dtype).max}')\n",
    "for dtype in [np.float32, np.float64]:\n",
    "   print(f'Тип: {dtype.__name__}, минимум: {np.finfo(dtype).min}, максимум: {np.finfo(dtype).max}, и дельта: {np.finfo(dtype).eps}')"
   ]
  },
  {
   "cell_type": "markdown",
   "id": "f9c4741f",
   "metadata": {},
   "source": [
    "***[np.iinfo](https://numpy.org/doc/stable/reference/generated/numpy.iinfo.html)*** - Ограничения для целочисленных типов.  \n",
    "\n",
    "***[np.finfo](https://numpy.org/doc/stable/reference/generated/numpy.finfo.html)*** - Ограничения для для типов с плавающей запятой.  "
   ]
  },
  {
   "cell_type": "markdown",
   "id": "82b8facf",
   "metadata": {},
   "source": [
    "#### 49. How to print all the values of an array? (★★☆)\n",
    "Как распечатать все значения массива?"
   ]
  },
  {
   "cell_type": "code",
   "execution_count": 70,
   "id": "52d11370",
   "metadata": {},
   "outputs": [
    {
     "name": "stdout",
     "output_type": "stream",
     "text": [
      "Значение threshold по умолчанию: 1000\n",
      "Вывод нулевого массива 26 на 40 с установками по дефолту:\n",
      " [[0. 0. 0. ... 0. 0. 0.]\n",
      " [0. 0. 0. ... 0. 0. 0.]\n",
      " [0. 0. 0. ... 0. 0. 0.]\n",
      " ...\n",
      " [0. 0. 0. ... 0. 0. 0.]\n",
      " [0. 0. 0. ... 0. 0. 0.]\n",
      " [0. 0. 0. ... 0. 0. 0.]]\n"
     ]
    }
   ],
   "source": [
    "print('Значение threshold по умолчанию:', np.get_printoptions()['threshold'])\n",
    "Z = np.zeros((26,40))\n",
    "print('Вывод нулевого массива 26 на 40 с установками по дефолту:\\n', Z)"
   ]
  },
  {
   "cell_type": "code",
   "execution_count": 71,
   "id": "fe0f544c",
   "metadata": {},
   "outputs": [
    {
     "name": "stdout",
     "output_type": "stream",
     "text": [
      "Вывод нулевого массива 26 на 40 без ограничений вывода:\n",
      " [[0. 0. 0. 0. 0. 0. 0. 0. 0. 0. 0. 0. 0. 0. 0. 0. 0. 0. 0. 0. 0. 0. 0. 0. 0. 0. 0. 0. 0. 0. 0. 0. 0. 0. 0. 0. 0. 0. 0. 0.]\n",
      " [0. 0. 0. 0. 0. 0. 0. 0. 0. 0. 0. 0. 0. 0. 0. 0. 0. 0. 0. 0. 0. 0. 0. 0. 0. 0. 0. 0. 0. 0. 0. 0. 0. 0. 0. 0. 0. 0. 0. 0.]\n",
      " [0. 0. 0. 0. 0. 0. 0. 0. 0. 0. 0. 0. 0. 0. 0. 0. 0. 0. 0. 0. 0. 0. 0. 0. 0. 0. 0. 0. 0. 0. 0. 0. 0. 0. 0. 0. 0. 0. 0. 0.]\n",
      " [0. 0. 0. 0. 0. 0. 0. 0. 0. 0. 0. 0. 0. 0. 0. 0. 0. 0. 0. 0. 0. 0. 0. 0. 0. 0. 0. 0. 0. 0. 0. 0. 0. 0. 0. 0. 0. 0. 0. 0.]\n",
      " [0. 0. 0. 0. 0. 0. 0. 0. 0. 0. 0. 0. 0. 0. 0. 0. 0. 0. 0. 0. 0. 0. 0. 0. 0. 0. 0. 0. 0. 0. 0. 0. 0. 0. 0. 0. 0. 0. 0. 0.]\n",
      " [0. 0. 0. 0. 0. 0. 0. 0. 0. 0. 0. 0. 0. 0. 0. 0. 0. 0. 0. 0. 0. 0. 0. 0. 0. 0. 0. 0. 0. 0. 0. 0. 0. 0. 0. 0. 0. 0. 0. 0.]\n",
      " [0. 0. 0. 0. 0. 0. 0. 0. 0. 0. 0. 0. 0. 0. 0. 0. 0. 0. 0. 0. 0. 0. 0. 0. 0. 0. 0. 0. 0. 0. 0. 0. 0. 0. 0. 0. 0. 0. 0. 0.]\n",
      " [0. 0. 0. 0. 0. 0. 0. 0. 0. 0. 0. 0. 0. 0. 0. 0. 0. 0. 0. 0. 0. 0. 0. 0. 0. 0. 0. 0. 0. 0. 0. 0. 0. 0. 0. 0. 0. 0. 0. 0.]\n",
      " [0. 0. 0. 0. 0. 0. 0. 0. 0. 0. 0. 0. 0. 0. 0. 0. 0. 0. 0. 0. 0. 0. 0. 0. 0. 0. 0. 0. 0. 0. 0. 0. 0. 0. 0. 0. 0. 0. 0. 0.]\n",
      " [0. 0. 0. 0. 0. 0. 0. 0. 0. 0. 0. 0. 0. 0. 0. 0. 0. 0. 0. 0. 0. 0. 0. 0. 0. 0. 0. 0. 0. 0. 0. 0. 0. 0. 0. 0. 0. 0. 0. 0.]\n",
      " [0. 0. 0. 0. 0. 0. 0. 0. 0. 0. 0. 0. 0. 0. 0. 0. 0. 0. 0. 0. 0. 0. 0. 0. 0. 0. 0. 0. 0. 0. 0. 0. 0. 0. 0. 0. 0. 0. 0. 0.]\n",
      " [0. 0. 0. 0. 0. 0. 0. 0. 0. 0. 0. 0. 0. 0. 0. 0. 0. 0. 0. 0. 0. 0. 0. 0. 0. 0. 0. 0. 0. 0. 0. 0. 0. 0. 0. 0. 0. 0. 0. 0.]\n",
      " [0. 0. 0. 0. 0. 0. 0. 0. 0. 0. 0. 0. 0. 0. 0. 0. 0. 0. 0. 0. 0. 0. 0. 0. 0. 0. 0. 0. 0. 0. 0. 0. 0. 0. 0. 0. 0. 0. 0. 0.]\n",
      " [0. 0. 0. 0. 0. 0. 0. 0. 0. 0. 0. 0. 0. 0. 0. 0. 0. 0. 0. 0. 0. 0. 0. 0. 0. 0. 0. 0. 0. 0. 0. 0. 0. 0. 0. 0. 0. 0. 0. 0.]\n",
      " [0. 0. 0. 0. 0. 0. 0. 0. 0. 0. 0. 0. 0. 0. 0. 0. 0. 0. 0. 0. 0. 0. 0. 0. 0. 0. 0. 0. 0. 0. 0. 0. 0. 0. 0. 0. 0. 0. 0. 0.]\n",
      " [0. 0. 0. 0. 0. 0. 0. 0. 0. 0. 0. 0. 0. 0. 0. 0. 0. 0. 0. 0. 0. 0. 0. 0. 0. 0. 0. 0. 0. 0. 0. 0. 0. 0. 0. 0. 0. 0. 0. 0.]\n",
      " [0. 0. 0. 0. 0. 0. 0. 0. 0. 0. 0. 0. 0. 0. 0. 0. 0. 0. 0. 0. 0. 0. 0. 0. 0. 0. 0. 0. 0. 0. 0. 0. 0. 0. 0. 0. 0. 0. 0. 0.]\n",
      " [0. 0. 0. 0. 0. 0. 0. 0. 0. 0. 0. 0. 0. 0. 0. 0. 0. 0. 0. 0. 0. 0. 0. 0. 0. 0. 0. 0. 0. 0. 0. 0. 0. 0. 0. 0. 0. 0. 0. 0.]\n",
      " [0. 0. 0. 0. 0. 0. 0. 0. 0. 0. 0. 0. 0. 0. 0. 0. 0. 0. 0. 0. 0. 0. 0. 0. 0. 0. 0. 0. 0. 0. 0. 0. 0. 0. 0. 0. 0. 0. 0. 0.]\n",
      " [0. 0. 0. 0. 0. 0. 0. 0. 0. 0. 0. 0. 0. 0. 0. 0. 0. 0. 0. 0. 0. 0. 0. 0. 0. 0. 0. 0. 0. 0. 0. 0. 0. 0. 0. 0. 0. 0. 0. 0.]\n",
      " [0. 0. 0. 0. 0. 0. 0. 0. 0. 0. 0. 0. 0. 0. 0. 0. 0. 0. 0. 0. 0. 0. 0. 0. 0. 0. 0. 0. 0. 0. 0. 0. 0. 0. 0. 0. 0. 0. 0. 0.]\n",
      " [0. 0. 0. 0. 0. 0. 0. 0. 0. 0. 0. 0. 0. 0. 0. 0. 0. 0. 0. 0. 0. 0. 0. 0. 0. 0. 0. 0. 0. 0. 0. 0. 0. 0. 0. 0. 0. 0. 0. 0.]\n",
      " [0. 0. 0. 0. 0. 0. 0. 0. 0. 0. 0. 0. 0. 0. 0. 0. 0. 0. 0. 0. 0. 0. 0. 0. 0. 0. 0. 0. 0. 0. 0. 0. 0. 0. 0. 0. 0. 0. 0. 0.]\n",
      " [0. 0. 0. 0. 0. 0. 0. 0. 0. 0. 0. 0. 0. 0. 0. 0. 0. 0. 0. 0. 0. 0. 0. 0. 0. 0. 0. 0. 0. 0. 0. 0. 0. 0. 0. 0. 0. 0. 0. 0.]\n",
      " [0. 0. 0. 0. 0. 0. 0. 0. 0. 0. 0. 0. 0. 0. 0. 0. 0. 0. 0. 0. 0. 0. 0. 0. 0. 0. 0. 0. 0. 0. 0. 0. 0. 0. 0. 0. 0. 0. 0. 0.]\n",
      " [0. 0. 0. 0. 0. 0. 0. 0. 0. 0. 0. 0. 0. 0. 0. 0. 0. 0. 0. 0. 0. 0. 0. 0. 0. 0. 0. 0. 0. 0. 0. 0. 0. 0. 0. 0. 0. 0. 0. 0.]]\n"
     ]
    }
   ],
   "source": [
    "np.set_printoptions(threshold=float(\"inf\"))  # снять ограничения \n",
    "print('Вывод нулевого массива 26 на 40 без ограничений вывода:\\n', Z)"
   ]
  },
  {
   "cell_type": "markdown",
   "id": "3a8e3dc1",
   "metadata": {},
   "source": [
    "***[np.zeros](https://numpy.org/doc/stable/reference/generated/numpy.zeros.html)*** - возвращает новый массив заполненный нулями.  \n",
    "\n",
    "***[np.set_printoptions](https://numpy.org/doc/stable/reference/generated/numpy.set_printoptions.html)*** - Установка параметров печати. Параметры этого метода позволяют определить способы отображения чисел с плавающей запятой, массивов и других объектов NumPy.   \n",
    "threshold - пороговое значение (общее количество элементов массива), выше которого запускается усеченный вывод массива (по умолчанию 1000)  "
   ]
  },
  {
   "cell_type": "markdown",
   "id": "7659e740",
   "metadata": {},
   "source": [
    "#### 50. How to find the closest value (to a given scalar) in a vector? (★★☆)\n",
    "Как найти ближайшее значение (к заданному скаляру (числу)) в векторе?"
   ]
  },
  {
   "cell_type": "code",
   "execution_count": 72,
   "id": "959f8b91",
   "metadata": {},
   "outputs": [
    {
     "name": "stdout",
     "output_type": "stream",
     "text": [
      "Исходный вектор Z:\n",
      " [ 0  1  2  3  4  5  6  7  8  9 10 11 12 13 14 15 16 17 18 19]\n",
      "Случайное значение равномерного распределения на полуинтервале [0,20): 4.237851570137401\n",
      "Ближайшее значение в векторе Z к выбранному значению (4.237851570137401):= 4\n"
     ]
    }
   ],
   "source": [
    "Z = np.arange(20)\n",
    "print('Исходный вектор Z:\\n', Z)\n",
    "\n",
    "a = np.random.uniform(low=0,high=20)\n",
    "print('Случайное значение равномерного распределения на полуинтервале [0,20):', a)\n",
    "\n",
    "index = (np.abs(Z-a)).argmin()\n",
    "print(f'Ближайшее значение в векторе Z к выбранному значению ({a}):= {Z[index]}')"
   ]
  },
  {
   "cell_type": "markdown",
   "id": "f7c4f531",
   "metadata": {},
   "source": [
    "***[np.arange](https://numpy.org/doc/stable/reference/generated/numpy.arange.html)*** - Возвращает равномерно распределенные значения в пределах заданного полуоткрытого интервала [start. stop). Для целочисленных аргументов функция эквивалентна встроенной функции range Python , но возвращает ndarray, а не список.  \n",
    "\n",
    "***[np.random.uniform](https://numpy.org/doc/stable/reference/random/generated/numpy.random.uniform.html)*** - Выборка из равномерного распределения из полуоткрытого интервала [low, high). Если параметр size не определен, то по умолчанию возвращается одно значение  \n",
    "\n",
    "***[np.ndarray.argmin](https://numpy.org/doc/stable/reference/generated/numpy.argmin.html#numpy.argmin)*** - Возвращает индексы минимальных значений по заданной оси.  \n",
    "В случае многократного вхождения минимальных значений возвращаются индексы, соответствующие первому вхождению.  "
   ]
  },
  {
   "cell_type": "markdown",
   "id": "323459f4",
   "metadata": {},
   "source": [
    "#### 51. Create a structured array representing a position (x,y) and a color (r,g,b) (★★☆)\n",
    "Создайте структурированный массив, представляющий позицию (x, y) и цвет (r, g, b)"
   ]
  },
  {
   "cell_type": "code",
   "execution_count": 73,
   "id": "0cee798e",
   "metadata": {},
   "outputs": [
    {
     "name": "stdout",
     "output_type": "stream",
     "text": [
      "Исходный трехмерный нулевой массив заданного типа: \n",
      " [((0., 0.), (0., 0., 0.)) ((0., 0.), (0., 0., 0.))]\n",
      "Массив с инициализированной точкой в Z[0]:\n",
      " [((10., 100.), (255., 255., 255.)) (( 0.,   0.), (  0.,   0.,   0.))]\n",
      "Массив в котором изменили значение координаты x и яркость зеленого цвета в точке Z[0]:\n",
      " [((20., 100.), (255., 0., 255.)) (( 0.,   0.), (  0., 0.,   0.))]\n"
     ]
    }
   ],
   "source": [
    "# определяем тип значений массива для краткости записи \n",
    "type_scalar = np.dtype('float32')\n",
    "\n",
    "# определяем структурированный тип для массива\n",
    "array_type = np.dtype([('position', \n",
    "                            [('x', type_scalar),\n",
    "                             ('y', type_scalar)]),\n",
    "                        ('color', \n",
    "                            [('r', type_scalar),\n",
    "                             ('g', type_scalar),\n",
    "                             ('b', type_scalar)])\n",
    "                        ])\n",
    "Z = np.zeros(2,  array_type)    \n",
    "print('Исходный трехмерный нулевой массив заданного типа: \\n', Z)\n",
    "\n",
    "# записываем в нулевое значение массива значения координат точки (x,y) со значениями яркости цветов (r,g,b)\n",
    "Z[0] = ((10., 100.), (255., 255., 255.))\n",
    "print('Массив с инициализированной точкой в Z[0]:\\n', Z)\n",
    "\n",
    "# изменяем координату нулевой точки по х на 20 и яркость зеленого цвета на ноль \n",
    "Z['position']['x'][0]=20\n",
    "Z['color']['g'][0]=0\n",
    "print('Массив в котором изменили значение координаты x и яркость зеленого цвета в точке Z[0]:\\n', Z)"
   ]
  },
  {
   "cell_type": "markdown",
   "id": "1bad5b13",
   "metadata": {},
   "source": [
    "***[np.dtype](https://numpy.org/doc/stable/reference/generated/numpy.dtype.html)*** - создает тип массива.  \n",
    "\n",
    "***[np.zeros](https://numpy.org/doc/stable/reference/generated/numpy.zeros.html)*** - возвращает новый массив заполненный нулями.  "
   ]
  },
  {
   "cell_type": "markdown",
   "id": "230d10f8",
   "metadata": {},
   "source": [
    "#### 52. Consider a random vector with shape (5,2) representing coordinates, find point by point distances (★★☆)\n",
    "Рассмотрим случайный вектор с формой (5,2), представляющей координаты, найдите расстояния от точки до точки (результат представьте в виде матрицы - таким образом должна получиться матрица 5 на пять где элемент с индексом i и j будет растоянием между точкой i и j) "
   ]
  },
  {
   "cell_type": "code",
   "execution_count": 74,
   "id": "07361f79",
   "metadata": {},
   "outputs": [
    {
     "name": "stdout",
     "output_type": "stream",
     "text": [
      "Исходный вектор Z с координатами точек по X и Y:\n",
      " [[ 0  0]\n",
      " [ 3  4]\n",
      " [ 6  8]\n",
      " [ 9 12]\n",
      " [12 16]]\n",
      "Матрица расстояний от точки до точки:\n",
      " [[ 0.  5. 10. 15. 20.]\n",
      " [ 5.  0.  5. 10. 15.]\n",
      " [10.  5.  0.  5. 10.]\n",
      " [15. 10.  5.  0.  5.]\n",
      " [20. 15. 10.  5.  0.]]\n"
     ]
    }
   ],
   "source": [
    "N = 5  # зададим размерность вектора (кол-во точек)\n",
    "\n",
    "# инициализирем координаты точек (чтобы было нагляднее возьмем известный треугольник пифагора со стороной 3 и 4, \n",
    "# как известно гипотенуза такого треугольника = 5 и кратно увеличим расстояния сторон)\n",
    "Z = np.zeros((N,2), dtype=int32)\n",
    "Z[:,0]=np.arange(N)*3\n",
    "Z[:,1]=np.arange(N)*4\n",
    "print('Исходный вектор Z с координатами точек по X и Y:\\n', Z)\n",
    "\n",
    "x,y = np.atleast_2d(Z[:,0], Z[:,1])\n",
    "D = np.sqrt( (x-x.T)**2 + (y-y.T)**2)\n",
    "print('Матрица расстояний от точки до точки:\\n', D)"
   ]
  },
  {
   "cell_type": "markdown",
   "id": "08979612",
   "metadata": {},
   "source": [
    "***[np.zeros](https://numpy.org/doc/stable/reference/generated/numpy.zeros.html)*** - возвращает новый массив заполненный нулями.  \n",
    "\n",
    "***[np.arange](https://numpy.org/doc/stable/reference/generated/numpy.arange.html)*** - Возвращает равномерно распределенные значения в пределах заданного полуоткрытого интервала [start. stop). Для целочисленных аргументов функция эквивалентна встроенной функции range Python , но возвращает ndarray, а не список.  \n",
    "\n",
    "***[np.atleast_2d](https://numpy.org/doc/stable/reference/generated/numpy.atleast_2d.html)*** - выводит входные данные как массивы как минимум с двумя измерениями.  "
   ]
  },
  {
   "cell_type": "markdown",
   "id": "f7960c3f",
   "metadata": {},
   "source": [
    "#### 53. How to convert a float (32 bits) array into an integer (32 bits) in place? (★★★)\n",
    "Как преобразовать массив с плавающей запятой (32 бита) в целое число (32 бита) на месте (без копирования)?  \n",
    "В условии под термином без копирования подразумевается - без использования методов copy() или deepcopy(). В numpy существуют понятия копирования и представления массивов, но для новичков на которых расчитан данный материал это наверно сложновато. Ниже ссылка где разжевываются эти понятия.  "
   ]
  },
  {
   "cell_type": "code",
   "execution_count": 75,
   "id": "0c774d56",
   "metadata": {},
   "outputs": [
    {
     "name": "stdout",
     "output_type": "stream",
     "text": [
      "Исходный вектор Z случйных : \n",
      " [83.3066 38.5035 68.0064 12.5042 81.5621 41.88   83.6883 87.561   6.7333 42.1057]\n",
      "Преобразованное представление массива Z = Y: \n",
      " [83 38 68 12 81 41 83 87  6 42]\n",
      "===\n",
      "И справочно для информации, что осталось в исходном массиве Z после такого преобразования:\n",
      " [0. 0. 0. 0. 0. 0. 0. 0. 0. 0.]\n"
     ]
    }
   ],
   "source": [
    "np.set_printoptions(precision=4)  # установим размерность элементов для того чтобы напечатать массив в одну строку \n",
    "Z = (np.random.rand(10)*100).astype(np.float32)\n",
    "print('Исходный вектор Z случйных : \\n', Z)\n",
    "Y = Z.view(np.int32)  # создаем представление массива, но с другим типом\n",
    "Y[:] = Z  # копируем в представление массива массив\n",
    "print('Преобразованное представление массива Z = Y: \\n',Y)\n",
    "print('===')\n",
    "print('И справочно для информации, что осталось в исходном массиве Z после такого преобразования:\\n', Z)\n"
   ]
  },
  {
   "cell_type": "markdown",
   "id": "1a34fd51",
   "metadata": {},
   "source": [
    "***[np.set_printoptions](https://numpy.org/doc/stable/reference/generated/numpy.set_printoptions.html)*** - Установка параметров печати. Параметры этого метода позволяют определить способы отображения чисел с плавающей запятой, массивов и других объектов NumPy.   \n",
    "\n",
    "***[np.ndarray.view](https://numpy.org/doc/stable/reference/generated/numpy.ndarray.view.html)*** - Новое представление массива с такими же данными но возможно с другим типом, но без изменения первоначального массива  \n",
    "\n",
    "***[np.random.rand](https://numpy.org/doc/stable/reference/generated/numpy.random.rand.html)*** - Массив заданного размера из равномерно распределенных значений на полуоткрытом интервале [0, 1)  \n",
    "\n",
    "[тут](https://pyprog.pro/copies_and_views.html) достаточно хорошо объясняется про представления и копии массивов в numpy"
   ]
  },
  {
   "cell_type": "markdown",
   "id": "610d8443",
   "metadata": {},
   "source": [
    "#### 54. How to read the following file? (★★☆)\n",
    "Как прочитать следующий файл?\n",
    "```\n",
    "1, 2, 3, 4, 5\n",
    "6,  ,  , 7, 8\n",
    " ,  , 9,10,11\n",
    "```"
   ]
  },
  {
   "cell_type": "code",
   "execution_count": 76,
   "id": "05e23786",
   "metadata": {},
   "outputs": [],
   "source": [
    "from io import StringIO  # импортируем бибилиотеку для созрдания строкового файла"
   ]
  },
  {
   "cell_type": "code",
   "execution_count": 77,
   "id": "57981d44",
   "metadata": {},
   "outputs": [
    {
     "name": "stdout",
     "output_type": "stream",
     "text": [
      "[[   1    2    3    4    5]\n",
      " [   6 -111 -111    7    8]\n",
      " [-111 -111    9   10   11]]\n"
     ]
    }
   ],
   "source": [
    "# создадим строку эмулирущую текстовый файл из задания\n",
    "s = StringIO('''1, 2, 3, 4, 5\n",
    "\n",
    "                6,  ,  A, 7, 8  #вторая строка с коментарием и запятыми , , , , которые являются разделителями\n",
    "\n",
    "                 ,  , 9,10,11\n",
    "''')\n",
    "\n",
    "# теперь преобразуем файл с помощью .genfromtxt\n",
    "Z = np.genfromtxt(s, filling_values=-111, delimiter=\",\", comments=\"#\", dtype=np.int8)\n",
    "print(Z)"
   ]
  },
  {
   "cell_type": "markdown",
   "id": "6b1e15f8",
   "metadata": {},
   "source": [
    "***[np.genfromtxt](https://numpy.org/doc/stable/reference/generated/numpy.genfromtxt.html)*** - Загружает данные из текстового файла, при этом отсутствующие значения обрабатываются, как заданым правилам.  \n",
    "Каждая строка разбивается по символу- разделителю (параметр - delimiter), а символы, следующие за символом комментария (параметр - comments) отбрасываются.  \n",
    "Параметр filling_values - значения, которые будут подставляться при отсутствии корректных данных между разделителями (-111 указано для примера, чтобы визуально проще было видеть пропуски значений в массиве)."
   ]
  },
  {
   "cell_type": "markdown",
   "id": "19d03fa2",
   "metadata": {},
   "source": [
    "#### 55. What is the equivalent of enumerate for numpy arrays? (★★☆)\n",
    "Что эквивалентно методу enumerate для массивов numpy?"
   ]
  },
  {
   "cell_type": "code",
   "execution_count": 78,
   "id": "4fe85c18",
   "metadata": {},
   "outputs": [
    {
     "name": "stdout",
     "output_type": "stream",
     "text": [
      "Исходный двумерный вектор: \n",
      " [[0 1 2]\n",
      " [3 4 5]\n",
      " [6 7 8]]\n",
      "Матрица A с индексами значений и значениями из массива Z, с помощью функции np.ndenumerate: \n",
      " [[((0, 0), 0.) ((0, 1), 1.) ((0, 2), 2.)]\n",
      " [((1, 0), 3.) ((1, 1), 4.) ((1, 2), 5.)]\n",
      " [((2, 0), 6.) ((2, 1), 7.) ((2, 2), 8.)]]\n",
      "Матрица A с индексами значений и значениями из массива Z, с помощью функции np.ndindex: \n",
      " [[((0, 0), 0.) ((0, 1), 1.) ((0, 2), 2.)]\n",
      " [((1, 0), 3.) ((1, 1), 4.) ((1, 2), 5.)]\n",
      " [((2, 0), 6.) ((2, 1), 7.) ((2, 2), 8.)]]\n"
     ]
    }
   ],
   "source": [
    "Z = np.arange(9).reshape(3,3)\n",
    "print('Исходный двумерный вектор: \\n', Z)\n",
    "\n",
    "array_type = np.dtype([('pos_index', \n",
    "                            [('row', np.dtype('int32')),\n",
    "                             ('col', np.dtype('int32'))]),\n",
    "                        ('value', np.dtype('float32'))])\n",
    "A = np.zeros((3,3), array_type)  # создадим массив, который заполним значениями из Z\n",
    "for index_of_value, value_of_array in np.ndenumerate(Z):\n",
    "    A[index_of_value] = (index_of_value,value_of_array)\n",
    "print('Матрица A с индексами значений и значениями из массива Z, с помощью функции np.ndenumerate: \\n', A)\n",
    "\n",
    "A = np.zeros((3,3), array_type)\n",
    "for index_of_value in np.ndindex(Z.shape):\n",
    "    A[index_of_value] = (index_of_value, Z[index_of_value])\n",
    "print('Матрица A с индексами значений и значениями из массива Z, с помощью функции np.ndindex: \\n', A)"
   ]
  },
  {
   "cell_type": "code",
   "execution_count": 79,
   "id": "cc40ef17",
   "metadata": {},
   "outputs": [
    {
     "name": "stdout",
     "output_type": "stream",
     "text": [
      "[[0. 1. 2.]\n",
      " [3. 4. 5.]\n",
      " [6. 7. 8.]]\n"
     ]
    }
   ],
   "source": [
    "print(A['value'])"
   ]
  },
  {
   "cell_type": "markdown",
   "id": "041f71d0",
   "metadata": {},
   "source": [
    "***[np.zeros](https://numpy.org/doc/stable/reference/generated/numpy.zeros.html)*** - возвращает новый массив заполненный нулями.  \n",
    "\n",
    "***[np.arange](https://numpy.org/doc/stable/reference/generated/numpy.arange.html)*** - Возвращает равномерно распределенные значения в пределах заданного полуоткрытого интервала [start. stop). Для целочисленных аргументов функция эквивалентна встроенной функции range Python , но возвращает ndarray, а не список.  \n",
    "\n",
    "***[np.ndenumerate](https://numpy.org/doc/stable/reference/generated/numpy.ndenumerate.html)*** - Итератор многомерного индекса.  \n",
    "Возвращает итератор, содержащий пары координат и значений массива.  \n",
    "\n",
    "***[np.ndindex](https://numpy.org/doc/stable/reference/generated/numpy.ndindex.html)*** - Многомерный итератор для индексирования массива.  \n",
    "Учитывая форму массива, итератор выполняет итерацию по N-мерному индексу массива. На каждой итерации возвращается кортеж индексов.  "
   ]
  },
  {
   "cell_type": "markdown",
   "id": "b98da8bc",
   "metadata": {},
   "source": [
    "#### 56. Generate a generic 2D Gaussian-like array (★★☆)\n",
    "Сгенерируйте универсальную 2D (двумерную) матрицу Гаусса  \n",
    "Тут речь о двумерном универсальном нормальном (Гауссовом) распределении. Универсально означает, что медиана (μ) = 0, а дисперсия (σ) = 1.  "
   ]
  },
  {
   "cell_type": "code",
   "execution_count": 80,
   "id": "26f82f2b",
   "metadata": {},
   "outputs": [
    {
     "name": "stdout",
     "output_type": "stream",
     "text": [
      "Двумерная матрица Гауса: \n",
      " [[0.00002 0.00024 0.00107 0.00177 0.00107 0.00024 0.00002]\n",
      " [0.00024 0.00292 0.01306 0.02154 0.01306 0.00292 0.00024]\n",
      " [0.00107 0.01306 0.05855 0.09653 0.05855 0.01306 0.00107]\n",
      " [0.00177 0.02154 0.09653 0.15915 0.09653 0.02154 0.00177]\n",
      " [0.00107 0.01306 0.05855 0.09653 0.05855 0.01306 0.00107]\n",
      " [0.00024 0.00292 0.01306 0.02154 0.01306 0.00292 0.00024]\n",
      " [0.00002 0.00024 0.00107 0.00177 0.00107 0.00024 0.00002]]\n"
     ]
    }
   ],
   "source": [
    "np.set_printoptions(precision=5)  # установим размерность элементов для того чтобы проверить значения визуально \n",
    "\n",
    "# построим сетку координат от -3σ до 3σ на универсальном нормальном распределении по двух координатам\n",
    "sigma, mu = 1.0, 0.0\n",
    "a, b = -3*sigma, 3*sigma\n",
    "N = (3+3+1)\n",
    "X, Y = np.meshgrid(np.linspace(a, b, num=N), np.linspace(a, b, num=N))\n",
    "\n",
    "denominator = 2*sigma*sigma\n",
    "D = ((X-mu)**2+(Y-mu)**2)/denominator\n",
    "\n",
    "common_denominator = (2*np.pi*sigma*sigma)\n",
    "G = np.exp(-D)/common_denominator  # обратите внимание на общий делитель (в большинстве решений его нет, а должен быть)\n",
    "print('Двумерная матрица Гауса: \\n', G)"
   ]
  },
  {
   "cell_type": "code",
   "execution_count": 81,
   "id": "ae4dfe04",
   "metadata": {},
   "outputs": [
    {
     "name": "stdout",
     "output_type": "stream",
     "text": [
      "Проверка равенства G[3,3] == 1/(2*pi): True\n",
      "Значения G[:, 3] умноженные на (2*pi)**0.5:\n",
      " [0.00443 0.05399 0.24197 0.39894 0.24197 0.05399 0.00443]\n",
      "Табличные значения плотности вероятности для одномерного нормального распределения:\n",
      " [0.00443 0.05399 0.24197 0.39894 0.24197 0.05399 0.00443]\n"
     ]
    }
   ],
   "source": [
    "# во многих ответах, которые я видел по этому вопросу были разные ошибки \n",
    "# могу предложить способ проверить универсальную двумерную матрицу Гаусса => при x и y равным нулю мы должны получить 1/(2*pi)\n",
    "print('Проверка равенства G[3,3] == 1/(2*pi):', G[3,3] == 1/(2*pi))\n",
    "\n",
    "# а также если занулить одну из координат, то значения в G[:,3] и в G[3, :] можно проверить \n",
    "# по табличным данным нормального распределения в точках 1σ=1, 2σ=2 и 3σ=3 умножив их на √\n",
    "print('Значения G[:, 3] умноженные на (2*pi)**0.5:\\n', G[:, 3]*(2*pi)**0.5)\n",
    "table_values = np.array([0.00443, 0.05399, 0.24197, 0.39894, 0.24197, 0.05399, 0.00443])\n",
    "print('Табличные значения плотности вероятности для одномерного нормального распределения:\\n', table_values)\n"
   ]
  },
  {
   "cell_type": "markdown",
   "id": "2d108085",
   "metadata": {},
   "source": [
    "***[np.set_printoptions](https://numpy.org/doc/stable/reference/generated/numpy.set_printoptions.html)*** - Установка параметров печати. Параметры этого метода позволяют определить способы отображения чисел с плавающей запятой, массивов и других объектов NumPy.   \n",
    "\n",
    "***[np.meshgrid](https://numpy.org/doc/stable/reference/generated/numpy.meshgrid.html)*** - Возвращает матрицы координат из векторов координат.  \n",
    "num - количество образцов для генерации. По умолчанию 50. Должно быть неотрицательным.  \n",
    "\n",
    "***[двумерное нормальное распределение (вики)](https://ru.wikipedia.org/wiki/%D0%9C%D0%BD%D0%BE%D0%B3%D0%BE%D0%BC%D0%B5%D1%80%D0%BD%D0%BE%D0%B5_%D0%BD%D0%BE%D1%80%D0%BC%D0%B0%D0%BB%D1%8C%D0%BD%D0%BE%D0%B5_%D1%80%D0%B0%D1%81%D0%BF%D1%80%D0%B5%D0%B4%D0%B5%D0%BB%D0%B5%D0%BD%D0%B8%D0%B5)***\n",
    "\n",
    "***[пример онлайн калькулятора для проверки значений функции вероятности нормального распределения](https://planetcalc.ru/4986/)***"
   ]
  },
  {
   "cell_type": "markdown",
   "id": "d399d3a1",
   "metadata": {},
   "source": [
    "### 57. How to randomly place p elements in a 2D array? (★★☆)\n",
    "Как случайным образом разместить p элементов в 2D-массиве?"
   ]
  },
  {
   "cell_type": "code",
   "execution_count": 82,
   "id": "d2b8e571",
   "metadata": {},
   "outputs": [
    {
     "name": "stdout",
     "output_type": "stream",
     "text": [
      "Номера 3-х индексов массива, в которые будет помещено число 111 (для примера): [31 17  3]\n",
      "Массив Z в котором изменили случайным образом элементы, в количестве 3-х : \n",
      " [[  0.   0.   0. 111.   0.   0.]\n",
      " [  0.   0.   0.   0.   0.   0.]\n",
      " [  0.   0.   0.   0.   0. 111.]\n",
      " [  0.   0.   0.   0.   0.   0.]\n",
      " [  0.   0.   0.   0.   0.   0.]\n",
      " [  0. 111.   0.   0.   0.   0.]]\n"
     ]
    }
   ],
   "source": [
    "N = 6  # размер массива\n",
    "p = 3  # кол-во элементов, которые нужно случайным образом разместить в двумерном массиве\n",
    "Z = np.zeros((N,N))  # инициализируем нулевой двумерный массив Z\n",
    "\n",
    "index_put = np.random.choice(Z.size, p, replace=False)\n",
    "print(f'Номера {p}-х индексов массива, в которые будет помещено число 111 (для примера): {index_put}')\n",
    "np.put(Z,index_put,111)\n",
    "print(f'Массив Z в котором изменили случайным образом элементы, в количестве {p}-х : \\n', Z)"
   ]
  },
  {
   "cell_type": "markdown",
   "id": "7f510e54",
   "metadata": {},
   "source": [
    "***[np.zeros](https://numpy.org/doc/stable/reference/generated/numpy.zeros.html)*** - возвращает новый массив заполненный нулями.  \n",
    "\n",
    "***[np.random.choice](https://numpy.org/doc/stable/reference/random/generated/numpy.random.choice.html)*** - Создает случайную выборку из заданного одномерного массива. Если задан массив, то случайная выборка генерируется из его элементов. Если int, то случайная выборка генерируется, как если бы был np.arange().  \n",
    "replace - Можно ли выбирать индекс с повторением. По умолчанию установлено значение True, что означает, что значение aможно выбирать несколько раз.  \n",
    "\n",
    "***[np.put](https://numpy.org/doc/stable/reference/generated/numpy.put.html)*** - Заменяет указанные элементы массива заданными значениями. Индексация работает на исходном массиве вытянутом в одномерный массив.  "
   ]
  },
  {
   "cell_type": "markdown",
   "id": "61c85a67",
   "metadata": {},
   "source": [
    "### 58. Subtract the mean of each row of a matrix (★★☆)\n",
    "Вычтите среднее значение каждой строки матрицы.  \n",
    "Пояснение к заданию: необходимо вычислить среднее значение каждой строки матрицы и вычесть его из элементов соответствующей строки  "
   ]
  },
  {
   "cell_type": "code",
   "execution_count": 83,
   "id": "71cd8ca2",
   "metadata": {},
   "outputs": [
    {
     "name": "stdout",
     "output_type": "stream",
     "text": [
      "Исходный двумерный массив Z: \n",
      " [[ 0  1  2  3  4]\n",
      " [ 5  6  7  8  9]\n",
      " [10 11 12 13 14]\n",
      " [15 16 17 18 19]\n",
      " [20 21 22 23 24]]\n",
      "Массив Z2 c вычитанием среднего по каждой строке: \n",
      " [[-2. -1.  0.  1.  2.]\n",
      " [-2. -1.  0.  1.  2.]\n",
      " [-2. -1.  0.  1.  2.]\n",
      " [-2. -1.  0.  1.  2.]\n",
      " [-2. -1.  0.  1.  2.]]\n"
     ]
    }
   ],
   "source": [
    "# создадим двумерный вектор 4 на 5 с последовательно идущими числами, таким образом среднее каждой строки будет посередине строки и так мы сможем проверить результат преобразования\n",
    "Z = np.arange(0,25,1).reshape(5, 5)\n",
    "\n",
    "print('Исходный двумерный массив Z: \\n', Z)\n",
    "\n",
    "Z2 = Z - Z.mean(axis=1, keepdims=True)\n",
    "print('Массив Z2 c вычитанием среднего по каждой строке: \\n', Z2)"
   ]
  },
  {
   "cell_type": "markdown",
   "id": "ef373d46",
   "metadata": {},
   "source": [
    "***[np.arange](https://numpy.org/doc/stable/reference/generated/numpy.arange.html)*** - Возвращает равномерно распределенные значения в пределах заданного полуоткрытого интервала [start. stop). Для целочисленных аргументов функция эквивалентна встроенной функции range Python , но возвращает ndarray, а не список.  \n",
    "\n",
    "***[numpy.mean](https://numpy.org/doc/stable/reference/generated/numpy.mean.html)*** - Возвращает среднее значение элементов массива.   \n",
    "*keepdims - Если установлено значение True, тогда в зависимости от выбранной оси axis в результате получим массив  с размерами где выбранная ось равна 1. То есть в нашем случае axis=1 значит среднее расчитывается по строкам и результат будет размерности (5, 1). В случае если установлено False (зачение по умолчанию) получим массив без второй размерности (5,)*\n",
    "\n",
    "!!!Обратите внимание!!! Что в данном примере и в многих следующих примерах из матрицы вычитается вектор и numpy самомтоятельно это обрабатывает. Это бродкастинг (broadcasting). Часто новички не зная про это составляют лишний код. [Тут](https://numpy.org/doc/stable/user/basics.broadcasting.html) более подробно про него, но к сожалению на английском (сорян на русском такого наглядного не нашел)."
   ]
  },
  {
   "cell_type": "markdown",
   "id": "d58e5c07",
   "metadata": {},
   "source": [
    "### 59. How to sort an array by the nth column? (★★☆)\n",
    "Как отсортировать массив по n-му столбцу?"
   ]
  },
  {
   "cell_type": "code",
   "execution_count": 84,
   "id": "9f85157f",
   "metadata": {},
   "outputs": [
    {
     "name": "stdout",
     "output_type": "stream",
     "text": [
      "Исходный двумерный массив Z целых случайных величин:\n",
      " [[7 0 7 6]\n",
      " [0 3 1 7]\n",
      " [3 2 9 4]]\n",
      "Номер столбца, выбранный случайно: 0\n",
      "Массив, отсортированный по возрастанию по столбцу с номером (0):\n",
      " [[0 3 1 7]\n",
      " [3 2 9 4]\n",
      " [7 0 7 6]]\n"
     ]
    }
   ],
   "source": [
    "Z = np.random.randint(0,10,(3,4))\n",
    "print('Исходный двумерный массив Z целых случайных величин:\\n', Z)\n",
    "num_of_col = np.random.randint(Z.shape[1])\n",
    "print('Номер столбца, выбранный случайно:', num_of_col)\n",
    "Z_sorted = Z[Z[:,num_of_col].argsort()]\n",
    "print(f'Массив, отсортированный по возрастанию по столбцу с номером ({num_of_col}):\\n', Z_sorted)"
   ]
  },
  {
   "cell_type": "markdown",
   "id": "b6c5ab47",
   "metadata": {},
   "source": [
    "***[np.argsort](https://numpy.org/doc/stable/reference/generated/numpy.argsort.html)*** - Возвращает индексы отсортированного массива\n",
    "\n",
    "***[np.random.randint](https://numpy.org/doc/stable/reference/random/generated/numpy.random.randint.html)*** - Возвращает случайные целые числа в «полуоткрытом» интервале [low, high) в виде вектора размера size.  "
   ]
  },
  {
   "cell_type": "markdown",
   "id": "4d9dbd5b",
   "metadata": {},
   "source": [
    "### 60. How to tell if a given 2D array has null columns? (★★☆)\n",
    "Как определить, есть ли в данном 2D-массиве нулевые столбцы?"
   ]
  },
  {
   "cell_type": "code",
   "execution_count": 85,
   "id": "5b5f136c",
   "metadata": {},
   "outputs": [
    {
     "name": "stdout",
     "output_type": "stream",
     "text": [
      "Исходный двумерный массив Z размером 3 на 10 из целых случайных величин с полуинтервала [0,1]: \n",
      " [[1 0 1 0 1 0 1 0 0 1]\n",
      " [0 0 0 0 1 1 0 0 1 0]\n",
      " [0 0 0 0 1 1 1 1 1 0]]\n",
      "Есть ли в данном массиве Z нулевые столбцы: True\n"
     ]
    }
   ],
   "source": [
    "Z = np.random.randint(0,2,(3,10))\n",
    "print('Исходный двумерный массив Z размером 3 на 10 из целых случайных величин с полуинтервала [0,1]: \\n', Z)\n",
    "print('Есть ли в данном массиве Z нулевые столбцы:', (~Z.any(axis=0)).any())"
   ]
  },
  {
   "cell_type": "markdown",
   "id": "3456a449",
   "metadata": {},
   "source": [
    "дополнительный вопрос - Как найти индексы нулевых столбцов в массиве Z?"
   ]
  },
  {
   "cell_type": "code",
   "execution_count": 86,
   "id": "d3105ff5",
   "metadata": {},
   "outputs": [
    {
     "name": "stdout",
     "output_type": "stream",
     "text": [
      "Индексы нулевых столбцов: (array([1, 3]),)\n"
     ]
    }
   ],
   "source": [
    "print('Индексы нулевых столбцов:', np.nonzero(~Z.any(axis=0)))"
   ]
  },
  {
   "cell_type": "markdown",
   "id": "7b9946fe",
   "metadata": {},
   "source": [
    "***[numpy.any](https://numpy.org/doc/stable/reference/generated/numpy.any.html)***  - Проверяет, является ли какой-либо элемент массива равным True вдоль заданной оси axis.  \n",
    "\n",
    "***[numpy.nonzero](https://numpy.org/doc/stable/reference/generated/numpy.nonzero.html)***  - Возвращает индексы элементов, которые не равны нулю.  \n",
    "\n",
    "***[np.random.randint](https://numpy.org/doc/stable/reference/random/generated/numpy.random.randint.html)*** - Возвращает случайные целые числа в «полуоткрытом» интервале [low, high) в виде вектора размера size.  "
   ]
  },
  {
   "cell_type": "markdown",
   "id": "0d4b9dfd",
   "metadata": {},
   "source": [
    "### 61. Find the nearest value from a given value in an array (★★☆)\n",
    "Найдите ближайшее значение из заданного значения в массиве  \n",
    "Это задание дублирует задание 50, но в том примере выше был одномерный массив. Давайте выполним задание для двумерного массива, чтобы изучить новый метод  "
   ]
  },
  {
   "cell_type": "code",
   "execution_count": 87,
   "id": "9784cace",
   "metadata": {},
   "outputs": [
    {
     "name": "stdout",
     "output_type": "stream",
     "text": [
      "Исходный вектор Z размером 5 на 6:\n",
      " [[ 0  1  2  3  4  5]\n",
      " [ 6  7  8  9 10 11]\n",
      " [12 13 14 15 16 17]\n",
      " [18 19 20 21 22 23]\n",
      " [24 25 26 27 28 29]]\n",
      "Случайное значение равномерного распределения на полуинтервале [0,30): 24.32368432797509\n",
      "Ближайшее значение в векторе Z к выбранному значению (24.32368432797509):= 24\n"
     ]
    }
   ],
   "source": [
    "num_row = 5\n",
    "num_col = 6\n",
    "N = num_row*num_col\n",
    "Z = np.arange(N).reshape(num_row,num_col)\n",
    "print(f'Исходный вектор Z размером {num_row} на {num_col}:\\n', Z)\n",
    "\n",
    "a = np.random.uniform(low=0,high=N)\n",
    "print(f'Случайное значение равномерного распределения на полуинтервале [0,{N}):', a)\n",
    "\n",
    "index = (np.abs(Z-a)).argmin()\n",
    "print(f'Ближайшее значение в векторе Z к выбранному значению ({a}):= {Z.flat[index]}')"
   ]
  },
  {
   "cell_type": "markdown",
   "id": "ce18620d",
   "metadata": {},
   "source": [
    "***[np.arange](https://numpy.org/doc/stable/reference/generated/numpy.arange.html)*** - Возвращает равномерно распределенные значения в пределах заданного полуоткрытого интервала [start. stop). Для целочисленных аргументов функция эквивалентна встроенной функции range Python , но возвращает ndarray, а не список.  \n",
    "\n",
    "***[np.reshape](https://numpy.org/doc/stable/reference/generated/numpy.reshape.html)*** - Изменяет размерность вектора на новую без изменения его данных.  \n",
    "\n",
    "***[np.random.uniform](https://numpy.org/doc/stable/reference/random/generated/numpy.random.uniform.html)*** - Выборка из равномерного распределения из полуоткрытого интервала [low, high). Если параметр size не определен, то по умолчанию возвращается одно значение  \n",
    "\n",
    "***[np.ndarray.argmin](https://numpy.org/doc/stable/reference/generated/numpy.argmin.html#numpy.argmin)*** - Возвращает индексы минимальных значений по заданной оси.  \n",
    "В случае многократного вхождения минимальных значений возвращаются индексы, соответствующие первому вхождению.  \n",
    "\n",
    "***[numpy.ndarray.flat](https://numpy.org/doc/stable/reference/generated/numpy.ndarray.flat.html)*** - атрибут массива, одномерный итератор по массиву"
   ]
  },
  {
   "cell_type": "markdown",
   "id": "71ab8fb6",
   "metadata": {},
   "source": [
    "### 62. Considering two arrays with shape (1,3) and (3,1), how to compute their sum using an iterator? (★★☆)\n",
    "Имеются два массива с размерностями (1,3) и (3,1), как вычислить их сумму с помощью итератора?"
   ]
  },
  {
   "cell_type": "code",
   "execution_count": 88,
   "id": "bafeb967",
   "metadata": {},
   "outputs": [
    {
     "name": "stdout",
     "output_type": "stream",
     "text": [
      "Первый исходный двумерный массив Z1 с размерностью (1,3): \n",
      " [[0 2 4]]\n",
      "Второй исходный двумерный массив Z2 с размерностью (3,1): \n",
      " [[0]\n",
      " [1]\n",
      " [2]]\n",
      "Результат сложения двух двумерных массивов Z1+Z2:\n",
      "[[0 2 4]\n",
      " [1 3 5]\n",
      " [2 4 6]]\n"
     ]
    }
   ],
   "source": [
    "A = np.arange(3).reshape(1,3)*2\n",
    "print('Первый исходный двумерный массив Z1 с размерностью (1,3): \\n', A)\n",
    "B = np.arange(3).reshape(3,1)\n",
    "print('Второй исходный двумерный массив Z2 с размерностью (3,1): \\n', B)\n",
    "iterator = np.nditer([A,B,None])\n",
    "for x,y,z in iterator:\n",
    "    z[...] = x + y\n",
    "print('Результат сложения двух двумерных массивов Z1+Z2:')\n",
    "print(iterator.operands[2])"
   ]
  },
  {
   "cell_type": "markdown",
   "id": "8f73e0f8",
   "metadata": {},
   "source": [
    "***[np.arange](https://numpy.org/doc/stable/reference/generated/numpy.arange.html)*** - Возвращает равномерно распределенные значения в пределах заданного полуоткрытого интервала [start. stop). Для целочисленных аргументов функция эквивалентна встроенной функции range Python , но возвращает ndarray, а не список.  \n",
    "\n",
    "***[np.reshape](https://numpy.org/doc/stable/reference/generated/numpy.reshape.html)*** - Изменяет размерность вектора на новую без изменения его данных.  \n",
    "\n",
    "***[np.nditer](https://numpy.org/doc/stable/reference/generated/numpy.nditer.html)*** - многомерный объект-итератор для перебора массивов  "
   ]
  },
  {
   "cell_type": "markdown",
   "id": "451aa288",
   "metadata": {},
   "source": [
    "#### 63. Create an array class that has a name attribute (★★☆)\n",
    "Создайте массив-класс, с атрибутом name"
   ]
  },
  {
   "cell_type": "code",
   "execution_count": 89,
   "id": "cf7238b0",
   "metadata": {},
   "outputs": [
    {
     "name": "stdout",
     "output_type": "stream",
     "text": [
      "Значение параметра 'name' класса Z: range_10\n",
      "Значение класса Z: [0 1 2 3 4 5 6 7 8 9]\n",
      "тип класса Z: <class '__main__.NamedArray'>\n"
     ]
    }
   ],
   "source": [
    "class NamedArray(np.ndarray):\n",
    "    def __new__(cls, array, name=\"no name\"):\n",
    "        obj = np.asarray(array).view(cls)\n",
    "        obj.name = name\n",
    "        return obj\n",
    "    def __array_finalize__(self, obj):\n",
    "        if obj is None: return\n",
    "        self.info = getattr(obj, 'name', \"no name\")\n",
    "\n",
    "N = 10\n",
    "Z = NamedArray(np.arange(N), f'range_{N}')  # инициализация нового класса с именем range_10\n",
    "print ('Значение параметра \\'name\\' класса Z:', Z.name)\n",
    "print ('Значение класса Z:', Z)\n",
    "print ('тип класса Z:', type(Z))"
   ]
  },
  {
   "cell_type": "markdown",
   "id": "9aa36103",
   "metadata": {},
   "source": [
    "***[np.arange](https://numpy.org/doc/stable/reference/generated/numpy.arange.html)*** - Возвращает равномерно распределенные значения в пределах заданного полуоткрытого интервала [start. stop). Для целочисленных аргументов функция эквивалентна встроенной функции range Python , но возвращает ndarray, а не список.  "
   ]
  },
  {
   "cell_type": "markdown",
   "id": "2df991ab",
   "metadata": {},
   "source": [
    "#### 64. Consider a given vector, how to add 1 to each element indexed by a second vector (be careful with repeated indices)? (★★★)  \n",
    "\n",
    "Нам задан вектор, как добавить 1 к каждому элементу, индексируемому вторым вектором (будьте осторожны с повторяющимися индексами)?  \n",
    "\n",
    "Пояснение к заданию: Например: есть два вектора Z = [0, 1] и I = [0, 0]. Второй вектор I воспринимается нами как индексы элементов  \n",
    "первого вектора Z, то есть первый элемент I[0] вектора I, это индекс вектра Z => Z[I[0]]. Нам необходимо пройти по всем индексам i  \n",
    " вектора I и добавить 1(единицу) к каждому элементу Z[I[i]]. Таким образом понятно что значения вектора I не выходят за рамки len(X)  \n",
    " Самый простой способ проверки нашего алгоритма это проверка истинности выражения np.sum(Z_) == np.sum(Z) + len(I),  \n",
    " где Z_ преобразованный массив Z (то есть к которому добавили единицы)."
   ]
  },
  {
   "cell_type": "code",
   "execution_count": 90,
   "id": "2541260e",
   "metadata": {},
   "outputs": [
    {
     "name": "stdout",
     "output_type": "stream",
     "text": [
      "Исходный вектор Z единичных значений длиной 10:\n",
      "[1. 1. 1. 1. 1. 1. 1. 1. 1. 1.]\n",
      "Сумма элементов вектора Z: 10.0\n",
      "Вектор индексов I длиной 20 из случайных значений равномерно распределенных на полуинтервале [0,10):\n",
      " [5 2 5 5 1 4 5 3 2 8 3 5 1 3 3 4 4 8 3 1]\n",
      "Преобразованный вектор Z_:\n",
      "[1. 4. 3. 6. 4. 6. 1. 1. 3. 1.]\n",
      "Сумма элементов вектора Z_: 30.0\n",
      "Проверка выражения np.sum(Z_) = np.sum(Z) + len(I):  True\n"
     ]
    }
   ],
   "source": [
    "N = 10  # размер вектора\n",
    "\n",
    "Z = np.ones(N)\n",
    "print(f'Исходный вектор Z единичных значений длиной {N}:\\n{Z}\\nСумма элементов вектора Z: {sum(Z)}')\n",
    "I = np.random.randint(1,N-1,N*2)\n",
    "print(f'Вектор индексов I длиной {2*N} из случайных значений равномерно распределенных на полуинтервале [0,{N}):\\n', I)\n",
    "Z += np.bincount(I, minlength=len(Z))\n",
    "print(f'Преобразованный вектор Z_:\\n{Z}\\nСумма элементов вектора Z_: {sum(Z)}')\n",
    "print('Проверка выражения np.sum(Z_) = np.sum(Z) + len(I): ', np.sum(Z) == N + len(I))"
   ]
  },
  {
   "cell_type": "markdown",
   "id": "89b163ca",
   "metadata": {},
   "source": [
    "***[np.ones](https://numpy.org/doc/stable/reference/generated/numpy.ones.html)*** - Возвращает новый массив, заполненный единицами.  \n",
    "\n",
    "***[np.random.randint](https://numpy.org/doc/stable/reference/random/generated/numpy.random.randint.html)*** - Возвращает случайные целые числа в «полуоткрытом» интервале [low, high) в виде вектора размера size.  \n",
    "\n",
    "***[np.bincount](https://numpy.org/doc/stable/reference/generated/numpy.bincount.html)*** - Подсчитывает количество вхождений каждого значения в массиве неотрицательных целых чисел.  \n",
    "minlength - параметр задает минимальное количество бинов (интервалов) для массива на выходе. В нашем случае мы задаем его как длина исходного вектора Z, таким образом получаем на выходе массив размерности (10,). В этом случае по индексам, которые отсутствуют в векторе I, мы получаем нули)  "
   ]
  },
  {
   "cell_type": "markdown",
   "id": "f5e5eefd",
   "metadata": {},
   "source": [
    "#### 65. How to accumulate elements of a vector (Z) to an array (Sum_Z_I) based on an index list (I)? (★★★)\n",
    "\n",
    "Как аккумулировать (просуммировать) элементы вектора (Z) в массив (Sum_Z_I) на основе индексного списка (I)?  \n",
    "Пояснения к задаче: предположим, что у вас есть какой-нибудь вектор Z в котором указано время ответа сервера на запрос в секундах за последние N запросов. При этом в другом векторе I записанны номера соответствующих серверов к которым были адресованны эти запросы. Вам нужно создать вектор sum_Z_I в котором каждому номеру сервера из вектора I соответствовало суммарное время ответа на запросы из вектора Z (то есть сумма всех минут ответа соответвующего сервера). При этом, чтобы в полученном векторе sum_Z_I были рассчитаны все имеющиеся сервера с номерами от 0 до np.max(I). То есть если сервера под номером 2 нет в списке I, то в полученном векторе соответствующий элемент sum_Z_I[2] = np.nan."
   ]
  },
  {
   "cell_type": "code",
   "execution_count": 91,
   "id": "75ce5ec5",
   "metadata": {},
   "outputs": [
    {
     "name": "stdout",
     "output_type": "stream",
     "text": [
      "Исходный вектор Z с временем ответа серверов за последние 20 запросов (случайно):\n",
      " [2 3 4 2 2 2 1 2 3 2 4 3 2 2 3 3 3 3 4 4]\n",
      "Вектор I с номерами серверов к которым были адресованны последние 20 запросов из вектора Z (случайно):\n",
      " [ 6  8  6  4  3  7 15  7  9  6 12 12 15 15 14  5  7 11 12  4]\n",
      "Вектор Sum_Z_I с аккумулированным (просуммированным) временем ответа серверов из вектра Z по соответствующим серверам перечисленным в векторе I:\n",
      " [ 0.  0.  2.  6.  3.  8.  7.  3.  3.  0.  3. 11.  0.  3.  5.]\n",
      "Суммарное время ответа по серверам за последние 20 запросов:\n",
      "сервер номер 3 - 2.0 сек.\n",
      "сервер номер 4 - 6.0 сек.\n",
      "сервер номер 5 - 3.0 сек.\n",
      "сервер номер 6 - 8.0 сек.\n",
      "сервер номер 7 - 7.0 сек.\n",
      "сервер номер 8 - 3.0 сек.\n",
      "сервер номер 9 - 3.0 сек.\n",
      "сервер номер 11 - 3.0 сек.\n",
      "сервер номер 12 - 11.0 сек.\n",
      "сервер номер 14 - 3.0 сек.\n",
      "сервер номер 15 - 5.0 сек.\n"
     ]
    }
   ],
   "source": [
    "N = 20  # кол-во последних запросов к серверам\n",
    "n = 15  # кол-во серверов\n",
    "\n",
    "Z = np.random.randint(1,5,N)\n",
    "print(f'Исходный вектор Z с временем ответа серверов за последние {N} запросов (случайно):\\n', Z)\n",
    "I = np.random.randint(1,n+1,N)\n",
    "print(f'Вектор I с номерами серверов к которым были адресованны последние {N} запросов из вектора Z (случайно):\\n', I)\n",
    "Sum_Z_I = np.bincount(I,weights=Z)\n",
    "print('Вектор Sum_Z_I с аккумулированным (просуммированным) временем ответа серверов из вектра Z по соответствующим серверам перечисленным в векторе I:\\n', Sum_Z_I[1:])\n",
    "\n",
    "print(f'Суммарное время ответа по серверам за последние {N} запросов:')\n",
    "for i_server in np.unique(I):\n",
    "    print(f'сервер номер {i_server} - {Sum_Z_I[i_server]} сек.')"
   ]
  },
  {
   "cell_type": "code",
   "execution_count": 92,
   "id": "9b1a953e",
   "metadata": {},
   "outputs": [
    {
     "data": {
      "text/plain": [
       "True"
      ]
     },
     "execution_count": 92,
     "metadata": {},
     "output_type": "execute_result"
    }
   ],
   "source": [
    "# проверка условия длины массива на выходе в зависимости от максимального значения вектора I\n",
    "np.max(I) + 1 == len(Sum_Z_I)"
   ]
  },
  {
   "cell_type": "markdown",
   "id": "f117b761",
   "metadata": {},
   "source": [
    "***[np.random.randint](https://numpy.org/doc/stable/reference/random/generated/numpy.random.randint.html)*** - Возвращает случайные целые числа в «полуоткрытом» интервале [low, high) в виде вектора размера size.  \n",
    "\n",
    "***[np.bincount](https://numpy.org/doc/stable/reference/generated/numpy.bincount.html)*** - Подсчитывает количество вхождений каждого значения в массиве неотрицательных целых чисел.  \n",
    "\n",
    "***[np.unique](https://numpy.org/doc/stable/reference/generated/numpy.unique.html)*** - Находит уникальные элементы массива и возвращает их в отсортированном виде.  "
   ]
  },
  {
   "cell_type": "markdown",
   "id": "dfe911ea",
   "metadata": {},
   "source": [
    "#### 66. Considering a (w,h,3) image of (dtype=ubyte), compute the number of unique colors (★★☆)\n",
    "Рассматривая (w, h, 3) изображение (dtype=ubyte), вычислите количество уникальных цветов."
   ]
  },
  {
   "cell_type": "code",
   "execution_count": 93,
   "id": "0b139bc0",
   "metadata": {},
   "outputs": [
    {
     "data": {
      "image/png": "[encoded data removed]",
      "text/plain": [
       "<IPython.core.display.Image object>"
      ]
     },
     "execution_count": 93,
     "metadata": {},
     "output_type": "execute_result"
    }
   ],
   "source": [
    "# загрузим картинку 400 на 400 содержащую 10 цветов\n",
    "from IPython.display import Image\n",
    "Image(filename='../images/picture_python.png')"
   ]
  },
  {
   "cell_type": "code",
   "execution_count": 94,
   "id": "9ed90d2f",
   "metadata": {},
   "outputs": [
    {
     "name": "stdout",
     "output_type": "stream",
     "text": [
      "Размер исходного вектора Z: (400, 400, 3)\n",
      "Пример первого элемента вектора Z[0][0]: [255 255 255] яркость всех RGB равна 255 - что соответствует белому цвету\n",
      "Список цветов и их кол-во:\n",
      "[ 50 100 155]  -  337  пикселей\n",
      "[100 100 155]  -  928  пикселей\n",
      "[100 100 200]  -  36134  пикселей\n",
      "[100 155 200]  -  37  пикселей\n",
      "[155 155 200]  -  461  пикселей\n",
      "[155 200 215]  -  24  пикселей\n",
      "[250 200   0]  -  37160  пикселей\n",
      "[250 200 100]  -  764  пикселей\n",
      "[255 230 155]  -  171  пикселей\n",
      "[255 255 255]  -  83984  пикселей\n",
      "Кол-во цветов: 10\n",
      "Всего пикселей: 160000\n"
     ]
    }
   ],
   "source": [
    "from PIL import Image\n",
    "\n",
    "image = Image.open('../images/picture_python.png').convert('RGB')  # откроем картинку и преобразуем через RGB палитру по пикселям\n",
    "Z = np.array(image).astype(np.uint8)  # создадим массив с типом np.uint8, чтобы сократить место занимаемое картинкой\n",
    "print('Размер исходного вектора Z:', Z.shape)\n",
    "print('Пример первого элемента вектора Z[0][0]:', Z[0][0], 'яркость всех RGB равна 255 - что соответствует белому цвету')\n",
    "\n",
    "# вытянем все пиксели картинки в один столбец из 3 значений RGB и найдем уникальные цвета, заодно посчитаем их кол-во.\n",
    "colors_Z, counts_Z = np.unique(Z.reshape(-1,3), axis=0, return_counts=1)\n",
    "\n",
    "print('Список цветов и их кол-во:')\n",
    "for i_color in range(len(colors_Z)):\n",
    "    print(colors_Z[i_color], ' - ', counts_Z[i_color], ' пикселей')\n",
    "print('Кол-во цветов:', len(colors_Z))\n",
    "print('Всего пикселей:', np.sum(counts_Z))"
   ]
  },
  {
   "cell_type": "markdown",
   "id": "82ef259d",
   "metadata": {},
   "source": [
    "давайте посмотрим на время выполнения операции подсчета уникальных цветов\n"
   ]
  },
  {
   "cell_type": "code",
   "execution_count": 95,
   "id": "47d1e47a",
   "metadata": {},
   "outputs": [
    {
     "name": "stdout",
     "output_type": "stream",
     "text": [
      "224 ms ± 30 ms per loop (mean ± std. dev. of 7 runs, 100 loops each)\n"
     ]
    }
   ],
   "source": [
    "%timeit -n 100 colors_Z = np.unique(Z.reshape(-1,3), axis=0)"
   ]
  },
  {
   "cell_type": "markdown",
   "id": "2aed4bed",
   "metadata": {},
   "source": [
    "мы запустили цикл замера времени выполнения выражения 100 раз и это заняло более 2-х минут\n",
    "\n",
    "кол-во уникальных цветов используется например в пайпланах нейронных сетей и препроцессинга изображений в глубоком обучении  \n",
    "в процессе обучения обрабатываются тысячи изображений, а также могут генерироваться тысячи новых в так называемой альбументации  \n",
    "поэтому вопрос сокращения времени выполнения этой операции актуален при самостоятельном написании пайплайнов  \n",
    "\n",
    "Mark Setchell предложил более быстрое решение  \n",
    "каждый пиксель из трех 8-ми битных цветов преобразуем в ряд из 24-битных целых число и среди них ищем уникальные  "
   ]
  },
  {
   "cell_type": "code",
   "execution_count": 96,
   "id": "ea81eedd",
   "metadata": {},
   "outputs": [
    {
     "name": "stdout",
     "output_type": "stream",
     "text": [
      "7.95 ms ± 520 µs per loop (mean ± std. dev. of 7 runs, 100 loops each)\n"
     ]
    }
   ],
   "source": [
    "%timeit -n 100 colors_Z_2 = np.unique(np.dot(Z.astype(np.uint32),[1,256,65536]))"
   ]
  },
  {
   "cell_type": "code",
   "execution_count": 97,
   "id": "1bca4ab0",
   "metadata": {},
   "outputs": [
    {
     "name": "stdout",
     "output_type": "stream",
     "text": [
      "Кол-во уникальных цветов рассчитанное вторым более быстрым способом: 10 . Равно первому варианту: True\n"
     ]
    }
   ],
   "source": [
    "colors_Z_2 = np.unique(np.dot(Z.astype(np.uint32),[1,256,65536]))\n",
    "print('Кол-во уникальных цветов рассчитанное вторым более быстрым способом:', len(colors_Z_2), \\\n",
    "    '. Равно первому варианту:', len(colors_Z)==len(colors_Z_2))"
   ]
  },
  {
   "cell_type": "markdown",
   "id": "8cc34e7d",
   "metadata": {},
   "source": [
    "\n",
    "***[IPython.display.Image](https://ipython.readthedocs.io/en/stable/api/generated/IPython.display.html?highlight=IPython.display.Image#IPython.display.Image)*** - класс для работы с объектами изображений в формате PNG/JPEG/GIF.  \n",
    "\n",
    "***[PIL.Image](https://pillow.readthedocs.io/en/stable/reference/Image.html)*** - модуль Image удобного фреймворка Pillow, для работы с изображениями.  \n",
    "\n",
    "***[np.ndarray.astype](https://numpy.org/doc/stable/reference/generated/numpy.ndarray.astype.html)*** - Метод, который приводит массив к заданному типу.  \n",
    "\n",
    "***[np.reshape](https://numpy.org/doc/stable/reference/generated/numpy.reshape.html)*** - Изменяет размерность вектора на новую без изменения его данных.  \n",
    "\n",
    "***[%timeit](https://ipython.org/ipython-doc/dev/interactive/magics.html#magic-timeit)*** - Магическая функция, которая пердает время выполнения оператора или выражения.  \n",
    "\n",
    "***[np.unique](https://numpy.org/doc/stable/reference/generated/numpy.unique.html)*** - Находит уникальные элементы массива и возвращает их в отсортированном виде.  \n",
    "\n",
    "***[np.dot](https://numpy.org/doc/stable/reference/generated/numpy.dot.html)*** - cкалярное произведение двух массивов."
   ]
  },
  {
   "cell_type": "markdown",
   "id": "8850c9ec",
   "metadata": {},
   "source": [
    "#### 67. Considering a four dimensions array, how to get sum over the last two axis at once? (★★★)\n",
    "Как получить суммы по двум последним осям заданного четырехмерного массива ?"
   ]
  },
  {
   "cell_type": "code",
   "execution_count": 98,
   "id": "cff0d727",
   "metadata": {},
   "outputs": [],
   "source": [
    "def print_4dim_array(d_A: array):\n",
    "    def my_replace(d_str:str):\n",
    "        return d_str.replace('\\n', '')\n",
    "    print(*[' '.join(map(my_replace,map(str,e))) for e in d_A], sep='\\n')"
   ]
  },
  {
   "cell_type": "code",
   "execution_count": 99,
   "id": "af255688",
   "metadata": {},
   "outputs": [
    {
     "name": "stdout",
     "output_type": "stream",
     "text": [
      "Исходный четырехмерный вектор Z {size} из случайных целых чисел до 1:\n",
      "[[1 0 1 0] [0 1 1 1] [1 0 0 1]] [[1 0 0 0] [0 1 0 1] [1 0 1 0]] [[1 0 1 0] [1 0 1 1] [1 1 1 1]] [[1 0 0 0] [1 1 0 0] [1 1 0 0]]\n",
      "[[1 1 1 1] [1 0 0 0] [0 1 1 1]] [[1 1 0 1] [0 0 0 1] [1 0 0 1]] [[0 1 0 0] [1 0 1 1] [1 0 0 1]] [[1 0 0 1] [1 0 1 1] [0 0 0 1]]\n",
      "[[1 1 0 1] [0 1 0 1] [0 1 1 0]] [[1 0 0 1] [1 1 0 0] [0 1 0 0]] [[0 0 1 1] [1 0 0 1] [1 0 0 1]] [[0 1 0 0] [1 1 0 1] [0 0 0 1]]\n",
      "Результат суммирования элементов вектора Z по двум последним осям:\n",
      " [[7 5 9 5]\n",
      " [8 6 6 6]\n",
      " [7 5 6 5]]\n"
     ]
    }
   ],
   "source": [
    "size_arr = (3,4,3,4)\n",
    "Z = np.random.randint(0,2,size=size_arr)  \n",
    "\n",
    "print('Исходный четырехмерный вектор Z {size} из случайных целых чисел до 1:')\n",
    "print_4dim_array(Z)\n",
    "\n",
    "sum_Z_last_two_axis = Z.sum(axis=(-2,-1))\n",
    "print('Результат суммирования элементов вектора Z по двум последним осям:\\n', sum_Z_last_two_axis)"
   ]
  },
  {
   "cell_type": "code",
   "execution_count": 100,
   "id": "a55e43f7",
   "metadata": {},
   "outputs": [
    {
     "name": "stdout",
     "output_type": "stream",
     "text": [
      "Результат суммирования элементов вектора Z по двум последним осям другим способом:\n",
      " [[7 5 9 5]\n",
      " [8 6 6 6]\n",
      " [7 5 6 5]]\n"
     ]
    }
   ],
   "source": [
    "# другой способ решения задачи, если вас попросят не пользоваться встроенной функцией перечисления осей в кортеже\n",
    "sum_Z_last_two_axis_2 = Z.reshape(Z.shape[:-2] + (-1,)).sum(axis=-1)\n",
    "print('Результат суммирования элементов вектора Z по двум последним осям другим способом:\\n', sum_Z_last_two_axis_2)"
   ]
  },
  {
   "cell_type": "markdown",
   "id": "be0be6d2",
   "metadata": {},
   "source": [
    "***[np.random.randint](https://numpy.org/doc/stable/reference/random/generated/numpy.random.randint.html)*** - Возвращает случайные целые числа в «полуоткрытом» интервале [low, high) в виде вектора размера size.  \n",
    "\n",
    "***[np.sum](https://numpy.org/doc/stable/reference/generated/numpy.sum.html)*** - Сумма элементов массива (матрицы) по заданной оси. Начиная с версии 1.7.0 параметр axis позволяет перчислять оси в кортеже.  \n",
    "\n",
    "***[np.reshape](https://numpy.org/doc/stable/reference/generated/numpy.reshape.html)*** - Изменяет размерность вектора на новую без изменения его данных.  "
   ]
  },
  {
   "cell_type": "markdown",
   "id": "db7cf0c6",
   "metadata": {},
   "source": [
    "#### 68. Considering a one-dimensional vector Z, how to compute means of subsets of D using a vector I of same size describing subset  indices? (★★★)\n",
    "\n",
    "Как вычислить средние значения подмножеств заданного одномерного массива Z, используя вектор I того же размера, описывающий индексы подмножеств?  \n",
    "Пояснения к задаче: предположим, что у вас есть какой-нибудь вектор Z в котором указано время ответа сервера на запрос в секундах за последние N запросов. При этом в другом векторе I записанны номера (индексы) соответствующих серверов к которым были адресованны эти запросы. Вам нужно создать вектор mean_Z_I в котором каждому номеру сервера из вектора I соответствовало бы среднее время ответа по запросам из вектора Z (то есть сумма всех минут ответа сервера поделенное на кол-во запросов к этому серверу). При этом, чтобы в полученном векторе mean_Z_I были рассчитаны все имеющиеся сервера с номерами от 0 до np.max(I). То есть если сервера под номером 2 нет в списке I, то в полученном векторе соответствующий элемент mean_Z_I[2] = np.nan."
   ]
  },
  {
   "cell_type": "code",
   "execution_count": 101,
   "id": "80177852",
   "metadata": {},
   "outputs": [
    {
     "name": "stdout",
     "output_type": "stream",
     "text": [
      "Исходный вектор Z с временем ответа серверов за последние 20 запросов (случайно):\n",
      " [4 1 2 2 4 4 3 4 3 2 4 2 3 2 4 4 4 1 1 4]\n",
      "Вектор I с номерами серверов к которым были адресованны последние 20 запросов из вектора Z (случайно):\n",
      " [ 9  9 10  1  5  6  8  4 10  3  3  8 10 10  6  4  5  7  3  1]\n",
      "Вектор mean_Z_I со средним временем ответа сервера из вектра Z по соответствующим серверам перечисленным в векторе I:\n",
      " [3.          nan 2.33333 4.      4.      4.      1.      2.5     2.5     2.5    ]\n",
      "Среднее время ответа серверов за последние 20 запросов:\n",
      "сервер номер 1 - 3.0 сек.\n",
      "сервер номер 3 - 2.33 сек.\n",
      "сервер номер 4 - 4.0 сек.\n",
      "сервер номер 5 - 4.0 сек.\n",
      "сервер номер 6 - 4.0 сек.\n",
      "сервер номер 7 - 1.0 сек.\n",
      "сервер номер 8 - 2.5 сек.\n",
      "сервер номер 9 - 2.5 сек.\n",
      "сервер номер 10 - 2.5 сек.\n"
     ]
    },
    {
     "name": "stderr",
     "output_type": "stream",
     "text": [
      "/tmp/ipykernel_77714/4111854446.py:11: RuntimeWarning: invalid value encountered in divide\n",
      "  mean_Z_I = sum_Z_I / I_counts\n"
     ]
    }
   ],
   "source": [
    "N = 20  # кол-во последних запросов к серверам\n",
    "n = 10  # кол-во серверов\n",
    "\n",
    "Z = np.random.randint(1,5,N)\n",
    "print(f'Исходный вектор Z с временем ответа серверов за последние {N} запросов (случайно):\\n', Z)\n",
    "I = np.random.randint(1,n+1,N)\n",
    "print(f'Вектор I с номерами серверов к которым были адресованны последние {N} запросов из вектора Z (случайно):\\n', I)\n",
    "sum_Z_I = np.bincount(I, weights=Z)\n",
    "\n",
    "I_counts = np.bincount(I)\n",
    "mean_Z_I = sum_Z_I / I_counts\n",
    "print('Вектор mean_Z_I со средним временем ответа сервера из вектра Z по соответствующим серверам перечисленным в векторе I:\\n', mean_Z_I[1:])\n",
    "\n",
    "print(f'Среднее время ответа серверов за последние {N} запросов:')\n",
    "for i_server in np.unique(I):\n",
    "    print(f'сервер номер {i_server} - {np.round(mean_Z_I[i_server],2)} сек.')"
   ]
  },
  {
   "cell_type": "markdown",
   "id": "5f0bffae",
   "metadata": {},
   "source": [
    "***[np.random.randint](https://numpy.org/doc/stable/reference/random/generated/numpy.random.randint.html)*** - Возвращает случайные целые числа в «полуоткрытом» интервале [low, high) в виде вектора размера size.  \n",
    "\n",
    "***[np.bincount](https://numpy.org/doc/stable/reference/generated/numpy.bincount.html)*** - Подсчитывает количество вхождений каждого значения в массиве неотрицательных целых чисел.  \n",
    "  \n",
    "***[np.unique](https://numpy.org/doc/stable/reference/generated/numpy.unique.html)*** - Находит уникальные элементы массива и возвращает их в отсортированном виде.  "
   ]
  },
  {
   "cell_type": "markdown",
   "id": "fe08b39d",
   "metadata": {},
   "source": [
    "#### 69. How to get the diagonal of a dot product? (★★★)\n",
    "Как получить диагональ Скалярного произведение (векторов)"
   ]
  },
  {
   "cell_type": "code",
   "execution_count": 102,
   "id": "ed4ea69c",
   "metadata": {},
   "outputs": [
    {
     "name": "stdout",
     "output_type": "stream",
     "text": [
      "Исходный вектор A размером 4 на 4 из случайных целых из полуинтервала [0, 2):\n",
      " [[1 1 0 0]\n",
      " [1 1 1 1]\n",
      " [1 1 0 0]\n",
      " [0 1 1 0]]\n",
      "Исходный вектор B размером 4 на 4 из случайных целых из полуинтервала [0, 2):\n",
      " [[0 1 0 1]\n",
      " [1 0 0 0]\n",
      " [1 0 1 0]\n",
      " [0 0 1 1]]\n",
      "Скалярное произведение A и B:\n",
      " [[1 1 0 1]\n",
      " [2 1 2 2]\n",
      " [1 1 0 1]\n",
      " [2 0 1 0]]\n",
      "Диагональ скалярного произведения A и B (прямое вычисление): [1 1 0 0]\n",
      "Диагональ скалярного произведения A и B (второй способ): [1 1 0 0]\n",
      "Диагональ скалярного произведения A и B (третий способ): [1 1 0 0]\n"
     ]
    }
   ],
   "source": [
    "A = np.random.randint(0,2,(4,4))\n",
    "print(f'Исходный вектор A размером 4 на 4 из случайных целых из полуинтервала [0, 2):\\n', A)\n",
    "B = np.random.randint(0,2,(4,4))\n",
    "print(f'Исходный вектор B размером 4 на 4 из случайных целых из полуинтервала [0, 2):\\n', B)\n",
    "dot_A_B = np.dot(A, B)\n",
    "print(f'Скалярное произведение A и B:\\n', dot_A_B)\n",
    "diag_dot_A_B = np.diag(dot_A_B)\n",
    "print(f'Диагональ скалярного произведения A и B (прямое вычисление):', diag_dot_A_B)\n",
    "\n",
    "diag_dot_A_B_2 = np.sum(A * B.T, axis=1)\n",
    "print(f'Диагональ скалярного произведения A и B (второй способ):', diag_dot_A_B_2)\n",
    "\n",
    "diag_dot_A_B_3 = np.einsum(\"ij,ji->i\", A, B)\n",
    "print(f'Диагональ скалярного произведения A и B (третий способ):', diag_dot_A_B_2)"
   ]
  },
  {
   "cell_type": "markdown",
   "id": "6f91f301",
   "metadata": {},
   "source": [
    "сравним скорости этих методов"
   ]
  },
  {
   "cell_type": "code",
   "execution_count": 103,
   "id": "4c94834e",
   "metadata": {},
   "outputs": [],
   "source": [
    "N = 200\n",
    "A = np.random.randint(0,N,(N,N))\n",
    "B = np.random.randint(0,N,(N,N))"
   ]
  },
  {
   "cell_type": "code",
   "execution_count": 104,
   "id": "7115a27d",
   "metadata": {},
   "outputs": [
    {
     "name": "stdout",
     "output_type": "stream",
     "text": [
      "11.5 ms ± 1.02 ms per loop (mean ± std. dev. of 7 runs, 100 loops each)\n"
     ]
    }
   ],
   "source": [
    "%timeit -n 100  diag_dot_A_B = np.diag(np.dot(A, B))"
   ]
  },
  {
   "cell_type": "code",
   "execution_count": 105,
   "id": "967f1ca4",
   "metadata": {},
   "outputs": [
    {
     "name": "stdout",
     "output_type": "stream",
     "text": [
      "180 µs ± 10.1 µs per loop (mean ± std. dev. of 7 runs, 100 loops each)\n"
     ]
    }
   ],
   "source": [
    "%timeit -n 100  diag_dot_A_B_2 = np.sum(A * B.T, axis=1)"
   ]
  },
  {
   "cell_type": "code",
   "execution_count": 106,
   "id": "261ae588",
   "metadata": {},
   "outputs": [
    {
     "name": "stdout",
     "output_type": "stream",
     "text": [
      "73.2 µs ± 6.45 µs per loop (mean ± std. dev. of 7 runs, 100 loops each)\n"
     ]
    }
   ],
   "source": [
    "%timeit -n 100  diag_dot_A_B_3 = np.einsum(\"ij,ji->i\", A, B)"
   ]
  },
  {
   "cell_type": "markdown",
   "id": "d1331595",
   "metadata": {},
   "source": [
    " видно что второй способ быстрее первого, а третий способ быстрее второго"
   ]
  },
  {
   "cell_type": "markdown",
   "id": "0c6a6d92",
   "metadata": {},
   "source": [
    "***[np.random.randint](https://numpy.org/doc/stable/reference/random/generated/numpy.random.randint.html)*** - Возвращает случайные целые числа в «полуоткрытом» интервале [low, high) в виде вектора размера size.  \n",
    "\n",
    "***[np.bincount](https://numpy.org/doc/stable/reference/generated/numpy.bincount.html)*** - Подсчитывает количество вхождений каждого значения в массиве неотрицательных целых чисел.  \n",
    "\n",
    "***[np.dot](https://numpy.org/doc/stable/reference/generated/numpy.dot.html)*** - cкалярное произведение двух массивов.\n",
    "\n",
    "***[np.diag](https://numpy.org/doc/stable/reference/generated/numpy.diag.html)*** - создает диагональную матрицу.  \n",
    "\n",
    "***[np.sum](https://numpy.org/doc/stable/reference/generated/numpy.sum.html)*** - сумма элементов массива (матрицы) по заданной оси.  \n",
    "Для двумерных матриц: axis = 1 - по строкам  \n",
    "\n",
    "***[np.einsum](https://numpy.org/doc/stable/reference/generated/numpy.einsum.html)*** - выполняет суммирование по набору проиндексированных членов в формуле (могут быть заданы явным или неявным образом) соглашение о суммировании Эйнштейна  "
   ]
  },
  {
   "cell_type": "markdown",
   "id": "ed14290e",
   "metadata": {},
   "source": [
    "#### 70. Consider the vector [1, 2, 3, 4, 5], how to build a new vector with 3 consecutive zeros interleaved between each value? (★★★)\n",
    "\n",
    "Рассмотрим вектор [1, 2, 3, 4, 5], как построить новый вектор с 3 последовательными нулями, чередующимися между каждым значением"
   ]
  },
  {
   "cell_type": "code",
   "execution_count": 107,
   "id": "5847c821",
   "metadata": {},
   "outputs": [
    {
     "name": "stdout",
     "output_type": "stream",
     "text": [
      "Исходный вектор Z длинной 5:\n",
      " [1 2 3 4 5]\n",
      "Вспомогательный нулевой вектор Z0 длиной 17:\n",
      " [0. 0. 0. 0. 0. 0. 0. 0. 0. 0. 0. 0. 0. 0. 0. 0. 0.]\n",
      "Итоговый вектор Z с тремя нулями между числами:\n",
      " [1. 0. 0. 0. 2. 0. 0. 0. 3. 0. 0. 0. 4. 0. 0. 0. 5.]\n"
     ]
    }
   ],
   "source": [
    "Z = np.array([1,2,3,4,5])\n",
    "print(f'Исходный вектор Z длинной {len(Z)}:\\n', Z)\n",
    "\n",
    "nz = 3  # кол-во нулей между числами \n",
    "new_len_arr = len(Z) + (len(Z)-1)*(nz)  # новая длина вектора\n",
    "Z0 = np.zeros(new_len_arr)\n",
    "print(f'Вспомогательный нулевой вектор Z0 длиной {new_len_arr}:\\n', Z0)\n",
    "Z0[::nz+1] = Z  # вставляем в нулевой вектор значения вектора Z с шагом nz+1 \n",
    "print(f'Итоговый вектор Z с тремя нулями между числами:\\n', Z0)"
   ]
  },
  {
   "cell_type": "markdown",
   "id": "8becee04",
   "metadata": {},
   "source": [
    "#### 71. Consider an array of dimension (5,5,3), how to mulitply it by an array with dimensions (5,5)? (★★★)  \n",
    "\n",
    "Как умножить имеющийся массив размерности (5,5,3) на массив с размерами (5,5)  "
   ]
  },
  {
   "cell_type": "code",
   "execution_count": 108,
   "id": "af33e92a",
   "metadata": {},
   "outputs": [
    {
     "name": "stdout",
     "output_type": "stream",
     "text": [
      "Трех мерный массив A размером (5,3,5):\n",
      " [[[ 0  1  2]\n",
      "  [ 3  4  5]\n",
      "  [ 6  7  8]\n",
      "  [ 9 10 11]\n",
      "  [12 13 14]]\n",
      "\n",
      " [[15 16 17]\n",
      "  [18 19 20]\n",
      "  [21 22 23]\n",
      "  [24 25 26]\n",
      "  [27 28 29]]\n",
      "\n",
      " [[30 31 32]\n",
      "  [33 34 35]\n",
      "  [36 37 38]\n",
      "  [39 40 41]\n",
      "  [42 43 44]]\n",
      "\n",
      " [[45 46 47]\n",
      "  [48 49 50]\n",
      "  [51 52 53]\n",
      "  [54 55 56]\n",
      "  [57 58 59]]\n",
      "\n",
      " [[60 61 62]\n",
      "  [63 64 65]\n",
      "  [66 67 68]\n",
      "  [69 70 71]\n",
      "  [72 73 74]]]\n",
      "Двумерный массив B размером (5,5):\n",
      " [[2. 2. 2. 2. 2.]\n",
      " [2. 2. 2. 2. 2.]\n",
      " [2. 2. 2. 2. 2.]\n",
      " [2. 2. 2. 2. 2.]\n",
      " [2. 2. 2. 2. 2.]]\n",
      "Результат перемножения массивов A и B:\n",
      " [[[  0.   2.   4.]\n",
      "  [  6.   8.  10.]\n",
      "  [ 12.  14.  16.]\n",
      "  [ 18.  20.  22.]\n",
      "  [ 24.  26.  28.]]\n",
      "\n",
      " [[ 30.  32.  34.]\n",
      "  [ 36.  38.  40.]\n",
      "  [ 42.  44.  46.]\n",
      "  [ 48.  50.  52.]\n",
      "  [ 54.  56.  58.]]\n",
      "\n",
      " [[ 60.  62.  64.]\n",
      "  [ 66.  68.  70.]\n",
      "  [ 72.  74.  76.]\n",
      "  [ 78.  80.  82.]\n",
      "  [ 84.  86.  88.]]\n",
      "\n",
      " [[ 90.  92.  94.]\n",
      "  [ 96.  98. 100.]\n",
      "  [102. 104. 106.]\n",
      "  [108. 110. 112.]\n",
      "  [114. 116. 118.]]\n",
      "\n",
      " [[120. 122. 124.]\n",
      "  [126. 128. 130.]\n",
      "  [132. 134. 136.]\n",
      "  [138. 140. 142.]\n",
      "  [144. 146. 148.]]]\n"
     ]
    }
   ],
   "source": [
    "A = np.arange(5*5*3).reshape(5,5,3)\n",
    "print(f'Трех мерный массив A размером (5,3,5):\\n', A)\n",
    "B = 2*np.ones((5,5))\n",
    "print(f'Двумерный массив B размером (5,5):\\n', B)\n",
    "print(f'Результат перемножения массивов A и B:\\n',A * B[:,:,None])"
   ]
  },
  {
   "cell_type": "markdown",
   "id": "009e6c55",
   "metadata": {},
   "source": [
    "***[np.reshape](https://numpy.org/doc/stable/reference/generated/numpy.reshape.html)*** - Изменяет размерность вектора на новую без изменения его данных.  "
   ]
  },
  {
   "cell_type": "markdown",
   "id": "07bb3158",
   "metadata": {},
   "source": [
    "#### 72. How to swap two rows of an array? (★★★)\n",
    "\n",
    "Как поменять местами две строки массива?"
   ]
  },
  {
   "cell_type": "code",
   "execution_count": 109,
   "id": "db09c59d",
   "metadata": {},
   "outputs": [
    {
     "name": "stdout",
     "output_type": "stream",
     "text": [
      "Исходный вектор Z:\n",
      " [[ 0  1  2  3  4]\n",
      " [ 5  6  7  8  9]\n",
      " [10 11 12 13 14]\n",
      " [15 16 17 18 19]\n",
      " [20 21 22 23 24]]\n",
      "Требуемый вектор Z:\n",
      " [[ 5  6  7  8  9]\n",
      " [ 0  1  2  3  4]\n",
      " [10 11 12 13 14]\n",
      " [15 16 17 18 19]\n",
      " [20 21 22 23 24]]\n"
     ]
    }
   ],
   "source": [
    "Z = np.arange(25).reshape(5,5)\n",
    "print(f'Исходный вектор Z:\\n', Z)\n",
    "Z[[0,1]] = Z[[1,0]]  # для примера поменяем нулевую и первую строки\n",
    "print(f'Требуемый вектор Z:\\n', Z)"
   ]
  },
  {
   "cell_type": "markdown",
   "id": "ce96430b",
   "metadata": {},
   "source": [
    "***[np.reshape](https://numpy.org/doc/stable/reference/generated/numpy.reshape.html)*** - Изменяет размерность вектора на новую без изменения его данных.  "
   ]
  },
  {
   "cell_type": "markdown",
   "id": "3f577202",
   "metadata": {},
   "source": [
    "#### 73. Consider a set of 10 triplets describing 10 triangles (with shared vertices), find the set of unique line segments composing all the  triangles (★★★)\n",
    "Рассмотрим набор из 10 триплетов, описывающих 10 треугольников (с общими вершинами), найдите набор уникальных (непересекающихся) отрезков, проходящих через все вершины треугольников.  \n",
    "***Коммент к заданию*** я не очень догнал практический смысл этого обхода всех вершин треугольников один раз, может быть кто-нибудь знает где это полезно => напишите. Потому что во всех решениях которые я встречал применяется сортировка, которая меняет первоначальные триплеты. "
   ]
  },
  {
   "cell_type": "code",
   "execution_count": 110,
   "id": "3e1df3db",
   "metadata": {},
   "outputs": [
    {
     "name": "stdout",
     "output_type": "stream",
     "text": [
      "Вывод первого триплета исходного массива Z для примера:\n",
      " [99 24 24 22 22 99]\n",
      "Вывод первых трех вершиш требуемого (маршрута) обхода вершин трегольников R для примера:\n",
      " [[0.00002 0.00024 0.00107 0.00177 0.00107 0.00024 0.00002]\n",
      " [0.00024 0.00292 0.01306 0.02154 0.01306 0.00292 0.00024]\n",
      " [0.00107 0.01306 0.05855 0.09653 0.05855 0.01306 0.00107]]\n"
     ]
    }
   ],
   "source": [
    "faces = np.random.randint(0,100,(10,3))\n",
    "\n",
    "Z = np.roll(faces.repeat(2,axis=1),-1,axis=1)\n",
    "print('Вывод первого триплета исходного массива Z для примера:\\n', Z[0])\n",
    "\n",
    "Z = Z.reshape(len(Z)*3,2)\n",
    "R = Z.view( dtype=[('p0',Z.dtype),('p1',Z.dtype)] )\n",
    "R = np.unique(R)\n",
    "print('Вывод первых трех вершиш требуемого (маршрута) обхода вершин трегольников R для примера:\\n', G[:3])"
   ]
  },
  {
   "cell_type": "code",
   "execution_count": 111,
   "id": "4ff821c1",
   "metadata": {},
   "outputs": [
    {
     "data": {
      "image/png": "[encoded data removed]",
      "text/plain": [
       "<Figure size 640x480 with 1 Axes>"
      ]
     },
     "metadata": {},
     "output_type": "display_data"
    }
   ],
   "source": [
    "# мне показалось что визуализация в этом случае будет полезнее простого вывода массивов\n",
    "# синим - первоначальный триплет выведенный выше для примера\n",
    "# зеленым - исходные треугольники F\n",
    "# красным - обход всех вершин треугольников один раз уникальными отрезками \n",
    "import matplotlib.pyplot as plt\n",
    "i = 1\n",
    "plt.plot([Z[i-1][0],Z[i][0],Z[i+1][0],Z[i-1][0]], \n",
    "             [Z[i-1][1],Z[i][1],Z[i+1][1],Z[i-1][1]], color='b')\n",
    "for i in range(4,len(Z), 3):\n",
    "    plt.plot([Z[i-1][0],Z[i][0],Z[i+1][0],Z[i-1][0]], \n",
    "             [Z[i-1][1],Z[i][1],Z[i+1][1],Z[i-1][1]], color='g')\n",
    "\n",
    "for i in range(1,len(R)):\n",
    "    plt.plot([R[i-1][0],R[i][0]], [R[i-1][1],R[i][1]], color='r')\n",
    "plt.show()"
   ]
  },
  {
   "cell_type": "markdown",
   "id": "6913f23d",
   "metadata": {},
   "source": [
    "***[np.random.randint](https://numpy.org/doc/stable/reference/random/generated/numpy.random.randint.html)*** - Возвращает случайные целые числа в «полуоткрытом» интервале [low, high) в виде вектора размера size.    \n",
    "\n",
    "***[np.reshape](https://numpy.org/doc/stable/reference/generated/numpy.reshape.html)*** - Изменяет размерность вектора на новую без изменения его данных.  \n",
    "\n",
    "***[np.unique](https://numpy.org/doc/stable/reference/generated/numpy.unique.html)*** - Находит уникальные элементы массива и возвращает их в отсортированном виде.  "
   ]
  },
  {
   "cell_type": "markdown",
   "id": "8e680a67",
   "metadata": {},
   "source": [
    "#### 74. Given a sorted array C that corresponds to a bincount, how to produce an array A such that np.bincount(A) == C? (★★★)\n",
    "Имея отсортированный массив C, который соответствует функции np.bincount, как создать массив A таким образом, чтобы np.bincount(A) == C?"
   ]
  },
  {
   "cell_type": "code",
   "execution_count": 112,
   "id": "8cfb4671",
   "metadata": {},
   "outputs": [
    {
     "name": "stdout",
     "output_type": "stream",
     "text": [
      "Исходный отсортированный вектор Z длинной 10:\n",
      " [1 2 4 5 6 7 8 9 9 9]\n",
      "Вектор I соответствующий функции np.bincount(Z):\n",
      " [0 1 1 0 1 1 1 1 1 3]\n",
      "Восстановленный из вектора I вектор Z:\n",
      " [1 2 4 5 6 7 8 9 9 9]\n"
     ]
    }
   ],
   "source": [
    "N = 10 \n",
    "\n",
    "Z = np.sort(np.random.randint(1,N,N))\n",
    "print(f'Исходный отсортированный вектор Z длинной {len(Z)}:\\n', Z)\n",
    "I = np.bincount(Z)\n",
    "print(f'Вектор I соответствующий функции np.bincount(Z):\\n', I)\n",
    "A = np.repeat(np.arange(len(I)), repeats=I)\n",
    "print(f'Восстановленный из вектора I вектор Z:\\n', A)"
   ]
  },
  {
   "cell_type": "markdown",
   "id": "639e8cdb",
   "metadata": {},
   "source": [
    "***[np.random.randint](https://numpy.org/doc/stable/reference/random/generated/numpy.random.randint.html)*** - Возвращает случайные целые числа в «полуоткрытом» интервале [low, high) в виде вектора размера size.  \n",
    "\n",
    "***[np.sort](https://numpy.org/doc/stable/reference/generated/numpy.sort.html)*** - Возвращает отсортированную копию массива\n",
    "\n",
    "***[np.bincount](https://numpy.org/doc/stable/reference/generated/numpy.bincount.html)*** - Подсчитывает количество вхождений каждого значения в массиве неотрицательных целых чисел.  \n",
    "\n",
    "***[np.repeat](https://numpy.org/doc/stable/reference/generated/numpy.repeat.html)*** - Повторяет элементы массива. Парамметр repeats - вектор с количеством повторений каждого элемента массива\n"
   ]
  },
  {
   "cell_type": "markdown",
   "id": "102b896d",
   "metadata": {},
   "source": [
    "#### 75. How to compute averages using a sliding window over an array? (★★★)\n",
    "Как рассчитать средние значения скользящего окна по массиву?"
   ]
  },
  {
   "cell_type": "code",
   "execution_count": 113,
   "id": "7424b40a",
   "metadata": {},
   "outputs": [
    {
     "name": "stdout",
     "output_type": "stream",
     "text": [
      "Исходный вектор Z длинной 20:\n",
      " [ 0  1  2  3  4  5  6  7  8  9 10 11 12 13 14 15 16 17 18 19] \n",
      "\n",
      "Вектор средних значений скользящего окна рамера 2 вектора Z:\n",
      " [ 0.5  1.5  2.5  3.5  4.5  5.5  6.5  7.5  8.5  9.5 10.5 11.5 12.5 13.5 14.5 15.5 16.5 17.5 18.5]\n",
      ", длина вектора  19 \n",
      "\n",
      "Вектор средних значений скользящего окна рамера 3 вектора Z:\n",
      " [ 1.  2.  3.  4.  5.  6.  7.  8.  9. 10. 11. 12. 13. 14. 15. 16. 17. 18.]\n",
      ", длина вектора  18 \n",
      "\n"
     ]
    }
   ],
   "source": [
    "def moving_average(arr, d_size_window:int):\n",
    "    '''\n",
    "    функция которая возвращает средние значения скользящего окна по одномерному вектору\n",
    "    arr - входящий массив\n",
    "    d_size_window - размер окна\n",
    "    '''\n",
    "    if d_size_window>=1:\n",
    "        cumsum_arr = np.cumsum(arr)\n",
    "        cumsum_arr[d_size_window:] = cumsum_arr[d_size_window:] - cumsum_arr[:-d_size_window]\n",
    "        return cumsum_arr[d_size_window - 1:] / d_size_window\n",
    "    else:\n",
    "        return arr\n",
    "    \n",
    "Z = np.arange(20)\n",
    "print(f'Исходный вектор Z длинной {len(Z)}:\\n', Z, '\\n')\n",
    "size_window = 2\n",
    "moving_average_ww_2 = moving_average(Z, d_size_window=size_window)\n",
    "print(f'Вектор средних значений скользящего окна рамера {size_window} вектора Z:\\n', moving_average_ww_2)\n",
    "print(f', длина вектора ', len(moving_average_ww_2), '\\n')\n",
    "\n",
    "size_window = 3\n",
    "moving_average_ww_3 = moving_average(Z, d_size_window=size_window)\n",
    "print(f'Вектор средних значений скользящего окна рамера {size_window} вектора Z:\\n', moving_average_ww_3)\n",
    "print(f', длина вектора ', len(moving_average_ww_3), '\\n')"
   ]
  },
  {
   "cell_type": "markdown",
   "id": "79b88e34",
   "metadata": {},
   "source": [
    "***[np.cumsum](https://numpy.org/doc/stable/reference/generated/numpy.cumsum.html)*** - Возвращает куммулятивную сумму элементов массива по заданной оси.  "
   ]
  },
  {
   "cell_type": "markdown",
   "id": "53ed4d22",
   "metadata": {},
   "source": [
    "#### 76. Consider a one-dimensional array Z, build a two-dimensional array whose first row is (Z[0],Z[1],Z[2]) and each subsequent row is  shifted by 1 (last row should be (Z[-3],Z[-2],Z[-1]) (★★★)  \n",
    "Рассмотрим одномерный массив Z, построим двумерный массив, первая строка которого равна (Z[0],Z[1],Z[2]), а каждая последующая строка сдвинута на 1 (последняя строка должна быть (Z[-3],Z[-2],Z[-1])"
   ]
  },
  {
   "cell_type": "code",
   "execution_count": 114,
   "id": "24753c56",
   "metadata": {},
   "outputs": [
    {
     "name": "stdout",
     "output_type": "stream",
     "text": [
      "Исходный вектор Z длины 10:\n",
      " [0 1 2 3 4 5 6 7 8 9]\n",
      "Двумерный массив Z2 размером (8, 3) полученный из Z с окном размера 3:\n",
      " [[0 1 2]\n",
      " [1 2 3]\n",
      " [2 3 4]\n",
      " [3 4 5]\n",
      " [4 5 6]\n",
      " [5 6 7]\n",
      " [6 7 8]\n",
      " [7 8 9]]\n"
     ]
    }
   ],
   "source": [
    "from numpy.lib import stride_tricks\n",
    "\n",
    "Z = np.arange(10)\n",
    "print(f'Исходный вектор Z длины {len(Z)}:\\n', Z)\n",
    "def rolling(arr, d_size_window, d_writeable=False):\n",
    "    '''\n",
    "    функция которая возвращает двумерный массив из одномерного, где каждый следующий элемент \n",
    "    массива это образ сдвига окна от входящего массива\n",
    "    arr - входящий массив\n",
    "    d_size_window - размер окна\n",
    "    '''\n",
    "    shape = (arr.size - d_size_window + 1, d_size_window)\n",
    "    strides = (arr.itemsize, arr.itemsize)\n",
    "    return stride_tricks.as_strided(arr, shape=shape, strides=strides, writeable=d_writeable )\n",
    "\n",
    "size_window = 3\n",
    "Z2 = rolling(Z, size_window)\n",
    "print(f'Двумерный массив Z2 размером {Z2.shape} полученный из Z с окном размера {size_window}:\\n', Z2)"
   ]
  },
  {
   "cell_type": "code",
   "execution_count": 115,
   "id": "48b804c8",
   "metadata": {},
   "outputs": [
    {
     "name": "stdout",
     "output_type": "stream",
     "text": [
      "Двумерный массив Z2_2 размером (8, 3) полученный из Z с окном размера 3:\n",
      " [[0 1 2]\n",
      " [1 2 3]\n",
      " [2 3 4]\n",
      " [3 4 5]\n",
      " [4 5 6]\n",
      " [5 6 7]\n",
      " [6 7 8]\n",
      " [7 8 9]]\n"
     ]
    }
   ],
   "source": [
    "# давайте посмотрим, что будет  с параметром writeable = True\n",
    "Z2_2 = rolling(Z, size_window, d_writeable=True)\n",
    "print(f'Двумерный массив Z2_2 размером {Z2_2.shape} полученный из Z с окном размера {size_window}:\\n', Z2)"
   ]
  },
  {
   "cell_type": "code",
   "execution_count": 116,
   "id": "ece976ce",
   "metadata": {},
   "outputs": [
    {
     "name": "stdout",
     "output_type": "stream",
     "text": [
      "Текущий нулевой элемент массива Z2_2: [0 1 2]\n",
      "Нулевой элемент массива Z2_2 после изменения: [100   1   2]\n"
     ]
    }
   ],
   "source": [
    "# давайте изменим первый элемент массива Z2_2\n",
    "print('Текущий нулевой элемент массива Z2_2:', Z2_2[0])\n",
    "Z2_2[0][0]=100\n",
    "print('Нулевой элемент массива Z2_2 после изменения:', Z2_2[0])"
   ]
  },
  {
   "cell_type": "code",
   "execution_count": 117,
   "id": "69d5118d",
   "metadata": {},
   "outputs": [
    {
     "data": {
      "text/plain": [
       "array([100,   1,   2,   3,   4,   5,   6,   7,   8,   9])"
      ]
     },
     "execution_count": 117,
     "metadata": {},
     "output_type": "execute_result"
    }
   ],
   "source": [
    "# посмотрим на первоначальный массив Z\n",
    "Z"
   ]
  },
  {
   "cell_type": "code",
   "execution_count": 118,
   "id": "135e85f1",
   "metadata": {},
   "outputs": [
    {
     "name": "stdout",
     "output_type": "stream",
     "text": [
      "Exception:  assignment destination is read-only\n"
     ]
    }
   ],
   "source": [
    "# теперь попробуем изменить массив Z2 созданный c writeable=False\n",
    "try:\n",
    "    Z2[0][0]=100\n",
    "except Exception as e:\n",
    "    print('Exception: ', e)"
   ]
  },
  {
   "cell_type": "code",
   "execution_count": 119,
   "id": "b4254e84",
   "metadata": {},
   "outputs": [],
   "source": [
    "# мы не смогли изменить представление массива Z2 и таким образом не повредили исходный массив Z"
   ]
  },
  {
   "cell_type": "markdown",
   "id": "626fef1f",
   "metadata": {},
   "source": [
    "***[stride_tricks.as_strided](https://numpy.org/doc/stable/reference/generated/numpy.lib.stride_tricks.as_strided.html)*** - Создает представление исходного массива в виде массива с заданной формой и шагами.  \n",
    "Параметр writeable - Если установлено значение False, возвращаемый массив всегда будет доступен только для чтения. В противном случае он будет доступен для записи, если исходный массив был указан.  "
   ]
  },
  {
   "cell_type": "markdown",
   "id": "86617021",
   "metadata": {},
   "source": [
    "#### 77. How to negate a boolean, or to change the sign of a float inplace? (★★★)\n",
    "Как реализовать отрицание логического значения или изменить знак числа с плавающей точкой в массиве без копирования (или без дополнительных переменных)?\n",
    "В этом задании два вопроса давайте разберем и реализуем их отдельно:\n",
    "1. Как реализовать отрицание логического значения? То есть требуется в массиве который задан значениями True(1) или False(0) реализовать трансформацию True(1)=>False(0) и наоборот False(0)=>True(1). И нужно реализовать это так, чтобы не создавать новых переменных и не занимать лишнюю память \n",
    "2. Как реализовать изменение знака у вещественных элементов массива, чтобы не создавать новых переменных и не занимать лишнюю память?"
   ]
  },
  {
   "cell_type": "code",
   "execution_count": 120,
   "id": "778fd9cd",
   "metadata": {},
   "outputs": [
    {
     "name": "stdout",
     "output_type": "stream",
     "text": [
      "Исходный массив Z длины 10 типа int64:\n",
      " [1 1 1 0 1 0 1 1 1 0]\n",
      "Преобразованный массив Z длины 10 типа int64:\n",
      " [0 0 0 1 0 1 0 0 0 1]\n",
      "===\n",
      "Исходный массив Z длины 10 типа bool_:\n",
      " [False False False  True False  True False False False  True]\n",
      "Преобразованный массив Z длины 10 типа int64:\n",
      " [ True  True  True False  True False  True  True  True False]\n"
     ]
    }
   ],
   "source": [
    "# реализуем решение для первой части задания\n",
    "Z = np.random.randint(0,2,10)\n",
    "print(f'Исходный массив Z длины {len(Z)} типа {type(Z[0]).__name__}:\\n', Z)\n",
    "np.logical_not(Z, out=Z)\n",
    "print(f'Преобразованный массив Z длины {len(Z)} типа {type(Z[0]).__name__}:\\n', Z)\n",
    "print('===')\n",
    "Z_bool = Z.astype(bool)\n",
    "print(f'Исходный массив Z длины {len(Z)} типа {type(Z_bool[0]).__name__}:\\n', Z_bool)\n",
    "np.logical_not(Z_bool, out=Z_bool)\n",
    "print(f'Преобразованный массив Z длины {len(Z)} типа {type(Z[0]).__name__}:\\n', Z_bool)"
   ]
  },
  {
   "cell_type": "code",
   "execution_count": 121,
   "id": "3ec15324",
   "metadata": {},
   "outputs": [
    {
     "name": "stdout",
     "output_type": "stream",
     "text": [
      "Исходный массив Z длины 10 типа float64:\n",
      " [-0.48429 -0.82048  0.43583  0.07583  0.73555 -0.2386   0.6929   0.41433 -0.43954  0.32123]\n",
      "Преобразованный массив Z длины 10 типа float64:\n",
      " [ 0.48429  0.82048 -0.43583 -0.07583 -0.73555  0.2386  -0.6929  -0.41433  0.43954 -0.32123]\n"
     ]
    }
   ],
   "source": [
    "# реализуем решение для второй части задания\n",
    "Z = np.random.uniform(-1.0,1.0,10)\n",
    "print(f'Исходный массив Z длины {len(Z)} типа {type(Z[0]).__name__}:\\n', Z)\n",
    "np.negative(Z, out=Z)\n",
    "print(f'Преобразованный массив Z длины {len(Z)} типа {type(Z[0]).__name__}:\\n', Z)"
   ]
  },
  {
   "cell_type": "markdown",
   "id": "389148bd",
   "metadata": {},
   "source": [
    "***[np.random.randint](https://numpy.org/doc/stable/reference/random/generated/numpy.random.randint.html)*** - Возвращает случайные целые числа в «полуоткрытом» интервале [low, high) в виде вектора размера size.  \n",
    "\n",
    "***[np.logical_not](https://numpy.org/doc/stable/reference/generated/numpy.logical_not.html)*** - Поэлементно применяет логический оператор NOT ко всем элементам массива.  \n",
    "парамметр out - место куда сохраняется результат.  \n",
    "\n",
    "***[np.random.uniform](https://numpy.org/doc/stable/reference/random/generated/numpy.random.uniform.html)*** - Выборка из равномерного распределения из полуоткрытого интервала [low, high). Если параметр size не определен, то по умолчанию возвращается одно значение  \n",
    "\n",
    "***[np.negative](https://numpy.org/doc/stable/reference/generated/numpy.negative.html)*** - Поэлементно меняет знак числа всех элементов массива.  \n",
    "парамметр out - место куда сохраняется результат. "
   ]
  },
  {
   "cell_type": "markdown",
   "id": "bd24e83a",
   "metadata": {},
   "source": [
    "#### 78. Consider 2 sets of points P0,P1 describing lines (2d) and a point p, how to compute distance from p to each line i (P0[i],P1[i])? (★★★)\n",
    "Рассмотрим 2 набора точек P0, P1, описывающих линии (2d) и точку p, как вычислить расстояние от p до каждой линии i (P0 [i],P1[i])?\n"
   ]
  },
  {
   "cell_type": "code",
   "execution_count": 122,
   "id": "fa590fab",
   "metadata": {},
   "outputs": [
    {
     "name": "stdout",
     "output_type": "stream",
     "text": [
      "Координаты точки: [[2 7]]\n",
      "Расстояния до линий: [2.      5.26965 1.83848]\n"
     ]
    }
   ],
   "source": [
    "def distance_point_to_lines(d_P0, d_P1, d_point, with_pp=True):\n",
    "    '''\n",
    "    функция расчитывает расстояния от точки и линиями заданными начальной и конечной точкой\n",
    "    d_L0 - массив точек начала линий\n",
    "    d_L1 - массив точек окончания линий\n",
    "    d_point - координаты точек\n",
    "    также для удобства отображения я возвращаю точки перпендикуляров из точки к прямым при флаге with_pp=True\n",
    "    '''\n",
    "    Len_line = d_P1 - d_P0\n",
    "    L_2 = (Len_line**2).sum(axis=1)\n",
    "    U = -((d_P0[:,0]-d_point[...,0])*Len_line[:,0] + (d_P0[:,1]-d_point[...,1])*Len_line[:,1]) / L_2\n",
    "    U = U.reshape(len(U),1)\n",
    "    points_of_perpendicular = d_P0 + U*Len_line\n",
    "    D = points_of_perpendicular - d_point\n",
    "    if with_pp:\n",
    "        return np.sqrt((D**2).sum(axis=1)), points_of_perpendicular\n",
    "    else:\n",
    "        return np.sqrt((D**2).sum(axis=1))\n",
    "\n",
    "N = 3  # приведем пример на трех линиях\n",
    "P0 = np.random.randint(0,10,(N,2))\n",
    "P1 = np.random.randint(0,10,(N,2))\n",
    "point  = np.random.randint(0,10,( 1,2))\n",
    "print('Координаты точки:', point)\n",
    "arr, Per_P = distance_point_to_lines(P0, P1, point)\n",
    "print('Расстояния до линий:', arr)"
   ]
  },
  {
   "cell_type": "code",
   "execution_count": 123,
   "id": "b630a000",
   "metadata": {},
   "outputs": [
    {
     "data": {
      "image/png": "[encoded data removed]",
      "text/plain": [
       "<Figure size 640x480 with 1 Axes>"
      ]
     },
     "metadata": {},
     "output_type": "display_data"
    }
   ],
   "source": [
    "# мне показалось что визуализация в этом случае также будет полезнее простого вывода массивов\n",
    "# зеленым - исходные линии\n",
    "# красным - точка\n",
    "# синим пунктиром - перпендикуляры из точки к линиям \n",
    "# внимание перпендикуляры могут отображаться некоректно на разных мониторах\n",
    "\n",
    "for i in range(0,len(P0)):\n",
    "    plt.plot([P0[i][0],P1[i][0]], \n",
    "             [P0[i][1],P1[i][1]], color='g')\n",
    "    \n",
    "for i in range(0,len(P0)):\n",
    "    plt.plot([Per_P[i][0], point[0][0]],\n",
    "             [Per_P[i][1], point[0][1]], '--', color='blue')\n",
    "i=0\n",
    "plt.scatter([point[i][0]], [point[i][1]], color='r')\n",
    "plt.show()"
   ]
  },
  {
   "cell_type": "markdown",
   "id": "bae67561",
   "metadata": {},
   "source": [
    "***[np.random.randint](https://numpy.org/doc/stable/reference/random/generated/numpy.random.randint.html)*** - Возвращает случайные целые числа в «полуоткрытом» интервале [low, high) в виде вектора размера size.  \n",
    "\n",
    "***[np.sum](https://numpy.org/doc/stable/reference/generated/numpy.sum.html)*** - Сумма элементов массива (матрицы) по заданной оси. Для двумерных матриц: axis = 1 - по строкам, axis=0 - по столбцам. В общем случае axis - это ось или оси, по которым выполняется суммирование. Значение по умолчанию, axis=None, суммирует все элементы входного массива. Если ось отрицательная, считается от последней до первой оси.  \n",
    "\n",
    "***[np.reshape](https://numpy.org/doc/stable/reference/generated/numpy.reshape.html)*** - Изменяет размерность вектора на новую без изменения его данных.  "
   ]
  },
  {
   "cell_type": "markdown",
   "id": "70e9a1ad",
   "metadata": {},
   "source": [
    "#### 79. Consider 2 sets of points P0,P1 describing lines (2d) and a set of points P, how to compute distance from each point j (P[j]) to each line i (P0[i],P1[i])? (★★★)\n",
    "\n",
    "Рассмотрим 2 набора точек P0, P1, описывающих линии (2d), и набор точек P, как вычислить расстояние от каждой точки j (P[j]) до каждой линии i (P0[i],P1[i])"
   ]
  },
  {
   "cell_type": "code",
   "execution_count": 124,
   "id": "e8f98389",
   "metadata": {},
   "outputs": [
    {
     "name": "stdout",
     "output_type": "stream",
     "text": [
      "Координаты точек:\n",
      " [[8 3]\n",
      " [3 9]\n",
      " [6 0]\n",
      " [1 3]\n",
      " [9 6]]\n",
      "Расстояния между точками в кол-ве (5) и линиями в кол-ве (5):\n",
      " [[5.95367 2.9673  2.      7.15542 0.     ]\n",
      " [1.36438 4.52904 8.      0.      5.     ]\n",
      " [5.7056  0.6247  1.      6.7082  2.     ]\n",
      " [0.12403 1.40556 2.      0.89443 7.     ]\n",
      " [5.33349 5.9346  5.      6.7082  1.     ]]\n"
     ]
    }
   ],
   "source": [
    "# воспользуемся функцией distance_point_to_lines из задачи 78\n",
    "N = 5  # количество линий и точек\n",
    "P0 = np.random.randint(0, 10, (N,2))\n",
    "P1 = np.random.randint(0,10,(N,2))\n",
    "point = np.random.randint(0, 10, (N,2))\n",
    "print('Координаты точек:\\n', point)\n",
    "print(f'Расстояния между точками в кол-ве ({N}) и линиями в кол-ве ({N}):\\n', \n",
    "      np.array([distance_point_to_lines(P0,P1,p_i, with_pp=False) for p_i in point]))"
   ]
  },
  {
   "cell_type": "markdown",
   "id": "5e31332d",
   "metadata": {},
   "source": [
    "***[np.random.randint](https://numpy.org/doc/stable/reference/random/generated/numpy.random.randint.html)*** - Возвращает случайные целые числа в «полуоткрытом» интервале [low, high) в виде вектора размера size.  "
   ]
  },
  {
   "cell_type": "markdown",
   "id": "546d274a",
   "metadata": {},
   "source": [
    "#### 80. Consider an arbitrary array, write a function that extract a subpart with a fixed shape and centered on a given element (pad with a `fill` value when necessary) (★★★)\n",
    "Рассмотрим произвольный массив, напишите функцию, которая извлекает подраздел с фиксированной формой и центрирует его по заданному элементу (при необходимости дополните значением \"fill\").  \n",
    "Эта задача очень распространенная в CV(компьютерном зрении), когда необходимо двигаться по картинке с окном заданного размера и применять к элементам окна разные агрегатные функции.  "
   ]
  },
  {
   "cell_type": "code",
   "execution_count": 125,
   "id": "a7714cff",
   "metadata": {},
   "outputs": [
    {
     "name": "stdout",
     "output_type": "stream",
     "text": [
      "Исходный массив Z размера 10 на 10:\n",
      " [[ 0  1  2  3  4  5  6  7  8  9]\n",
      " [10 11 12 13 14 15 16 17 18 19]\n",
      " [20 21 22 23 24 25 26 27 28 29]\n",
      " [30 31 32 33 34 35 36 37 38 39]\n",
      " [40 41 42 43 44 45 46 47 48 49]\n",
      " [50 51 52 53 54 55 56 57 58 59]\n",
      " [60 61 62 63 64 65 66 67 68 69]\n",
      " [70 71 72 73 74 75 76 77 78 79]\n",
      " [80 81 82 83 84 85 86 87 88 89]\n",
      " [90 91 92 93 94 95 96 97 98 99]]\n",
      "Выбранный элемент массива Z с координатами (2, 8) который будет центром:  28\n"
     ]
    }
   ],
   "source": [
    "N = 10\n",
    "Z = np.arange(N*N).reshape(N,N)\n",
    "print(f'Исходный массив Z размера {Z.shape[0]} на {Z.shape[1]}:\\n', Z)\n",
    "\n",
    "shape_window = (5,6)  # размер окна (!!! если размер окна четное число, \n",
    "                      # то центр расчитывается как //2+1)\n",
    "fill  = 0  # число которым заполняем пропуски\n",
    "position_Z = (2,8)  # координаты элемента исходного двумерного массива Z, \n",
    "                    # который будет являться центром окна\n",
    "center =  Z[position_Z]\n",
    "print(f'Выбранный элемент массива Z с координатами {position_Z} который будет центром: ', center)"
   ]
  },
  {
   "cell_type": "code",
   "execution_count": 126,
   "id": "f915b67b",
   "metadata": {
    "scrolled": true
   },
   "outputs": [],
   "source": [
    "P  = np.array(position_Z).astype(int)\n",
    "Rs = np.array(shape_window).astype(int)\n",
    "Zs = np.array(Z.shape).astype(int)\n",
    "\n",
    "R_start = np.zeros((len(shape_window),)).astype(int)\n",
    "R_stop  = np.array(shape_window).astype(int)\n",
    "Z_start = P-Rs//2\n",
    "Z_stop  = P+Rs//2+Rs%2\n",
    "\n",
    "R_start = R_start - np.minimum(Z_start,0)\n",
    "Z_start = np.maximum(Z_start,0)\n",
    "R_stop = np.maximum(R_start, (R_stop - np.maximum(Z_stop-Zs,0)))\n",
    "Z_stop = np.minimum(Z_stop,Zs)\n",
    "\n",
    "r_slice = tuple([slice(start,stop) for start,stop in zip(R_start,R_stop)])\n",
    "z_slice = tuple([slice(start,stop) for start,stop in zip(Z_start,Z_stop)])\n",
    "\n",
    "R = np.ones(shape_window).astype(Z.dtype)*fill  # иногда заполнение необходимо cделать \n",
    "                                        # не заранее заданным числом, а например средним \n",
    "                                        # от элементов исходного Z попадающих в искомое окно, \n",
    "                                        # поэтому на этом этапе, можно рассчитать \n",
    "                                        # необходимую функцию от Z[z_slice] и присвоить fill "
   ]
  },
  {
   "cell_type": "code",
   "execution_count": 127,
   "id": "609687d9",
   "metadata": {},
   "outputs": [
    {
     "name": "stdout",
     "output_type": "stream",
     "text": [
      "Искомое окно R размером (5, 6):\n",
      "  [[ 5  6  7  8  9  0]\n",
      " [15 16 17 18 19  0]\n",
      " [25 26 27 28 29  0]\n",
      " [35 36 37 38 39  0]\n",
      " [45 46 47 48 49  0]]\n",
      "Координаты центрального элемента 28: строка [2], столбец [3] \n"
     ]
    }
   ],
   "source": [
    "R[r_slice] = Z[z_slice]\n",
    "print(f'Искомое окно R размером {R.shape}:\\n ', R)\n",
    "coord_center = np.where(R==center)\n",
    "print(f'Координаты центрального элемента {center}: строка {coord_center[0]}, \\\n",
    "столбец {coord_center[1]} ')"
   ]
  },
  {
   "cell_type": "markdown",
   "id": "9ce5a590",
   "metadata": {},
   "source": [
    "***[np.reshape](https://numpy.org/doc/stable/reference/generated/numpy.reshape.html)*** - Изменяет размерность вектора на новую без изменения его данных.  \n",
    "\n",
    "***[np.ndarray.astype](https://numpy.org/doc/stable/reference/generated/numpy.ndarray.astype.html)*** - Метод, который приводит массив к заданному типу.  \n",
    "\n",
    "***[np.zeros](https://numpy.org/doc/stable/reference/generated/numpy.zeros.html)*** - возвращает новый массив заполненный нулями.  \n",
    "\n",
    "***[np.minimum](https://numpy.org/doc/stable/reference/generated/numpy.minimum.html)*** - Возвращает поэлементный минимум элементов двух массивов.  \n",
    "\n",
    "***[np.maximum](https://numpy.org/doc/stable/reference/generated/numpy.maximum.html)*** - Возвращает поэлементный максимум элементов двух массивов.  \n",
    "\n",
    "***[np.where](https://numpy.org/doc/stable/reference/generated/numpy.where.html)*** - Возвращает элементы из первого или второго векторов в зависимости от значений вектора условий. Когда указано только условие, эта функция является сокращением для np.asarray(condition).nonzero() - то есть индексы элементов массива для которых условие выполняется.  "
   ]
  },
  {
   "cell_type": "markdown",
   "id": "636594a3",
   "metadata": {},
   "source": [
    "#### 81. Consider an array Z = [1,2,3,4,5,6,7,8,9,10,11,12,13,14], how to generate an array R = [[1,2,3,4], [2,3,4,5], [3,4,5,6], ..., [11,12,13,14]]? (★★★)\n",
    "Рассмотрим массив Z = [1,2,3,4,5,6,7,8,9,10,11,12,13,14], как сгенерировать массив R = [[1,2,3,4], [2,3,4,5], [3,4,5,6], ..., [11,12,13,14]]?  \n",
    "Задача моделирует создание массива с окнами заданной ширины от исходного массива. Далее к этому массиву с окнами можно применять разные агрегирующие функции.  "
   ]
  },
  {
   "cell_type": "code",
   "execution_count": 128,
   "id": "b07d7721",
   "metadata": {},
   "outputs": [
    {
     "name": "stdout",
     "output_type": "stream",
     "text": [
      "Исходный массив Z размера 15:\n",
      " [ 0  1  2  3  4  5  6  7  8  9 10 11 12 13 14]\n"
     ]
    }
   ],
   "source": [
    "N = 15  # размер массива\n",
    "Z = np.arange(N,dtype=np.int32)\n",
    "print(f'Исходный массив Z размера {Z.shape[0]}:\\n', Z)"
   ]
  },
  {
   "cell_type": "code",
   "execution_count": 129,
   "id": "b0dcae4e",
   "metadata": {},
   "outputs": [
    {
     "name": "stdout",
     "output_type": "stream",
     "text": [
      "Искомый массив R размера 12 на 4 :\n",
      " [[ 5  6  7  8  9  0]\n",
      " [15 16 17 18 19  0]\n",
      " [25 26 27 28 29  0]\n",
      " [35 36 37 38 39  0]\n",
      " [45 46 47 48 49  0]]\n"
     ]
    }
   ],
   "source": [
    "def rolling_window(d_array, d_size_window):\n",
    "    shape = d_array.shape[:-1] + (d_array.shape[-1] - d_size_window + 1, d_size_window)\n",
    "    strides = d_array.strides + (d_array.strides[-1],)\n",
    "    return stride_tricks.as_strided(d_array, shape=shape, strides=strides)\n",
    "\n",
    "size_window = 4\n",
    "roll_window = rolling_window(Z,size_window)\n",
    "print(f'Искомый массив R размера {roll_window.shape[0]} на {roll_window.shape[1]} :\\n', R)"
   ]
  },
  {
   "cell_type": "code",
   "execution_count": 130,
   "id": "d8b3951d",
   "metadata": {},
   "outputs": [
    {
     "data": {
      "text/plain": [
       "array([ 6, 10, 14, 18, 22, 26, 30, 34, 38, 42, 46, 50])"
      ]
     },
     "execution_count": 130,
     "metadata": {},
     "output_type": "execute_result"
    }
   ],
   "source": [
    "# можно рассчитать агрегаты по заданному окну\n",
    "np.sum(roll_window, 1)"
   ]
  },
  {
   "cell_type": "code",
   "execution_count": 131,
   "id": "f40df9d4",
   "metadata": {},
   "outputs": [
    {
     "data": {
      "text/plain": [
       "array([1.11803, 1.11803, 1.11803, 1.11803, 1.11803, 1.11803, 1.11803, 1.11803, 1.11803, 1.11803, 1.11803, 1.11803])"
      ]
     },
     "execution_count": 131,
     "metadata": {},
     "output_type": "execute_result"
    }
   ],
   "source": [
    "np.std(roll_window, 1)"
   ]
  },
  {
   "cell_type": "markdown",
   "id": "b9ee3de4",
   "metadata": {},
   "source": [
    "***[np.ndarray.strides](https://numpy.org/doc/stable/reference/generated/numpy.ndarray.strides.html)*** - Возвращается кортеж байтов для шага в каждом измерении при обходе массива.  \n",
    "\n",
    "***[stride_tricks.as_strided](https://numpy.org/doc/stable/reference/generated/numpy.lib.stride_tricks.as_strided.html)*** - Создает представление исходного массива в виде массива с заданной формой и шагами.  \n",
    "Параметр writeable - Если установлено значение False, возвращаемый массив всегда будет доступен только для чтения. В противном случае он будет доступен для записи, если исходный массив был указан.  "
   ]
  },
  {
   "cell_type": "markdown",
   "id": "c8c8bc5b",
   "metadata": {},
   "source": [
    "#### 82. Compute a matrix rank (★★★)\n",
    "Вычислите ранг матрицы"
   ]
  },
  {
   "cell_type": "code",
   "execution_count": 132,
   "id": "687fda9c",
   "metadata": {},
   "outputs": [
    {
     "name": "stdout",
     "output_type": "stream",
     "text": [
      "Исходный матрица Z размера 10 на 10:\n",
      " [[0 1 1 0 0 1 0 0 0 1]\n",
      " [0 1 0 0 1 1 0 0 1 0]\n",
      " [1 1 1 1 0 0 0 1 1 0]\n",
      " [0 0 0 0 0 0 1 0 1 1]\n",
      " [0 0 1 0 0 1 0 0 0 0]\n",
      " [0 0 1 1 0 1 1 0 0 1]\n",
      " [0 1 0 1 0 1 1 0 0 1]\n",
      " [0 1 0 0 1 1 0 1 0 0]\n",
      " [0 0 1 0 1 0 1 1 0 1]\n",
      " [1 0 1 0 1 1 1 0 0 1]]\n",
      "Ранг матрицы Z:= 10\n"
     ]
    }
   ],
   "source": [
    "N = 10\n",
    "Z = np.random.randint(2,size=(N,N))\n",
    "print(f'Исходный матрица Z размера {Z.shape[0]} на {Z.shape[1]}:\\n', Z)\n",
    "rank = np.linalg.matrix_rank(Z, tol=1e-10)\n",
    "print(f'Ранг матрицы Z:=', rank)"
   ]
  },
  {
   "cell_type": "code",
   "execution_count": 133,
   "id": "56bed459",
   "metadata": {},
   "outputs": [
    {
     "name": "stdout",
     "output_type": "stream",
     "text": [
      "Ранг матрицы Z, рассчитанный другим способом:= 10\n"
     ]
    }
   ],
   "source": [
    "# иногда встречается другой способ расчета ранга матрицы\n",
    "U, S, V = np.linalg.svd(Z)  # разложение матрицы по сингулярным числам \n",
    "rank = np.sum(S > 1e-10)\n",
    "print(f'Ранг матрицы Z, рассчитанный другим способом:=', rank)"
   ]
  },
  {
   "cell_type": "code",
   "execution_count": 134,
   "id": "466c9fd6",
   "metadata": {},
   "outputs": [],
   "source": [
    "# давайте проверим какой из них быстрее\n",
    "N = 1000\n",
    "Z = np.random.randint(2,size=(N,N))"
   ]
  },
  {
   "cell_type": "code",
   "execution_count": 135,
   "id": "ec9934bb",
   "metadata": {},
   "outputs": [
    {
     "name": "stdout",
     "output_type": "stream",
     "text": [
      "1.56 s ± 516 ms per loop (mean ± std. dev. of 7 runs, 10 loops each)\n"
     ]
    }
   ],
   "source": [
    "%timeit -n 10 np.linalg.matrix_rank(Z, tol=1e-10)"
   ]
  },
  {
   "cell_type": "code",
   "execution_count": 136,
   "id": "8e8081ba",
   "metadata": {},
   "outputs": [
    {
     "name": "stdout",
     "output_type": "stream",
     "text": [
      "2.17 s ± 81.3 ms per loop (mean ± std. dev. of 7 runs, 10 loops each)\n"
     ]
    }
   ],
   "source": [
    "%timeit -n 10 np.linalg.svd(Z)"
   ]
  },
  {
   "cell_type": "markdown",
   "id": "afc0f7f9",
   "metadata": {},
   "source": [
    "видно, что вариант расчета с помощью np.linalg.matrix_rank быстрее даже без учета необходимости расчета суммы элементов диагональной матрицы во втором случае с помощью np.sum"
   ]
  },
  {
   "cell_type": "markdown",
   "id": "64314de5",
   "metadata": {},
   "source": [
    "***[np.random.randint](https://numpy.org/doc/stable/reference/random/generated/numpy.random.randint.html)*** - Возвращает случайные целые числа в «полуоткрытом» интервале [low, high) в виде вектора размера size.  \n",
    "\n",
    "***[np.linalg.matrix_rank](https://numpy.org/doc/stable/reference/generated/numpy.linalg.matrix_rank.html)*** - Возвращает матричный ранг матрицы рассчитанный с помощью метода SVD(Singular Value Decomposition - Сингулярное разложение матрицы). Ранг массива — это количество сингулярных значений массива, которые больше, чем параметр tol.  \n",
    "\n",
    "***[np.linalg.svd](https://numpy.org/doc/stable/reference/generated/numpy.linalg.svd.html)*** - Возвращает сингулярное разложение матрицы"
   ]
  },
  {
   "cell_type": "markdown",
   "id": "db123dfd",
   "metadata": {},
   "source": [
    "#### 83. How to find the most frequent value in an array?\n",
    "Как найти наиболее часто встречающееся значение в массиве"
   ]
  },
  {
   "cell_type": "code",
   "execution_count": 137,
   "id": "51e9e67b",
   "metadata": {},
   "outputs": [
    {
     "name": "stdout",
     "output_type": "stream",
     "text": [
      "Исходный массив Z размера 10 на 10 со случайными целыми:\n",
      " [[9 6 7 0 0 5 6 9 1 5]\n",
      " [4 7 4 5 6 1 6 8 7 6]\n",
      " [8 9 1 9 0 2 8 7 8 4]\n",
      " [6 5 7 8 6 3 0 0 3 6]\n",
      " [1 0 0 4 0 7 1 0 0 3]\n",
      " [4 8 6 3 8 1 8 5 2 4]\n",
      " [6 9 2 4 3 1 9 0 3 3]\n",
      " [4 5 0 3 2 1 5 4 0 1]\n",
      " [2 3 8 1 0 1 0 3 5 8]\n",
      " [0 6 1 7 9 3 6 0 2 7]]\n",
      "Самое частое значение масива Z = 0 встречается 17 раз\n"
     ]
    }
   ],
   "source": [
    "Z = np.random.randint(10,size=(10,10))\n",
    "print(f'Исходный массив Z размера {Z.shape[0]} на {Z.shape[1]} со случайными целыми:\\n', Z)\n",
    "Z_bincount_flat = np.bincount(Z.flatten())\n",
    "top_elem = Z_bincount_flat.argmax()\n",
    "print(f'Самое частое значение масива Z = {top_elem} встречается {Z_bincount_flat[top_elem]} раз')"
   ]
  },
  {
   "cell_type": "markdown",
   "id": "4a1f937a",
   "metadata": {},
   "source": [
    "***[np.random.randint](https://numpy.org/doc/stable/reference/random/generated/numpy.random.randint.html)*** - Возвращает случайные целые числа в «полуоткрытом» интервале [low, high) в виде вектора размера size.  \n",
    "\n",
    "***[np.bincount](https://numpy.org/doc/stable/reference/generated/numpy.bincount.html)*** - Подсчитывает количество вхождений каждого значения в массиве неотрицательных целых чисел.  \n",
    "\n",
    "***[np.ndarray.argmax](https://numpy.org/doc/stable/reference/generated/numpy.ndarray.argmax.html)*** - Возвращает индексы максимальных значений по заданной оси.  "
   ]
  },
  {
   "cell_type": "markdown",
   "id": "03a46fb6",
   "metadata": {},
   "source": [
    "#### 84. Extract all the contiguous 3x3 blocks from a random 10x10 matrix (★★★)\n",
    "Извлеките все смежные блоки размером 3x3 из случайной матрицы размером 10x10  \n",
    "Дополнение к заданию: Конкретно в этой задаче под смежные (contiguous) блоки подразумевается результат движения окна заданного размера с шагом 1. Но вообще говоря в англоязычных статьях смежные (contiguous) блоки матрицы или памяти подразумеваются рядом стоящие(имеющие общую границу) непересекающиеся блоки. Хотя в некоторых задачах на leetcode встречалась и такая пересекающаяся формулировка, но только она дополнялась примерами.  \n",
    "Если представить что исходная матрица - квадратная размером (N, N), а размер окна size_window = s_w. Тогда кол-во смежных блоков = (N-s_w)*(N-s_w)\n"
   ]
  },
  {
   "cell_type": "code",
   "execution_count": 138,
   "id": "87c481f5",
   "metadata": {},
   "outputs": [
    {
     "name": "stdout",
     "output_type": "stream",
     "text": [
      "Исходный массив Z размера 10 на 10 со случайными целыми:\n",
      " [[1 1 2 4 2 0 4 0 2 0]\n",
      " [3 3 0 2 3 3 1 0 3 4]\n",
      " [3 1 2 3 2 4 4 0 2 1]\n",
      " [1 4 2 4 4 4 4 2 2 2]\n",
      " [1 1 0 2 4 4 3 3 1 4]\n",
      " [1 0 2 4 3 2 2 0 3 3]\n",
      " [4 3 2 1 1 2 2 4 4 0]\n",
      " [4 2 4 3 4 2 3 0 3 0]\n",
      " [0 4 2 2 4 2 1 3 2 1]\n",
      " [2 1 1 1 4 0 4 3 4 4]]\n",
      "Размерность полученного массива С: (8, 8, 3, 3)\n",
      "Первые три элемента полученного многомерного массива С:\n",
      " [[[[1 1 2]\n",
      "   [3 3 0]\n",
      "   [3 1 2]]\n",
      "\n",
      "  [[1 2 4]\n",
      "   [3 0 2]\n",
      "   [1 2 3]]\n",
      "\n",
      "  [[2 4 2]\n",
      "   [0 2 3]\n",
      "   [2 3 2]]]]\n"
     ]
    }
   ],
   "source": [
    "N = 10\n",
    "Z = np.random.randint(0,5,(N,N))\n",
    "print(f'Исходный массив Z размера {Z.shape[0]} на {Z.shape[1]} со случайными целыми:\\n', Z)\n",
    "n = 3\n",
    "i = 1 + (Z.shape[0]-3)\n",
    "j = 1 + (Z.shape[1]-3)\n",
    "C = stride_tricks.as_strided(Z, shape=(i, j, n, n), strides=Z.strides + Z.strides)\n",
    "print('Размерность полученного массива С:', C.shape)\n",
    "print('Первые три элемента полученного многомерного массива С:\\n', C[:1,:3])"
   ]
  },
  {
   "cell_type": "markdown",
   "id": "1c8fb1a8",
   "metadata": {},
   "source": [
    "***[np.random.randint](https://numpy.org/doc/stable/reference/random/generated/numpy.random.randint.html)*** - Возвращает случайные целые числа в «полуоткрытом» интервале [low, high) в виде вектора размера size.  \n",
    "\n",
    "***[stride_tricks.as_strided](https://numpy.org/doc/stable/reference/generated/numpy.lib.stride_tricks.as_strided.html)*** - Создает представление исходного массива в виде массива с заданной формой и шагами.  \n",
    "Параметр writeable - Если установлено значение False, возвращаемый массив всегда будет доступен только для чтения. В противном случае он будет доступен для записи, если исходный массив был указан.  "
   ]
  },
  {
   "cell_type": "markdown",
   "id": "f74efe49",
   "metadata": {},
   "source": [
    "#### 85. Create a 2D array subclass such that Z[i,j] == Z[j,i] (★★★)\n",
    "Создайте подкласс 2D-массива таким образом, чтобы Z[i,j] == Z[j,i]"
   ]
  },
  {
   "cell_type": "code",
   "execution_count": 139,
   "id": "3dbfa98f",
   "metadata": {},
   "outputs": [
    {
     "name": "stdout",
     "output_type": "stream",
     "text": [
      "Исходная матрица случайных целых в полуинтервале [-10,10) размера (5,5):\n",
      " [[ 6 -2 -5 -6 -2]\n",
      " [-2 -7  9  8  7]\n",
      " [-5  9  5  4 -2]\n",
      " [-6  8  4 -7 -3]\n",
      " [-2  7 -2 -3 -8]] <class 'numpy.ndarray'>\n"
     ]
    }
   ],
   "source": [
    "class Symetric_array(np.ndarray):\n",
    "    def __setitem__(self, index, value):\n",
    "        i,j = index\n",
    "        super(Symetric_array, self).__setitem__((i,j), value)\n",
    "        super(Symetric_array, self).__setitem__((j,i), value)\n",
    "\n",
    "def generator_symetric_randint_matrix(d_low:int, d_high:int, d_N:int) -> np.array:\n",
    "    Z = np.random.randint(d_low, d_high , size=(d_N,d_N))\n",
    "    Z = np.tril(Z) + np.tril(Z, -1).T\n",
    "    return Z\n",
    "\n",
    "low, high, N = -10,10,5\n",
    "sym_arr = generator_symetric_randint_matrix(d_low=low, d_high=high, d_N=N).view(Symetric_array)\n",
    "print(f'Исходная матрица случайных целых в полуинтервале [{low},{high}) размера ({N},{N}):\\n', sym_arr, type(S))\n"
   ]
  },
  {
   "cell_type": "code",
   "execution_count": 140,
   "id": "5a547f25",
   "metadata": {},
   "outputs": [
    {
     "name": "stdout",
     "output_type": "stream",
     "text": [
      "Изменим недиагональный элемент массива=9 в cтолбце номер (2), в строке номер (1) на 555\n",
      "Результат после изменения:\n",
      " [[  6  -2  -5  -6  -2]\n",
      " [ -2  -7 555   8   7]\n",
      " [ -5 555   5   4  -2]\n",
      " [ -6   8   4  -7  -3]\n",
      " [ -2   7  -2  -3  -8]]\n",
      "Видим что симметричный недиагональный элемент в cтолбце номер (1), в строке номер (2) тоже изменилась на 555\n"
     ]
    }
   ],
   "source": [
    "row, col, val = 1, 2, 555\n",
    "print(f'Изменим недиагональный элемент массива={sym_arr[row, col]} в cтолбце номер ({col}), в строке номер ({row}) на {val}')\n",
    "sym_arr[row, col] = val\n",
    "print('Результат после изменения:\\n', sym_arr)\n",
    "print(f'Видим что симметричный недиагональный элемент в cтолбце номер ({row}), в строке номер ({col}) тоже изменилась на {val}')"
   ]
  },
  {
   "cell_type": "code",
   "execution_count": 141,
   "id": "f8d83454",
   "metadata": {},
   "outputs": [
    {
     "name": "stdout",
     "output_type": "stream",
     "text": [
      "Изменим элементы строки номер (1) на 555\n",
      "Результат после изменения:\n",
      " [[  6 555  -5  -6  -2]\n",
      " [555 555 555 555 555]\n",
      " [ -5 555   5   4  -2]\n",
      " [ -6 555   4  -7  -3]\n",
      " [ -2 555  -2  -3  -8]]\n",
      "Видим что элементы симметричного столбца номер (1), тоже изменилась на 555\n"
     ]
    }
   ],
   "source": [
    "print(f'Изменим элементы строки номер ({row}) на {val}')\n",
    "sym_arr[row, :] = val\n",
    "print('Результат после изменения:\\n', sym_arr)\n",
    "print(f'Видим что элементы симметричного столбца номер ({row}), тоже изменилась на {val}')"
   ]
  },
  {
   "cell_type": "markdown",
   "id": "523a2681",
   "metadata": {},
   "source": [
    "***[np.random.randint](https://numpy.org/doc/stable/reference/random/generated/numpy.random.randint.html)*** - Возвращает случайные целые числа в «полуоткрытом» интервале [low, high) в виде вектора размера size.  \n",
    "\n",
    "***[np.tril](https://numpy.org/doc/stable/reference/generated/numpy.tril.html)*** - Возвращает копию массива с обнуленными элементами выше k - й диагонали. По умолчанию параметр k=0.  "
   ]
  },
  {
   "cell_type": "markdown",
   "id": "d55a4526",
   "metadata": {},
   "source": [
    "#### 86. Consider a set of p matrices wich shape (n,n) and a set of p vectors with shape (n,1). How to compute the sum of of the p matrix products at once? (result has shape (n,1)) (★★★)\n",
    "Рассмотрим набор p матриц, имеющих форму (n, n), и набор p векторов с формой (n,1). Как вычислить сумму произведений матрицы p сразу? (результат имеет форму (n,1))"
   ]
  },
  {
   "cell_type": "code",
   "execution_count": 142,
   "id": "169ec995",
   "metadata": {},
   "outputs": [
    {
     "name": "stdout",
     "output_type": "stream",
     "text": [
      "[75.] [75.] [75.] [75.] [75.] [75.] [75.] [75.] [75.] [75.] [75.] [75.] [75.] [75.] [75.]\n"
     ]
    }
   ],
   "source": [
    "p, n = 5, 15\n",
    "M = np.ones((p,n,n))\n",
    "V = np.ones((p,n,1))\n",
    "S = np.tensordot(M, V, axes=[[0, 2], [0, 1]])\n",
    "print(*S)"
   ]
  },
  {
   "cell_type": "markdown",
   "id": "1f0d307f",
   "metadata": {},
   "source": [
    "***[np.ones](https://numpy.org/doc/stable/reference/generated/numpy.ones.html)*** - Возвращает новый массив, заполненный единицами.  \n",
    "\n",
    "***[np.tensordot](https://numpy.org/doc/stable/reference/generated/numpy.tensordot.html)*** - Вычисляет скалярное произведение тензора вдоль заданных осей.  "
   ]
  },
  {
   "cell_type": "markdown",
   "id": "a44c4bab",
   "metadata": {},
   "source": [
    "#### 87. Consider a 16x16 array, how to get the block-sum (block size is 4x4)? (★★★)\n",
    "Рассмотрим массив 16x16, как получить сумму блоков (размер блока 4x4)  \n",
    "Дополнение к заданию: В данном случае подразумевается стандартное блочное (клеточное) разбиение матрицы - блоки при разбиении не пересекаются. Кроме этого в условии задачи разбиение происходит на полные блоки 4 на 4 так как размер исходной матрицы 16 на 16. Но в случае, если размер блока не будет делить размер матрицы без остатка подразумевается что блочное разбиение в этом случае будет оставлять блоки меньше заданного размера слева и снизу."
   ]
  },
  {
   "cell_type": "code",
   "execution_count": 143,
   "id": "8ac8e212",
   "metadata": {},
   "outputs": [
    {
     "name": "stdout",
     "output_type": "stream",
     "text": [
      "Исходная квадратная матрица Z размера (17,17) специальной формы:\n",
      " [[1. 1. 1. 1. 1. 1. 1. 1. 1. 1. 1. 1. 1. 1. 1. 1. 1.]\n",
      " [1. 0. 0. 0. 1. 0. 0. 0. 1. 0. 0. 0. 1. 0. 0. 0. 1.]\n",
      " [1. 0. 0. 0. 1. 0. 0. 0. 1. 0. 0. 0. 1. 0. 0. 0. 1.]\n",
      " [1. 1. 1. 1. 1. 1. 1. 1. 1. 1. 1. 1. 1. 1. 1. 1. 1.]\n",
      " [1. 1. 1. 1. 1. 1. 1. 1. 1. 1. 1. 1. 1. 1. 1. 1. 1.]\n",
      " [1. 0. 0. 0. 1. 0. 0. 0. 1. 0. 0. 0. 1. 0. 0. 0. 1.]\n",
      " [1. 0. 0. 0. 1. 0. 0. 0. 1. 0. 0. 0. 1. 0. 0. 0. 1.]\n",
      " [1. 1. 1. 1. 1. 1. 1. 1. 1. 1. 1. 1. 1. 1. 1. 1. 1.]\n",
      " [1. 1. 1. 1. 1. 1. 1. 1. 1. 1. 1. 1. 1. 1. 1. 1. 1.]\n",
      " [1. 0. 0. 0. 1. 0. 0. 0. 1. 0. 0. 0. 1. 0. 0. 0. 1.]\n",
      " [1. 0. 0. 0. 1. 0. 0. 0. 1. 0. 0. 0. 1. 0. 0. 0. 1.]\n",
      " [1. 1. 1. 1. 1. 1. 1. 1. 1. 1. 1. 1. 1. 1. 1. 1. 1.]\n",
      " [1. 1. 1. 1. 1. 1. 1. 1. 1. 1. 1. 1. 1. 1. 1. 1. 1.]\n",
      " [1. 0. 0. 0. 1. 0. 0. 0. 1. 0. 0. 0. 1. 0. 0. 0. 1.]\n",
      " [1. 0. 0. 0. 1. 0. 0. 0. 1. 0. 0. 0. 1. 0. 0. 0. 1.]\n",
      " [1. 1. 1. 1. 1. 1. 1. 1. 1. 1. 1. 1. 1. 1. 1. 1. 1.]\n",
      " [1. 1. 1. 1. 1. 1. 1. 1. 1. 1. 1. 1. 1. 1. 1. 1. 1.]]\n",
      "Результат суммирования блоков при разбиении матрицы Z: \n",
      " [[10. 10. 10. 10.  4.]\n",
      " [10. 10. 10. 10.  4.]\n",
      " [10. 10. 10. 10.  4.]\n",
      " [10. 10. 10. 10.  4.]\n",
      " [ 4.  4.  4.  4.  1.]]\n"
     ]
    }
   ],
   "source": [
    "size_block = 4  # размер блока для разбиения исходной матрицы\n",
    "N = 17  # размер исходной матрицы\n",
    "\n",
    "# создадим матрицу специальным образом, чтобы убедиться в правильности работы нашего решения\n",
    "# матрица будет состоять из блоков с единицами в виде русской буквы С и нулями внутри\n",
    "# таким образом легко проверить начало и окончание блока и расчитать сумму его элементов для самопроверки\n",
    "z_block = np.ones((size_block, size_block))\n",
    "z_block[1:size_block-1,1:] = 0\n",
    "Z = np.tile(A=z_block, reps=(N // 4,N // 4))\n",
    "\n",
    "if N % 4 != 0:  # в случае если размер исходной матрицы не делится без остатка на размер блока, заполняем единицами\n",
    "    temp_arr = np.ones((N,N))\n",
    "    temp_arr[:N - (N % 4),:N- (N % 4)]= Z\n",
    "    Z = temp_arr\n",
    "\n",
    "print(f'Исходная квадратная матрица Z размера ({N},{N}) специальной формы:\\n', Z)\n",
    "\n",
    "S = np.add.reduceat(np.add.reduceat(Z, np.arange(0, Z.shape[0], size_block), axis=0),\n",
    "                                       np.arange(0, Z.shape[1], size_block), axis=1)\n",
    "print('Результат суммирования блоков при разбиении матрицы Z: \\n', S)"
   ]
  },
  {
   "cell_type": "markdown",
   "id": "195c58e1",
   "metadata": {},
   "source": [
    "***[np.ones](https://numpy.org/doc/stable/reference/generated/numpy.ones.html)*** - Возвращает новый массив, заполненный единицами.  \n",
    "\n",
    "***[np.tile](https://numpy.org/doc/stable/reference/generated/numpy.tile.html)*** - Строит массив, повторив массив A количество раз, заданное повторениями reps, по каждой оси.  \n",
    "\n",
    "***[np.ufunc.reduceat](https://numpy.org/doc/stable/reference/generated/numpy.ufunc.reduceat.html)*** - Выполняет (локальное) применение функции по указанным срезам по заданной оси.  \n",
    "\n",
    "***[np.arange](https://numpy.org/doc/stable/reference/generated/numpy.arange.html)*** - Возвращает равномерно распределенные значения в пределах заданного полуоткрытого интервала [start. stop). Для целочисленных аргументов функция эквивалентна встроенной функции range Python , но возвращает ndarray, а не список.  \n",
    "Если вместо start и stop указывается только одно число, то по умолчанию start равен нулю, а stop равно заданному числу.  "
   ]
  },
  {
   "cell_type": "markdown",
   "id": "c99813fa",
   "metadata": {},
   "source": [
    "#### 88. How to implement the Game of Life using numpy arrays? (★★★)\n",
    "Как реализовать Игру жизни с использованием массивов numpy?  \n",
    "[ссылка на описание игры на английском](https://en.wikipedia.org/wiki/Conway's_Game_of_Life) (к сожалению на [русском](https://ru.wikipedia.org/wiki/%D0%98%D0%B3%D1%80%D0%B0_%C2%AB%D0%96%D0%B8%D0%B7%D0%BD%D1%8C%C2%BB) описание скудное и не содержит описания основных узоров (паттернов) игры)  \n",
    "Уточнение к заданию: стандартные условия Игры Жизни = B3/S23 (Birth if count neighbours equals 3 / Survive if count neighbours equals 2 or 3)"
   ]
  },
  {
   "cell_type": "code",
   "execution_count": 144,
   "id": "1ac954cc",
   "metadata": {},
   "outputs": [
    {
     "name": "stdout",
     "output_type": "stream",
     "text": [
      "Исходное положение игры массива Z размерности 6 на 6 с узором \"Блинкер\":\n",
      " [[0. 0. 0. 0. 0. 0.]\n",
      " [0. 0. 0. 0. 0. 0.]\n",
      " [0. 1. 1. 1. 0. 0.]\n",
      " [0. 0. 0. 0. 0. 0.]\n",
      " [0. 0. 0. 0. 0. 0.]\n",
      " [0. 0. 0. 0. 0. 0.]]\n",
      "Итерация номер:1\n",
      "[[0. 0. 0. 0. 0. 0.]\n",
      " [0. 0. 1. 0. 0. 0.]\n",
      " [0. 0. 1. 0. 0. 0.]\n",
      " [0. 0. 1. 0. 0. 0.]\n",
      " [0. 0. 0. 0. 0. 0.]\n",
      " [0. 0. 0. 0. 0. 0.]]\n",
      "Итерация номер:2\n",
      "[[0. 0. 0. 0. 0. 0.]\n",
      " [0. 0. 0. 0. 0. 0.]\n",
      " [0. 1. 1. 1. 0. 0.]\n",
      " [0. 0. 0. 0. 0. 0.]\n",
      " [0. 0. 0. 0. 0. 0.]\n",
      " [0. 0. 0. 0. 0. 0.]]\n"
     ]
    }
   ],
   "source": [
    "def iterate_game_life(Z):\n",
    "    # Count neighbours\n",
    "    c_n = (Z[0:-2,0:-2] + Z[0:-2,1:-1] + Z[0:-2,2:] +\n",
    "         Z[1:-1,0:-2]                + Z[1:-1,2:] +\n",
    "         Z[2:  ,0:-2] + Z[2:  ,1:-1] + Z[2:  ,2:])\n",
    "    # print(f'Количество соседей итерации на матрице размерности {N-2} на {N-2} \\n', c_n)\n",
    "\n",
    "    # Apply rules\n",
    "    birth = (c_n==3) & (Z[1:-1,1:-1]==0)\n",
    "    survive = ((c_n==2) | (c_n==3)) & (Z[1:-1,1:-1]==1)\n",
    "    Z[...] = 0\n",
    "    Z[1:-1,1:-1][birth | survive] = 1\n",
    "    return Z\n",
    "\n",
    "N = 6  # размер игрового поля, не должен быть меньше 5 в этом примере\n",
    "Z = np.zeros((N,N))\n",
    "Z[2,1:4] = 1  # Blinker\n",
    "print(f'Исходное положение игры массива Z размерности {N} на {N} с узором \"Блинкер\":\\n',Z)\n",
    "\n",
    "for i in range(1,3):\n",
    "    print(f'Итерация номер:{i}')\n",
    "    Z = iterate_game_life(Z)\n",
    "    print(Z)"
   ]
  },
  {
   "cell_type": "markdown",
   "id": "debc875c",
   "metadata": {},
   "source": [
    "***[np.zeros](https://numpy.org/doc/stable/reference/generated/numpy.zeros.html)*** - возвращает новый массив заполненный нулями.  "
   ]
  },
  {
   "cell_type": "markdown",
   "id": "44574a5a",
   "metadata": {},
   "source": [
    "#### 89. How to get the n largest values of an array (★★★)\n",
    "Как получить n наибольших значений массива?  \n",
    "Уточнение к заданию: В этой задаче целесообразно сделать акцент на очень больших массивах и обратить внимание на скорость выбранных методов  \n",
    "Также целесообразно уточнить многомерный или одномерный массив. Ниже последовательно реализованы оба решения  "
   ]
  },
  {
   "cell_type": "code",
   "execution_count": 145,
   "id": "54bfa26b",
   "metadata": {},
   "outputs": [
    {
     "name": "stdout",
     "output_type": "stream",
     "text": [
      "Первые пять элементов перемешанного исходного массива Z размера 1000000:\n",
      " [531332 939476 256745 555492 673749]\n"
     ]
    }
   ],
   "source": [
    "# сначала создадим решение для одномерного массива\n",
    "N = int(1e6)\n",
    "Z = np.arange(N)\n",
    "np.random.shuffle(Z)\n",
    "print(f'Первые пять элементов перемешанного исходного массива Z размера {N}:\\n', Z[:5])\n"
   ]
  },
  {
   "cell_type": "code",
   "execution_count": 146,
   "id": "d32c9e61",
   "metadata": {},
   "outputs": [
    {
     "name": "stdout",
     "output_type": "stream",
     "text": [
      "[999995 999996 999997 999998 999999]\n"
     ]
    }
   ],
   "source": [
    "# первый метод \n",
    "n = 5\n",
    "print (Z[np.argsort(Z)[-n:]])"
   ]
  },
  {
   "cell_type": "code",
   "execution_count": 147,
   "id": "549c46a6",
   "metadata": {},
   "outputs": [
    {
     "name": "stdout",
     "output_type": "stream",
     "text": [
      "[999999 999998 999997 999996 999995]\n"
     ]
    }
   ],
   "source": [
    "# второй метод \n",
    "print (Z[np.argpartition(-Z,n)[:n]])"
   ]
  },
  {
   "cell_type": "markdown",
   "id": "1f73e5ea",
   "metadata": {},
   "source": [
    "сравним методы по скорости"
   ]
  },
  {
   "cell_type": "code",
   "execution_count": 148,
   "id": "d7ba8f15",
   "metadata": {},
   "outputs": [
    {
     "name": "stdout",
     "output_type": "stream",
     "text": [
      "146 ms ± 6.35 ms per loop (mean ± std. dev. of 7 runs, 100 loops each)\n"
     ]
    }
   ],
   "source": [
    "%timeit -n 100 Z[np.argsort(Z)[-n:]]"
   ]
  },
  {
   "cell_type": "code",
   "execution_count": 149,
   "id": "89a0c0a5",
   "metadata": {},
   "outputs": [
    {
     "name": "stdout",
     "output_type": "stream",
     "text": [
      "17.7 ms ± 684 µs per loop (mean ± std. dev. of 7 runs, 100 loops each)\n"
     ]
    }
   ],
   "source": [
    "%timeit -n 100 Z[np.argpartition(-Z,n)[:n]]"
   ]
  },
  {
   "cell_type": "markdown",
   "id": "9f524c95",
   "metadata": {},
   "source": [
    "второй метод быстрее"
   ]
  },
  {
   "cell_type": "code",
   "execution_count": 150,
   "id": "cf941e50",
   "metadata": {},
   "outputs": [
    {
     "name": "stdout",
     "output_type": "stream",
     "text": [
      "Первые пять строк и пять столбцов перемешанного исходного массива Z размера (1000,1000) :\n",
      " [[777977 542587 465419  91873 496369]\n",
      " [752895 118546 829967 617086 395167]\n",
      " [442514 988279 491470 150205 209257]\n",
      " [899479 364546  65825 612495 468959]\n",
      " [263944 172688 360007 733899 906148]]\n"
     ]
    }
   ],
   "source": [
    "# теперь решение для многомерного массива\n",
    "N = int(1e3)\n",
    "Z = np.arange(N*N)\n",
    "np.random.shuffle(Z)\n",
    "Z = Z.reshape(N,N)\n",
    "print(f'Первые пять строк и пять столбцов перемешанного исходного массива Z размера ({N},{N}) :\\n', Z[:5, :5])"
   ]
  },
  {
   "cell_type": "code",
   "execution_count": 151,
   "id": "9f81bc0c",
   "metadata": {},
   "outputs": [
    {
     "data": {
      "text/plain": [
       "array([999995, 999996, 999997, 999998, 999999])"
      ]
     },
     "execution_count": 151,
     "metadata": {},
     "output_type": "execute_result"
    }
   ],
   "source": [
    "# первый метод \n",
    "Z[np.unravel_index(np.argsort(Z, axis=None)[-n:], Z.shape)]"
   ]
  },
  {
   "cell_type": "code",
   "execution_count": 152,
   "id": "8a977a59",
   "metadata": {},
   "outputs": [
    {
     "data": {
      "text/plain": [
       "array([999999, 999998, 999997, 999996, 999995])"
      ]
     },
     "execution_count": 152,
     "metadata": {},
     "output_type": "execute_result"
    }
   ],
   "source": [
    "# второй метод \n",
    "Z[np.unravel_index(np.argpartition(-Z, n, axis=None)[:n], Z.shape)]"
   ]
  },
  {
   "cell_type": "markdown",
   "id": "7db59b96",
   "metadata": {},
   "source": [
    "сравним методы по скорости"
   ]
  },
  {
   "cell_type": "code",
   "execution_count": 153,
   "id": "a3c351fb",
   "metadata": {},
   "outputs": [
    {
     "name": "stdout",
     "output_type": "stream",
     "text": [
      "148 ms ± 3.75 ms per loop (mean ± std. dev. of 7 runs, 100 loops each)\n"
     ]
    }
   ],
   "source": [
    "%timeit -n 100 Z[np.unravel_index(np.argsort(Z, axis=None)[-n:], Z.shape)]"
   ]
  },
  {
   "cell_type": "code",
   "execution_count": 154,
   "id": "534da322",
   "metadata": {},
   "outputs": [
    {
     "name": "stdout",
     "output_type": "stream",
     "text": [
      "16.1 ms ± 741 µs per loop (mean ± std. dev. of 7 runs, 100 loops each)\n"
     ]
    }
   ],
   "source": [
    "%timeit -n 100 Z[np.unravel_index(np.argpartition(-Z, n, axis=None)[:n], Z.shape)]"
   ]
  },
  {
   "cell_type": "markdown",
   "id": "84e3ed88",
   "metadata": {},
   "source": [
    "второй метод быстрее\n",
    "\n",
    "***[np.arange](https://numpy.org/doc/stable/reference/generated/numpy.arange.html)*** - Возвращает равномерно распределенные значения в пределах заданного полуоткрытого интервала [start. stop). Для целочисленных аргументов функция эквивалентна встроенной функции range Python , но возвращает ndarray, а не список.  \n",
    "Если вместо start и stop указывается только одно число, то по умолчанию start равен нулю, а stop равно заданному числу.  \n",
    "\n",
    "***[np.reshape](https://numpy.org/doc/stable/reference/generated/numpy.reshape.html)*** - Изменяет размерность вектора на новую без изменения его данных.  \n",
    "\n",
    "***[np.random.shuffle](https://numpy.org/doc/stable/reference/random/generated/numpy.random.shuffle.html)*** - Метод изменяет последовательность заданного массива на месте (без копирования), перетасовывая его содержимое.  \n",
    "\n",
    "***[np.argsort](https://numpy.org/doc/stable/reference/generated/numpy.argsort.html)*** - Возвращает индексы, соответвующие отсортированным элементам заданного массива. По умолчанию истановлена быстрая сортировка (quicksort). Начиная с версии 1.12.0. быстрая сортировка заменена на интросортировку . Когда сортировка не дает достаточного прогресса, она переключается на пирамидальную сортировку. Эта реализация делает быструю сортировку O(n * log (n)) в худшем случае.  \n",
    "\n"
   ]
  },
  {
   "cell_type": "markdown",
   "id": "b6726630",
   "metadata": {},
   "source": [
    "#### 90. Given an arbitrary number of vectors, build the cartesian product (every combinations of every item) (★★★)\n",
    "Учитывая произвольное количество векторов, постройте декартово произведение (все комбинации каждого элемента)"
   ]
  },
  {
   "cell_type": "code",
   "execution_count": 155,
   "id": "4ae3636d",
   "metadata": {},
   "outputs": [
    {
     "name": "stdout",
     "output_type": "stream",
     "text": [
      "[[1 4 6]\n",
      " [1 4 7]\n",
      " [1 5 6]\n",
      " [1 5 7]\n",
      " [2 4 6]\n",
      " [2 4 7]\n",
      " [2 5 6]\n",
      " [2 5 7]\n",
      " [3 4 6]\n",
      " [3 4 7]\n",
      " [3 5 6]\n",
      " [3 5 7]]\n"
     ]
    }
   ],
   "source": [
    "def cartesian(arrays):\n",
    "    arrays = [np.asarray(a) for a in arrays]\n",
    "    shape = (len(x) for x in arrays)\n",
    "\n",
    "    ix = np.indices(shape, dtype=int)\n",
    "    ix = ix.reshape(len(arrays), -1).T\n",
    "\n",
    "    for n, arr in enumerate(arrays):\n",
    "        ix[:, n] = arrays[n][ix[:, n]]\n",
    "\n",
    "    return ix\n",
    "\n",
    "print (cartesian(([1, 2, 3], [4, 5], [6, 7])))"
   ]
  },
  {
   "cell_type": "markdown",
   "id": "54a136f0",
   "metadata": {},
   "source": [
    "***[np.indices](https://numpy.org/doc/stable/reference/generated/numpy.indices.html)*** - Возвращает массив, представляющий индексы сетки. Начиная с версии 1.17 если для параметра sparse установлено значение true, то сетка будет возвращена в разреженном представлении  \n",
    "\n",
    "***[np.reshape](https://numpy.org/doc/stable/reference/generated/numpy.reshape.html)*** - Изменяет размерность вектора на новую без изменения его данных.  "
   ]
  },
  {
   "cell_type": "markdown",
   "id": "a6101a44",
   "metadata": {},
   "source": [
    "#### 91. How to create a record array from a regular array? (★★★)\n",
    "Как создать массив записей из обычного массива?"
   ]
  },
  {
   "cell_type": "code",
   "execution_count": 156,
   "id": "cde2233d",
   "metadata": {},
   "outputs": [
    {
     "name": "stdout",
     "output_type": "stream",
     "text": [
      "[(b'Hello', 2.5, 3) (b'World', 3.6, 2)]\n"
     ]
    }
   ],
   "source": [
    "Z = np.array([(\"Hello\", 2.5, 3),\n",
    "              (\"World\", 3.6, 2)])\n",
    "R = np.core.records.fromarrays(Z.T,\n",
    "                               names='col1, col2, col3',\n",
    "                               formats = 'S8, f8, i8')\n",
    "print(R)"
   ]
  },
  {
   "cell_type": "markdown",
   "id": "0a523a0f",
   "metadata": {},
   "source": [
    "***[np.core.records.fromarrays](https://numpy.org/doc/stable/search.html?q=np.core.records.fromarrays)*** - Создает массив записей из (плоского) списка массивов.  \n"
   ]
  },
  {
   "cell_type": "markdown",
   "id": "0eb36654",
   "metadata": {},
   "source": [
    "#### 92. Consider a large vector Z, compute Z to the power of 3 using 3 different methods (★★★)\n",
    "Рассмотрим большой вектор Z, вычислите Z в степени 3, используя 3 различных метода"
   ]
  },
  {
   "cell_type": "code",
   "execution_count": 157,
   "id": "37f2a553",
   "metadata": {},
   "outputs": [
    {
     "name": "stdout",
     "output_type": "stream",
     "text": [
      "Первые пять элементов исходного массива Z размера 10000000:\n",
      " [0.16473 0.41974 0.85984 0.52627 0.04582]\n"
     ]
    }
   ],
   "source": [
    "N = int(1e7)  # размерность массива\n",
    "Z = np.random.random(N)\n",
    "print(f'Первые пять элементов исходного массива Z размера {N}:\\n', Z[:5])\n"
   ]
  },
  {
   "cell_type": "code",
   "execution_count": 158,
   "id": "069a43e4",
   "metadata": {},
   "outputs": [
    {
     "data": {
      "text/plain": [
       "array([0.00447, 0.07395, 0.6357 , 0.14576, 0.0001 ])"
      ]
     },
     "execution_count": 158,
     "metadata": {},
     "output_type": "execute_result"
    }
   ],
   "source": [
    "# первый метод\n",
    "np.power(Z,3)[:5]"
   ]
  },
  {
   "cell_type": "code",
   "execution_count": 159,
   "id": "21a1a631",
   "metadata": {},
   "outputs": [
    {
     "data": {
      "text/plain": [
       "array([0.00447, 0.07395, 0.6357 , 0.14576, 0.0001 ])"
      ]
     },
     "execution_count": 159,
     "metadata": {},
     "output_type": "execute_result"
    }
   ],
   "source": [
    "# второй метод\n",
    "(Z*Z*Z)[:5]"
   ]
  },
  {
   "cell_type": "code",
   "execution_count": 160,
   "id": "eaecfa96",
   "metadata": {},
   "outputs": [
    {
     "data": {
      "text/plain": [
       "array([0.00447, 0.07395, 0.6357 , 0.14576, 0.0001 ])"
      ]
     },
     "execution_count": 160,
     "metadata": {},
     "output_type": "execute_result"
    }
   ],
   "source": [
    "# третий метод\n",
    "np.einsum('i,i,i->i', Z, Z, Z)[:5]"
   ]
  },
  {
   "cell_type": "markdown",
   "id": "474ba0e7",
   "metadata": {},
   "source": [
    "сравним скорость методов"
   ]
  },
  {
   "cell_type": "code",
   "execution_count": 161,
   "id": "25a89203",
   "metadata": {},
   "outputs": [
    {
     "name": "stdout",
     "output_type": "stream",
     "text": [
      "400 ms ± 23.8 ms per loop (mean ± std. dev. of 7 runs, 10 loops each)\n"
     ]
    }
   ],
   "source": [
    "%timeit -n 10 np.power(Z,3)\n"
   ]
  },
  {
   "cell_type": "code",
   "execution_count": 162,
   "id": "f26e1e28",
   "metadata": {},
   "outputs": [
    {
     "name": "stdout",
     "output_type": "stream",
     "text": [
      "73.5 ms ± 2.96 ms per loop (mean ± std. dev. of 7 runs, 10 loops each)\n"
     ]
    }
   ],
   "source": [
    "%timeit -n 10 Z*Z*Z\n"
   ]
  },
  {
   "cell_type": "code",
   "execution_count": 163,
   "id": "3a2a4815",
   "metadata": {},
   "outputs": [
    {
     "name": "stdout",
     "output_type": "stream",
     "text": [
      "63.2 ms ± 3.48 ms per loop (mean ± std. dev. of 7 runs, 10 loops each)\n"
     ]
    }
   ],
   "source": [
    "%timeit -n 10 np.einsum('i,i,i->i', Z, Z, Z)"
   ]
  },
  {
   "cell_type": "markdown",
   "id": "1cd312f0",
   "metadata": {},
   "source": [
    "третий способ быстрее\n",
    "\n",
    "***[np.random.random](https://numpy.org/doc/stable/reference/random/generated/numpy.random.random.html)*** - Возвращает случайные вещественные числа в «полуоткрытом» интервале [0, 1.0) в виде вектора размера size.  \n",
    "\n",
    "***[np.power](https://numpy.org/doc/stable/reference/generated/numpy.power.html)*** - Поэлементное возведение элементов первого массива в степень элементов второго массива.  \n",
    "\n",
    "***[np.einsum](https://numpy.org/doc/stable/reference/generated/numpy.einsum.html)*** - выполняет суммирование по набору проиндексированных членов в формуле (могут быть заданы явным или неявным образом) соглашение о суммировании Эйнштейна  "
   ]
  },
  {
   "cell_type": "markdown",
   "id": "e12790c6",
   "metadata": {},
   "source": [
    "#### 93. Consider two arrays A and B of shape (8,3) and (2,2). How to find rows of A that contain elements of each row of B regardless of the order of the elements in B? (★★★)\n",
    "Рассмотрим два массива A и B формы (8,3) и (2,2). Как найти строки A, которые содержат элементы каждой строки B независимо от порядка элементов в B?\n",
    "Пояснение к заданию:\n",
    "```python\n",
    "например массив B = [[4 3]\n",
    "                     [1 2]]\n",
    "тогда в строка [0, 2, 4] в матрице A искомая, потому что содержит один элемент [2] из одной строки и элемент [4] из другой строки массива B.  Получается строка содержит элементы из всех (двух) строк массива B.\n",
    "А например, строка [0, 1, 2] не подходит, потому что содежит элемент [2] только из одной строки [1, 2] массива B. Тогда как из другой строки [4, 3] массива B элементов в ней нет.  \n",
    "```\n"
   ]
  },
  {
   "cell_type": "code",
   "execution_count": 164,
   "id": "00a929ff",
   "metadata": {},
   "outputs": [
    {
     "name": "stdout",
     "output_type": "stream",
     "text": [
      "Первый  массив A размера (8,3):\n",
      " [[1 3 3]\n",
      " [3 0 0]\n",
      " [0 1 0]\n",
      " [4 4 0]\n",
      " [1 4 3]\n",
      " [2 1 4]\n",
      " [1 0 1]\n",
      " [4 1 0]]\n",
      "Второй массив B размера (2,2):\n",
      " [[1 1]\n",
      " [0 1]]\n",
      "Индексы искомых строк: [0 2 4 5 6 7]\n"
     ]
    }
   ],
   "source": [
    "A = np.random.randint(0,5,(8,3))\n",
    "print('Первый  массив A размера (8,3):\\n', A)\n",
    "B = np.random.randint(0,5,(2,2))\n",
    "print('Второй массив B размера (2,2):\\n', B)\n",
    "\n",
    "C = (A[..., np.newaxis, np.newaxis] == B)\n",
    "index_rows = np.where(C.any((3,1)).all(1))[0]\n",
    "print('Индексы искомых строк:', index_rows)"
   ]
  },
  {
   "cell_type": "markdown",
   "id": "a320113c",
   "metadata": {},
   "source": [
    "***[np.random.randint](https://numpy.org/doc/stable/reference/random/generated/numpy.random.randint.html)*** - Возвращает случайные целые числа в «полуоткрытом» интервале [low, high) в виде вектора размера size.  \n",
    "\n",
    "***[np.newaxis](https://numpy.org/doc/stable/reference/constants.html?highlight=newaxis#numpy.newaxis)*** - псевдоним для None, полезный для индексации массивов.  \n",
    "\n",
    "***[np.where](https://numpy.org/doc/stable/reference/generated/numpy.where.html)*** - Возвращает элементы из первого или второго векторов в зависимости от значений вектора условий. Когда указано только условие, эта функция является сокращением для np.asarray(condition).nonzero() - то есть индексы элементов массива для которых условие выполняется.  "
   ]
  },
  {
   "cell_type": "markdown",
   "id": "dce53035",
   "metadata": {},
   "source": [
    "#### 94. Considering a 10x3 matrix, extract rows with unequal values (e.g. [2,2,3]) (★★★)\n",
    "Рассматривая матрицу 10x3, извлеките строки с неравными значениями (например, [2,2,3])"
   ]
  },
  {
   "cell_type": "code",
   "execution_count": 165,
   "id": "b14f4dc1",
   "metadata": {},
   "outputs": [
    {
     "name": "stdout",
     "output_type": "stream",
     "text": [
      "Исходный массив Z размера (10,3) целых случайных из полуинтервала (0,2) :\n",
      " [[0 0 0]\n",
      " [1 1 0]\n",
      " [0 1 1]\n",
      " [1 0 1]\n",
      " [1 0 0]\n",
      " [0 0 0]\n",
      " [0 0 1]\n",
      " [1 1 0]\n",
      " [0 0 0]\n",
      " [0 1 0]]\n"
     ]
    }
   ],
   "source": [
    "high = 2  # верхняя граница полуинтервала для генерации массива\n",
    "Z = np.random.randint(0,high,(10,3))\n",
    "print(f'Исходный массив Z размера (10,3) целых случайных из полуинтервала (0,{high}) :\\n', Z)\n"
   ]
  },
  {
   "cell_type": "code",
   "execution_count": 166,
   "id": "13e17d89",
   "metadata": {},
   "outputs": [
    {
     "name": "stdout",
     "output_type": "stream",
     "text": [
      "Строки с различными значениями массива:\n",
      " [[1 1 0]\n",
      " [0 1 1]\n",
      " [1 0 1]\n",
      " [1 0 0]\n",
      " [0 0 1]\n",
      " [1 1 0]\n",
      " [0 1 0]]\n",
      "Кол-во строк с различными элементами 7 из 10-ти = 0.7\n"
     ]
    }
   ],
   "source": [
    "# решение только для численных массивов\n",
    "U = Z[Z.max(axis=1) != Z.min(axis=1),:]\n",
    "print('Строки с различными значениями массива:\\n',U)\n",
    "print(f'Кол-во строк с различными элементами {len(U)} из 10-ти = {len(U)/10}')"
   ]
  },
  {
   "cell_type": "code",
   "execution_count": 167,
   "id": "435fdce6",
   "metadata": {},
   "outputs": [
    {
     "name": "stdout",
     "output_type": "stream",
     "text": [
      "Исходный массив Z размера (10,3) случайных символов:\n",
      " [['b' 'b' 'b']\n",
      " ['b' 'b' 'a']\n",
      " ['b' 'b' 'b']\n",
      " ['b' 'a' 'b']\n",
      " ['a' 'a' 'a']\n",
      " ['a' 'b' 'b']\n",
      " ['a' 'a' 'b']\n",
      " ['b' 'a' 'a']\n",
      " ['b' 'a' 'a']\n",
      " ['b' 'b' 'a']]\n"
     ]
    }
   ],
   "source": [
    "# решение для любых типов (в том числе для стринговых и record массивов)\n",
    "\n",
    "# сначала сгенерируем массив из случайных строк\n",
    "\n",
    "high = 2  # верхняя граница полуинтервала для генерации массива\n",
    "Z = np.random.randint(0,high,30)\n",
    "str_chars = 'abcdefghijklnopqrstuvwxyzABCDEFGHIJKLMNOPQRSTUVWXYZ'  # можно было просто перевести int в str\n",
    "                                                                   # но с символами будет нагляднее\n",
    "Z = Z.astype(str)\n",
    "for elem in np.unique(Z):\n",
    "    Z[Z==elem] = str_chars[int(elem)]\n",
    "Z = Z.reshape((10,3))\n",
    "print(f'Исходный массив Z размера (10,3) случайных символов:\\n', Z)"
   ]
  },
  {
   "cell_type": "code",
   "execution_count": 168,
   "id": "ae7fea93",
   "metadata": {},
   "outputs": [
    {
     "name": "stdout",
     "output_type": "stream",
     "text": [
      "Строки с различными значениями массива:\n",
      " [['b' 'b' 'a']\n",
      " ['b' 'a' 'b']\n",
      " ['a' 'b' 'b']\n",
      " ['a' 'a' 'b']\n",
      " ['b' 'a' 'a']\n",
      " ['b' 'a' 'a']\n",
      " ['b' 'b' 'a']]\n",
      "Кол-во строк с различными элементами 7 из 10-ти = 0.7\n"
     ]
    }
   ],
   "source": [
    "# решение для любых типов (в том числе для стринговых и record массивов)\n",
    "E = np.all(Z[:,1:] == Z[:,:-1], axis=1)\n",
    "U = Z[~E]\n",
    "print('Строки с различными значениями массива:\\n',U)\n",
    "print(f'Кол-во строк с различными элементами {len(U)} из 10-ти = {len(U)/10}')"
   ]
  },
  {
   "cell_type": "markdown",
   "id": "dbcbb087",
   "metadata": {},
   "source": [
    "***[np.random.randint](https://numpy.org/doc/stable/reference/random/generated/numpy.random.randint.html)*** - Возвращает случайные целые числа в «полуоткрытом» интервале [low, high) в виде вектора размера size.  \n",
    "\n",
    "***[np.ndarray.astype](https://numpy.org/doc/stable/reference/generated/numpy.ndarray.astype.html)*** - Метод, который приводит массив к заданному типу.  \n",
    "\n",
    "***[np.reshape](https://numpy.org/doc/stable/reference/generated/numpy.reshape.html)*** - Изменяет размерность вектора на новую без изменения его данных.  \n",
    "\n",
    "***[np.unique](https://numpy.org/doc/stable/reference/generated/numpy.unique.html)*** - Находит уникальные элементы массива и возвращает их в отсортированном виде.  \n",
    "\n",
    "***[np.all](https://numpy.org/doc/stable/reference/generated/numpy.all.html)*** - Проверяет, все ли элементы массива вдоль заданной оси равны True.  \n"
   ]
  },
  {
   "cell_type": "markdown",
   "id": "d8887669",
   "metadata": {},
   "source": [
    "#### 95. Convert a vector of ints into a matrix binary representation (★★★)\n",
    "Преобразуйте вектор целых чисел в матричное двоичное представление\n",
    "Уточнение для задания: допустим на входе массив = (0, 1, 8) тогда двоичное представление чисел\n",
    "```python\n",
    "0 (десятичное число) = 0b0 (двоичное представление)\n",
    "1 (десятичное число) = 0b1 (двоичное представление)\n",
    "8 (десятичное число) = 0b1000 (двоичное представление)\n",
    "```\n",
    "$$8 = 1*2^3 + 0*2^2 + 0*2^1 + 0*2^0$$  \n",
    "так как для записи числа 0b1000 необходимо 4 (четыре) столбца, то на выходе будем иметь матрицу  \n",
    "```python\n",
    "[[0 0 0 0]\n",
    " [0 0 0 1]\n",
    " [1 0 0 0]]\n",
    "```\n",
    "где первая строка соответвует числу 0, вторая строка числу 1 и последняя строка числу 8.\n",
    "\n",
    "подразумевается, что числа положительные, иначе придется выделять отдельный столбец"
   ]
  },
  {
   "cell_type": "code",
   "execution_count": 169,
   "id": "c58f9be8",
   "metadata": {},
   "outputs": [
    {
     "name": "stdout",
     "output_type": "stream",
     "text": [
      "Исходный массив из 10-ти чисел, которые необходимо преобразовать в двоичное представление:\n",
      " [   0    1    2    3   15   16   64  255  256 1024]\n"
     ]
    }
   ],
   "source": [
    "arr_numbers = np.array([0, 1, 2, 3, 15, 16, 64, 255, 256, 1024])\n",
    "print(f'Исходный массив из 10-ти чисел, которые необходимо преобразовать в двоичное представление:\\n', arr_numbers)"
   ]
  },
  {
   "cell_type": "code",
   "execution_count": 170,
   "id": "8cad229a",
   "metadata": {},
   "outputs": [
    {
     "name": "stdout",
     "output_type": "stream",
     "text": [
      "Искомая матрица бинарного представления заданных чисел:\n",
      " [[0 0 0 0 0 0 0 0 0 0 0]\n",
      " [0 0 0 0 0 0 0 0 0 0 1]\n",
      " [0 0 0 0 0 0 0 0 0 1 0]\n",
      " [0 0 0 0 0 0 0 0 0 1 1]\n",
      " [0 0 0 0 0 0 0 1 1 1 1]\n",
      " [0 0 0 0 0 0 1 0 0 0 0]\n",
      " [0 0 0 0 1 0 0 0 0 0 0]\n",
      " [0 0 0 1 1 1 1 1 1 1 1]\n",
      " [0 0 1 0 0 0 0 0 0 0 0]\n",
      " [1 0 0 0 0 0 0 0 0 0 0]] размера  (10, 11) \n",
      "\n",
      "Соответствие строк матрицы и исходных чисел:\n",
      "[0 0 0 0 0 0 0 0 0 0 0]  =  0\n",
      "[0 0 0 0 0 0 0 0 0 0 1]  =  1\n",
      "[0 0 0 0 0 0 0 0 0 1 0]  =  2\n",
      "[0 0 0 0 0 0 0 0 0 1 1]  =  3\n",
      "[0 0 0 0 0 0 0 1 1 1 1]  =  15\n",
      "[0 0 0 0 0 0 1 0 0 0 0]  =  16\n",
      "[0 0 0 0 1 0 0 0 0 0 0]  =  64\n",
      "[0 0 0 1 1 1 1 1 1 1 1]  =  255\n",
      "[0 0 1 0 0 0 0 0 0 0 0]  =  256\n",
      "[1 0 0 0 0 0 0 0 0 0 0]  =  1024\n"
     ]
    }
   ],
   "source": [
    "# первый способ\n",
    "import math\n",
    "\n",
    "max_number = arr_numbers.max()\n",
    "N = math.ceil(np.log2(max_number))+1\n",
    "\n",
    "binary_numbers = ((arr_numbers.reshape(-1,1) & (2**np.arange(N))) != 0).astype(int)\n",
    "binary_numbers = binary_numbers[:,::-1]\n",
    "print('Искомая матрица бинарного представления заданных чисел:\\n', binary_numbers, 'размера ', binary_numbers.shape, '\\n')\n",
    "print('Соответствие строк матрицы и исходных чисел:')\n",
    "for i in range(len(binary_numbers)):\n",
    "    print(binary_numbers[i], ' = ', arr_numbers[i])\n"
   ]
  },
  {
   "cell_type": "code",
   "execution_count": 171,
   "id": "ca0c5fe5",
   "metadata": {},
   "outputs": [
    {
     "name": "stdout",
     "output_type": "stream",
     "text": [
      "Искомая матрица бинарного представления заданных чисел:\n",
      " [[0 0 0 0 0 0 0 0]\n",
      " [0 0 0 0 0 0 0 1]\n",
      " [0 0 0 0 0 0 1 0]\n",
      " [0 0 0 0 0 0 1 1]\n",
      " [0 0 0 0 1 1 1 1]\n",
      " [0 0 0 1 0 0 0 0]\n",
      " [0 1 0 0 0 0 0 0]\n",
      " [1 1 1 1 1 1 1 1]\n",
      " [0 0 0 0 0 0 0 0]\n",
      " [0 0 0 0 0 0 0 0]] размера  (10, 8) \n",
      "\n",
      "Соответствие строк матрицы и исходных чисел:\n",
      "[0 0 0 0 0 0 0 0]  =  0\n",
      "[0 0 0 0 0 0 0 1]  =  1\n",
      "[0 0 0 0 0 0 1 0]  =  2\n",
      "[0 0 0 0 0 0 1 1]  =  3\n",
      "[0 0 0 0 1 1 1 1]  =  15\n",
      "[0 0 0 1 0 0 0 0]  =  16\n",
      "[0 1 0 0 0 0 0 0]  =  64\n",
      "[1 1 1 1 1 1 1 1]  =  255\n",
      "[0 0 0 0 0 0 0 0]  =  0\n",
      "[0 0 0 0 0 0 0 0]  =  0\n"
     ]
    }
   ],
   "source": [
    "# второй способ (!!!внимание!!! только для чисел менее 256 = 2**8)\n",
    "# на выходе всегда матрица шириной 8 столбцов\n",
    "arr_numbers = arr_numbers.astype(np.uint8)\n",
    "binary_numbers = np.unpackbits(arr_numbers[:, np.newaxis], axis=1)\n",
    "print('Искомая матрица бинарного представления заданных чисел:\\n', binary_numbers, 'размера ', binary_numbers.shape, '\\n')\n",
    "print('Соответствие строк матрицы и исходных чисел:')\n",
    "for i in range(len(binary_numbers)):\n",
    "    print(binary_numbers[i], ' = ', arr_numbers[i])"
   ]
  },
  {
   "cell_type": "markdown",
   "id": "c722cf4e",
   "metadata": {},
   "source": [
    "***[np.log2](https://numpy.org/doc/stable/reference/generated/numpy.log2.html)*** - Возвращает массив логарифмов элементов заданного массива по основанию 2.  \n",
    "\n",
    "***[np.reshape](https://numpy.org/doc/stable/reference/generated/numpy.reshape.html)*** - Изменяет размерность вектора на новую без изменения его данных.  \n",
    "\n",
    "***[np.arange](https://numpy.org/doc/stable/reference/generated/numpy.arange.html)*** - Возвращает равномерно распределенные значения в пределах заданного полуоткрытого интервала [start. stop). Для целочисленных аргументов функция эквивалентна встроенной функции range Python , но возвращает ndarray, а не список.  \n",
    "Если вместо start и stop указывается только одно число, то по умолчанию start равен нулю, а stop равно заданному числу.  \n",
    "\n",
    "***[np.ndarray.astype](https://numpy.org/doc/stable/reference/generated/numpy.ndarray.astype.html)*** - Метод, который приводит массив к заданному типу.  \n",
    "\n",
    "***[np.unpackbits](https://numpy.org/doc/stable/reference/generated/numpy.unpackbits.html)*** - Распаковывает элементы массива uint8 в выходной массив с двоичным значением.  \n",
    "\n",
    "***[np.newaxis](https://numpy.org/doc/stable/reference/constants.html?highlight=newaxis#numpy.newaxis)*** - псевдоним для None, полезный для индексации массивов."
   ]
  },
  {
   "cell_type": "markdown",
   "id": "2aab4799",
   "metadata": {},
   "source": [
    "#### 96. Given a two dimensional array, how to extract unique rows? (★★★)\n",
    "Учитывая двумерный массив, как извлечь уникальные строки?"
   ]
  },
  {
   "cell_type": "code",
   "execution_count": 172,
   "id": "df6f4155",
   "metadata": {},
   "outputs": [
    {
     "name": "stdout",
     "output_type": "stream",
     "text": [
      "Исходный массив Z случайных чисел из полуинтервала [0,2) размера (10,3):\n",
      " [[1 0 0]\n",
      " [0 1 1]\n",
      " [1 1 1]\n",
      " [1 1 0]\n",
      " [1 0 1]\n",
      " [1 0 1]\n",
      " [0 0 1]\n",
      " [0 0 0]\n",
      " [0 0 0]\n",
      " [1 0 1]]\n"
     ]
    }
   ],
   "source": [
    "N = 10  # кол-во строк исходной матрицы\n",
    "Z = np.random.randint(0,2,(N,3))\n",
    "print(f'Исходный массив Z случайных чисел из полуинтервала [0,2) размера ({N},3):\\n', Z)"
   ]
  },
  {
   "cell_type": "code",
   "execution_count": 173,
   "id": "ccf93aec",
   "metadata": {},
   "outputs": [
    {
     "name": "stdout",
     "output_type": "stream",
     "text": [
      "Искомая матрица уникальных строк матрицы Z (первый способ):\n",
      " [[0 0 0]\n",
      " [0 0 1]\n",
      " [0 1 1]\n",
      " [1 0 0]\n",
      " [1 0 1]\n",
      " [1 1 0]\n",
      " [1 1 1]]\n",
      "Кол-во уникальных строк 7 из 10-и = 0.7\n"
     ]
    }
   ],
   "source": [
    "# первый способ\n",
    "T = np.ascontiguousarray(Z).view(np.dtype((np.void, Z.dtype.itemsize * Z.shape[1])))\n",
    "_, idx = np.unique(T, return_index=True)\n",
    "uniq_rows_Z = Z[idx]\n",
    "print('Искомая матрица уникальных строк матрицы Z (первый способ):\\n', uniq_rows_Z)\n",
    "len_arr = len(uniq_rows_Z)\n",
    "print(f'Кол-во уникальных строк {len_arr} из {N}-и = {len_arr/N}')"
   ]
  },
  {
   "cell_type": "code",
   "execution_count": 174,
   "id": "6d61d1fa",
   "metadata": {},
   "outputs": [
    {
     "name": "stdout",
     "output_type": "stream",
     "text": [
      "Искомая матрица уникальных строк матрицы Z (второй способ):\n",
      " [[0 0 0]\n",
      " [0 0 1]\n",
      " [0 1 1]\n",
      " [1 0 0]\n",
      " [1 0 1]\n",
      " [1 1 0]\n",
      " [1 1 1]]\n",
      "Кол-во уникальных строк 7 из 10-и = 0.7\n"
     ]
    }
   ],
   "source": [
    "uniq_rows_Z2 = np.unique(Z, axis=0)\n",
    "print('Искомая матрица уникальных строк матрицы Z (второй способ):\\n', uniq_rows_Z2)\n",
    "len_arr = len(uniq_rows_Z2)\n",
    "print(f'Кол-во уникальных строк {len_arr} из {N}-и = {len_arr/N}')"
   ]
  },
  {
   "cell_type": "markdown",
   "id": "c06e0ec6",
   "metadata": {},
   "source": [
    "***[np.random.randint](https://numpy.org/doc/stable/reference/random/generated/numpy.random.randint.html)*** - Возвращает случайные целые числа в «полуоткрытом» интервале [low, high) в виде вектора размера size.  \n",
    "\n",
    "***[np.unique](https://numpy.org/doc/stable/reference/generated/numpy.unique.html)*** - Находит уникальные элементы массива и возвращает их в отсортированном виде.  "
   ]
  },
  {
   "cell_type": "markdown",
   "id": "06b857d3",
   "metadata": {},
   "source": [
    "#### 97. Considering 2 vectors A & B, write the einsum equivalent of inner, outer, sum, and mul function (★★★)\n",
    "Рассматривая 2 вектора A и B, запишите эквивалент einsum функции inner, outer, sum и mul"
   ]
  },
  {
   "cell_type": "code",
   "execution_count": 175,
   "id": "6b3aba03",
   "metadata": {},
   "outputs": [
    {
     "name": "stdout",
     "output_type": "stream",
     "text": [
      "Исходный вектор A размера 10:\n",
      " [0 1 2 3 4 5 6 7 8 9]\n",
      "Исходный вектор A размера 10:\n",
      " [9 8 7 6 5 4 3 2 1 0]\n"
     ]
    }
   ],
   "source": [
    "N = 10\n",
    "A = np.arange(N)\n",
    "print(f'Исходный вектор A размера {N}:\\n', A)\n",
    "B = A[::-1]\n",
    "print(f'Исходный вектор A размера {N}:\\n', B)"
   ]
  },
  {
   "cell_type": "code",
   "execution_count": 176,
   "id": "9d072414",
   "metadata": {},
   "outputs": [
    {
     "name": "stdout",
     "output_type": "stream",
     "text": [
      "эквивалент np.sum(A) =  45\n",
      "Проверка правильности: True\n"
     ]
    }
   ],
   "source": [
    "# эквивалент np.sum(A) через np.einsum\n",
    "print('эквивалент np.sum(A) = ', np.einsum('i->', A))\n",
    "\n",
    "print('Проверка правильности:', np.einsum('i->', A)==np.sum(A))"
   ]
  },
  {
   "cell_type": "code",
   "execution_count": 177,
   "id": "ad04c0eb",
   "metadata": {},
   "outputs": [
    {
     "name": "stdout",
     "output_type": "stream",
     "text": [
      "эквивалент A * B =  [ 0  8 14 18 20 20 18 14  8  0]\n",
      "Проверка правильности: [ True  True  True  True  True  True  True  True  True  True]\n"
     ]
    }
   ],
   "source": [
    "# эквивалент A * B через np.einsum\n",
    "print('эквивалент A * B = ', np.einsum('i,i->i', A, B))\n",
    "\n",
    "print('Проверка правильности:',np.einsum('i,i->i', A, B)==A*B)"
   ]
  },
  {
   "cell_type": "code",
   "execution_count": 178,
   "id": "916e24b1",
   "metadata": {},
   "outputs": [
    {
     "name": "stdout",
     "output_type": "stream",
     "text": [
      "эквивалент np.inner(A, B) =  120\n",
      "Проверка правильности: True\n"
     ]
    }
   ],
   "source": [
    "# эквивалент np.inner(A, B) через np.einsum\n",
    "print('эквивалент np.inner(A, B) = ', np.einsum('i,i', A, B))\n",
    "\n",
    "print('Проверка правильности:',np.einsum('i,i', A, B)==np.inner(A, B))"
   ]
  },
  {
   "cell_type": "code",
   "execution_count": 179,
   "id": "169e588f",
   "metadata": {},
   "outputs": [
    {
     "name": "stdout",
     "output_type": "stream",
     "text": [
      "эквивалент np.outer(A, B) =  [[ 0  0  0  0  0  0  0  0  0  0]\n",
      " [ 9  8  7  6  5  4  3  2  1  0]\n",
      " [18 16 14 12 10  8  6  4  2  0]\n",
      " [27 24 21 18 15 12  9  6  3  0]\n",
      " [36 32 28 24 20 16 12  8  4  0]\n",
      " [45 40 35 30 25 20 15 10  5  0]\n",
      " [54 48 42 36 30 24 18 12  6  0]\n",
      " [63 56 49 42 35 28 21 14  7  0]\n",
      " [72 64 56 48 40 32 24 16  8  0]\n",
      " [81 72 63 54 45 36 27 18  9  0]]\n",
      "Проверка правильности:\n",
      " [[ True  True  True  True  True  True  True  True  True  True]\n",
      " [ True  True  True  True  True  True  True  True  True  True]\n",
      " [ True  True  True  True  True  True  True  True  True  True]\n",
      " [ True  True  True  True  True  True  True  True  True  True]\n",
      " [ True  True  True  True  True  True  True  True  True  True]\n",
      " [ True  True  True  True  True  True  True  True  True  True]\n",
      " [ True  True  True  True  True  True  True  True  True  True]\n",
      " [ True  True  True  True  True  True  True  True  True  True]\n",
      " [ True  True  True  True  True  True  True  True  True  True]\n",
      " [ True  True  True  True  True  True  True  True  True  True]]\n"
     ]
    }
   ],
   "source": [
    "# эквивалент np.outer(A, B) через np.einsum\n",
    "print('эквивалент np.outer(A, B) = ', np.einsum('i,j->ij', A, B) )\n",
    "\n",
    "print('Проверка правильности:\\n',np.einsum('i,j->ij', A, B) ==np.outer(A, B))"
   ]
  },
  {
   "cell_type": "markdown",
   "id": "f5348179",
   "metadata": {},
   "source": [
    "***[np.arange](https://numpy.org/doc/stable/reference/generated/numpy.arange.html)*** - Возвращает равномерно распределенные значения в пределах заданного полуоткрытого интервала [start. stop). Для целочисленных аргументов функция эквивалентна встроенной функции range Python , но возвращает ndarray, а не список.  \n",
    "Если вместо start и stop указывается только одно число, то по умолчанию start равен нулю, а stop равно заданному числу.  \n",
    "\n",
    "***[np.einsum](https://numpy.org/doc/stable/reference/generated/numpy.einsum.html)*** - выполняет суммирование по набору проиндексированных членов в формуле (могут быть заданы явным или неявным образом) соглашение о суммировании Эйнштейна  \n",
    "\n",
    "***[np.sum](https://numpy.org/doc/stable/reference/generated/numpy.sum.html)*** - cумма элементов массива по заданной оси.  \n",
    "\n",
    "***[np.inner](https://numpy.org/doc/stable/reference/generated/numpy.inner.html)*** - Обычное скалярное произведение векторов для одномерных массивов (без комплексного сопряжения).  \n",
    "\n",
    "***[np.outer](https://numpy.org/doc/stable/reference/generated/numpy.outer.html)*** - Внешнее произведение двух векторов."
   ]
  },
  {
   "cell_type": "markdown",
   "id": "0e77ad18",
   "metadata": {},
   "source": [
    "#### 98. Considering a path described by two vectors (X,Y), how to sample it using equidistant samples (★★★)?\n",
    "Рассматривая путь, описываемый двумя векторами (X, Y), как сделать выборку с использованием равноудаленных выборок"
   ]
  },
  {
   "cell_type": "code",
   "execution_count": 180,
   "id": "0d932463",
   "metadata": {},
   "outputs": [],
   "source": [
    "phi = np.arange(0, 10*np.pi, 0.1)\n",
    "a = 1\n",
    "x = a*phi*np.cos(phi)\n",
    "y = a*phi*np.sin(phi)\n",
    "\n",
    "dr = (np.diff(x)**2 + np.diff(y)**2)**.5 # segment lengths\n",
    "r = np.zeros_like(x)\n",
    "r[1:] = np.cumsum(dr)                # integrate path\n",
    "r_int = np.linspace(0, r.max(), 200) # regular spaced path\n",
    "x_int = np.interp(r_int, r, x)       # integrate path\n",
    "y_int = np.interp(r_int, r, y)"
   ]
  },
  {
   "cell_type": "markdown",
   "id": "b51b6a49",
   "metadata": {},
   "source": [
    "***[np.arange](https://numpy.org/doc/stable/reference/generated/numpy.arange.html)*** - Возвращает равномерно распределенные значения в пределах заданного полуоткрытого интервала [start. stop). Для целочисленных аргументов функция эквивалентна встроенной функции range Python , но возвращает ndarray, а не список.  \n",
    "Если вместо start и stop указывается только одно число, то по умолчанию start равен нулю, а stop равно заданному числу.  \n",
    "\n",
    "***[np.zeros_like](https://numpy.org/doc/stable/reference/generated/numpy.zeros_like.html)*** - возвращает новый массив заполненный нулями той же формы и типа, что и заданный массив.  "
   ]
  },
  {
   "cell_type": "markdown",
   "id": "bb5ba4e2",
   "metadata": {},
   "source": [
    "#### 99. Given an integer n and a 2D array X, select from X the rows which can be interpreted as draws from a multinomial distribution with n degrees, i.e., the rows which only contain integers and which sum to n. (★★★)\n",
    "Учитывая целое число n и 2D-массив X, выберите из X строки, которые могут быть интерпретированы как взятые из мультиномиального распределения с n степенями, т.Е. строки, которые содержат только целые числа и сумма которых равна n."
   ]
  },
  {
   "cell_type": "code",
   "execution_count": 181,
   "id": "6770c057",
   "metadata": {},
   "outputs": [
    {
     "name": "stdout",
     "output_type": "stream",
     "text": [
      "[[2. 0. 1. 1.]\n",
      " [0. 2. 0. 2.]]\n"
     ]
    }
   ],
   "source": [
    "X = np.array([[1.0, 0.0, 3.0, 8.0],\n",
    "              [2.0, 0.0, 1.0, 1.0],\n",
    "              [1.0, 2.5, 0.5, 0.0],\n",
    "              [0.0, 2.0, 0.0, 2.0]])\n",
    "n = 4\n",
    "M = np.logical_and.reduce(np.mod(X, 1) == 0, axis=-1)\n",
    "M &= (X.sum(axis=-1) == n)\n",
    "print(X[M])"
   ]
  },
  {
   "cell_type": "markdown",
   "id": "170ac80e",
   "metadata": {},
   "source": [
    "***[np.ufunc.reduce](https://numpy.org/doc/stable/reference/generated/numpy.ufunc.reduce.html)*** - Уменьшает размерность массива на единицу, применяя np.ufunc вдоль одной оси.  \n",
    "\n",
    "***[np.logical_and](https://numpy.org/doc/stable/reference/generated/numpy.logical_and.html)*** - Вычислите истинность значений первого и второго вектора поэлементно. Оператор & может использоваться как сокращение для np.logical_and.  "
   ]
  },
  {
   "cell_type": "markdown",
   "id": "03d2ff69",
   "metadata": {},
   "source": [
    "#### 100. Compute bootstrapped 95% confidence intervals for the mean of a 1D array X (i.e., resample the elements of an array with replacement N times, compute the mean of each sample, and then compute percentiles over the means). (★★★)\n",
    "Вычислите загрузочные 95% доверительные интервалы для среднего значения 1D массива X (т.Е. выполните повторную выборку элементов массива (bootstrap) с заменой N раз, вычислите среднее значение каждой выборки, а затем вычислите процентили по средним значениям). (★★★)"
   ]
  },
  {
   "cell_type": "code",
   "execution_count": 182,
   "id": "135ff82e",
   "metadata": {},
   "outputs": [
    {
     "name": "stdout",
     "output_type": "stream",
     "text": [
      "[-0.32122  0.05484]\n"
     ]
    }
   ],
   "source": [
    "X = np.random.randn(100)  \n",
    "N = 1000  # кол-во выборок (bootstrap)\n",
    "idx = np.random.randint(0, X.size, (N, X.size))\n",
    "means = X[idx].mean(axis=1)\n",
    "confint = np.percentile(means, [2.5, 97.5])\n",
    "print(confint)"
   ]
  },
  {
   "cell_type": "markdown",
   "id": "c55ca847",
   "metadata": {},
   "source": [
    "***[np.random.randn](https://numpy.org/doc/stable/reference/random/generated/numpy.random.randn.html)*** - Возврат выборки (или выборок) из «стандартного нормального» распределения.  \n",
    "\n",
    "***[np.random.randint](https://numpy.org/doc/stable/reference/random/generated/numpy.random.randint.html)*** - Возвращает случайные целые числа в «полуоткрытом» интервале [low, high) в виде вектора размера size.  \n",
    "\n",
    "***[np.percentile](https://numpy.org/doc/stable/reference/generated/numpy.percentile.html)*** - Возвращает q-й процентиль элементов массива.  "
   ]
  },
  {
   "cell_type": "markdown",
   "id": "1ac54fc2",
   "metadata": {},
   "source": [
    "## Дополнительные задачи от контрибьюторов\n",
    "\n",
    "#### 101. Написать функцию rle_encode кодирования длин серий для массива (run-length encoding)(★★★)\n",
    "\n",
    "Пояснения к заданию: Функция сжимает входящий одномерный массив по алгоритму сжатия данных ([run-length encoding](https://ru.wikipedia.org/wiki/%D0%9A%D0%BE%D0%B4%D0%B8%D1%80%D0%BE%D0%B2%D0%B0%D0%BD%D0%B8%D0%B5_%D0%B4%D0%BB%D0%B8%D0%BD_%D1%81%D0%B5%D1%80%D0%B8%D0%B9)), заменяющий повторяющиеся символы (серии) на один символ и число его повторов.  \n",
    "Функция возвращает кортеж из трех массивов.  \n",
    "Первый массив - массив элементов исходного массива  \n",
    "Второй массив - массив повторения элементов массива  \n",
    "Третий массив - массив индексов входения серии по последнему элементу серии  \n",
    "\n",
    "Пример: на входе функции rle_code подаем массив [1, 2, 3, 2, 2, 3, 3, 3, 4, 4, 5, 5, 5, 1]  \n",
    "На выходе получаем кортеж массивов ([1, 2, 3, 2, 3, 4, 5, 1], [1, 1, 1, 2, 3, 2, 3, 1], [0,  1,  2,  4,  7,  9, 12, 13])  \n",
    "В случае если на входе пустой массив, нужно вернуть (None. None, None)  \n",
    "Исходный массив после выполнения функции должен остаться без изменений  \n",
    "\n",
    "[ссылка на гит автора задания: Tatyjana Ankudo](https://github.com/tankudo)  "
   ]
  },
  {
   "cell_type": "code",
   "execution_count": 183,
   "id": "70b8df59",
   "metadata": {},
   "outputs": [],
   "source": [
    "def rle_encode(a):\n",
    "    \"\"\"\n",
    "    a: np.array\n",
    "    return (elems, count of repetitions, indexes of series): (np.array, np.array, np.array) - кортеж из векторов \n",
    "    \"\"\"\n",
    "\n",
    "    n = len(a)\n",
    "    if n == 0:\n",
    "        return (None, None, None)\n",
    "    else:\n",
    "        slice_diff = a[1:] != a[:-1]\n",
    "        index_of_series = np.append(slice_diff.nonzero(), n - 1)\n",
    "        count_repetitions = np.diff(np.append(-1, index_of_series))\n",
    "\n",
    "        return a[index_of_series], count_repetitions, index_of_series"
   ]
  },
  {
   "cell_type": "code",
   "execution_count": 184,
   "id": "dbcd9afb",
   "metadata": {},
   "outputs": [
    {
     "name": "stdout",
     "output_type": "stream",
     "text": [
      "Исходный вектор Z размера 14:\n",
      " [1 2 3 2 2 3 3 3 4 4 5 5 5 1]\n",
      "Результат выполнения функции rle_encode(Z):\n",
      " (array([1, 2, 3, 2, 3, 4, 5, 1]), array([1, 1, 1, 2, 3, 2, 3, 1]), array([ 0,  1,  2,  4,  7,  9, 12, 13]))\n",
      "Исходный вектор Z после выполнения функции rle_encode:\n",
      " [1 2 3 2 2 3 3 3 4 4 5 5 5 1]\n"
     ]
    }
   ],
   "source": [
    "Z = np.array([1, 2, 3, 2, 2, 3, 3, 3, 4, 4, 5, 5, 5, 1])\n",
    "print(f'Исходный вектор Z размера {len(Z)}:\\n', Z)\n",
    "print('Результат выполнения функции rle_encode(Z):\\n', rle_encode(Z))\n",
    "print(f'Исходный вектор Z после выполнения функции rle_encode:\\n', Z)"
   ]
  },
  {
   "cell_type": "code",
   "execution_count": 185,
   "id": "40728171",
   "metadata": {},
   "outputs": [],
   "source": [
    "# попробуем решить задачу разными способами, чтобы убедиться, что вышепредложенный способ самый быстрый\n",
    "# второй вариант\n",
    "def rle_encode2(a):\n",
    "\n",
    "    if len(a) == 0:\n",
    "        return (None, None, None)\n",
    "    else:\n",
    "        a = np.insert(np.append(a, 0), 0, 0)\n",
    "        index_of_series = np.nonzero(np.diff(a))\n",
    "\n",
    "    return a[index_of_series][1:], np.diff(index_of_series)[0], index_of_series[0][:-1]"
   ]
  },
  {
   "cell_type": "code",
   "execution_count": 186,
   "id": "0464bc2f",
   "metadata": {},
   "outputs": [
    {
     "name": "stdout",
     "output_type": "stream",
     "text": [
      "Исходный вектор Z размера 14:\n",
      " [1 2 3 2 2 3 3 3 4 4 5 5 5 1]\n",
      "Результат выполнения функции rle_encode2(Z):\n",
      " (array([1, 2, 3, 2, 3, 4, 5, 1]), array([1, 1, 1, 2, 3, 2, 3, 1]), array([ 0,  1,  2,  3,  5,  8, 10, 13]))\n",
      "Исходный вектор Z после выполнения функции rle_encode2:\n",
      " [1 2 3 2 2 3 3 3 4 4 5 5 5 1]\n"
     ]
    }
   ],
   "source": [
    "Z = np.array([1, 2, 3, 2, 2, 3, 3, 3, 4, 4, 5, 5, 5, 1])\n",
    "print(f'Исходный вектор Z размера {len(Z)}:\\n', Z)\n",
    "print('Результат выполнения функции rle_encode2(Z):\\n', rle_encode2(Z))\n",
    "print(f'Исходный вектор Z после выполнения функции rle_encode2:\\n', Z)"
   ]
  },
  {
   "cell_type": "code",
   "execution_count": 187,
   "id": "f8a8ac2b",
   "metadata": {},
   "outputs": [
    {
     "name": "stdout",
     "output_type": "stream",
     "text": [
      "Выведем первые 10 элементов большого массива Z_test размера 1000000: [1 7 0 8 5 0 8 1 9 4]\n"
     ]
    }
   ],
   "source": [
    "# сравним методы на больших массивах\n",
    "N = int(1e6)  # кол-во строк исходной матрицы\n",
    "Z_test = np.random.randint(10, size=N)\n",
    "\n",
    "print(f'Выведем первые 10 элементов большого массива Z_test размера {N}:', Z_test[:10])"
   ]
  },
  {
   "cell_type": "code",
   "execution_count": 188,
   "id": "e2f78181",
   "metadata": {},
   "outputs": [
    {
     "name": "stdout",
     "output_type": "stream",
     "text": [
      "55 µs ± 4.83 µs per loop (mean ± std. dev. of 7 runs, 10,000 loops each)\n"
     ]
    }
   ],
   "source": [
    "%timeit rle_encode(Z)"
   ]
  },
  {
   "cell_type": "code",
   "execution_count": 189,
   "id": "a83d4117",
   "metadata": {},
   "outputs": [
    {
     "name": "stdout",
     "output_type": "stream",
     "text": [
      "93.6 µs ± 6.49 µs per loop (mean ± std. dev. of 7 runs, 10,000 loops each)\n"
     ]
    }
   ],
   "source": [
    "%timeit rle_encode2(Z)"
   ]
  },
  {
   "cell_type": "code",
   "execution_count": 190,
   "id": "120d6beb",
   "metadata": {},
   "outputs": [],
   "source": [
    "# видно что первый способ быстрее\n",
    "# теперь попробуем реализовать еще один вариант\n",
    "import itertools\n",
    "\n",
    "def rle_encode3(a):\n",
    "    if len(a) == 0:\n",
    "        return (None, None, None)\n",
    "    else:\n",
    "        iter_ = itertools.groupby(a)\n",
    "        return (np.array([x for x, y in iter_]), np.array([len(list(y)) for x, y in iter_]))"
   ]
  },
  {
   "cell_type": "code",
   "execution_count": 191,
   "id": "92cffd62",
   "metadata": {},
   "outputs": [
    {
     "name": "stdout",
     "output_type": "stream",
     "text": [
      "329 ms ± 27.3 ms per loop (mean ± std. dev. of 7 runs, 1 loop each)\n"
     ]
    }
   ],
   "source": [
    "%timeit rle_encode3(Z_test)"
   ]
  },
  {
   "cell_type": "markdown",
   "id": "a7105c5c",
   "metadata": {},
   "source": [
    "даже без подсчета индексов серий третий метод работает намного медленнее через списки \n",
    "\n",
    "***[np.random.randint](https://numpy.org/doc/stable/reference/random/generated/numpy.random.randint.html)*** - Возвращает случайные целые числа в «полуоткрытом» интервале [low, high) в виде вектора размера size.  \n",
    "\n",
    "***[np.append](https://numpy.org/doc/stable/reference/generated/numpy.append.html)*** - Добавляет значение в конец массива.  \n",
    "\n",
    "***[np.diff](https://numpy.org/doc/stable/reference/generated/numpy.diff.html)*** - Вычисляет n-ю дискретную разность элементов массива. По умолчанию n=1.  \n",
    "\n",
    "***[np.nonzero](https://numpy.org/doc/stable/reference/generated/numpy.ndarray.nonzero.html)*** -  Возвращает индексы элементов, которые не равны нулю.  \n",
    "\n",
    "***[np.insert](https://numpy.org/doc/stable/reference/generated/numpy.insert.html)*** - Вставляет заданное значение перед заданными индексами в исходный массив.  "
   ]
  },
  {
   "cell_type": "markdown",
   "id": "6c5ae0f9",
   "metadata": {},
   "source": [
    "#### 102. Как сформировать случайный вектор большой длинны для бутсрепа самым быстрым способом (★★★)\n",
    "\n",
    "Пояснения к заданию: Что такое бутстрепинг можно посмотреть [тут]([np.random.randint](https://ru.wikipedia.org/wiki/%D0%91%D1%83%D1%82%D1%81%D1%82%D1%80%D1%8D%D0%BF_(%D1%81%D1%82%D0%B0%D1%82%D0%B8%D1%81%D1%82%D0%B8%D0%BA%D0%B0)))  \n",
    "Бутсрепинг используется много где в машинном обучении, поэтому уметь быстро генерировать длинные вектора - это важно.  \n",
    "Например, в задании 100 формируется выборка для бутсрепа с помощью np.random.randint().  \n",
    "Да и ***np.random.randint()*** пожалуй самый упоминаемый в этом наборе упражнений метод. Но можно быстрее чем np.random.randint()  \n",
    "\n",
    "[ссылка на гит автора задания: Marvanova Diana](https://github.com/z0-xy)  "
   ]
  },
  {
   "cell_type": "code",
   "execution_count": 192,
   "id": "689fff97",
   "metadata": {},
   "outputs": [
    {
     "name": "stdout",
     "output_type": "stream",
     "text": [
      "Пример массива длинны 10 со случайными целыми на полуинтервале [0,10): [0 7 6 4 4 8 0 6 2 0]\n"
     ]
    }
   ],
   "source": [
    "rng = np.random.default_rng(seed=42)  # задавать seed полезно для возобновляемости кода\n",
    "\n",
    "print('Пример массива длинны 10 со случайными целыми на полуинтервале [0,10):', rng.integers(0,10, 10))"
   ]
  },
  {
   "cell_type": "markdown",
   "id": "7d0e8dc9",
   "metadata": {},
   "source": [
    "сравним скорость предложенного метода с np.random.randint() "
   ]
  },
  {
   "cell_type": "code",
   "execution_count": 193,
   "id": "9715d4dc",
   "metadata": {},
   "outputs": [],
   "source": [
    "N = int(1e7)  # длина вектора со случайными значениями\n",
    "n = int(1e5)  # длина вектора для выборки"
   ]
  },
  {
   "cell_type": "code",
   "execution_count": 194,
   "id": "a2d177b4",
   "metadata": {},
   "outputs": [
    {
     "name": "stdout",
     "output_type": "stream",
     "text": [
      "69.2 ms ± 6 ms per loop (mean ± std. dev. of 7 runs, 10 loops each)\n"
     ]
    }
   ],
   "source": [
    "%timeit rng.integers(0, n, N)"
   ]
  },
  {
   "cell_type": "code",
   "execution_count": 195,
   "id": "2c507d37",
   "metadata": {},
   "outputs": [
    {
     "name": "stdout",
     "output_type": "stream",
     "text": [
      "118 ms ± 1.8 ms per loop (mean ± std. dev. of 7 runs, 10 loops each)\n"
     ]
    }
   ],
   "source": [
    "%timeit np.random.randint(0, n, size=N)"
   ]
  },
  {
   "cell_type": "markdown",
   "id": "766c01b8",
   "metadata": {},
   "source": [
    "предложенный метод быстрее np.random.randint. Кстати с помощью default_rng можно генерить разные случайные вектора с разными распределениями (см. ссылку на описание метода ниже)  \n",
    "\n",
    "***[np.random.randint](https://numpy.org/doc/stable/reference/random/generated/numpy.random.randint.html)*** - Возвращает случайные целые числа в «полуоткрытом» интервале [low, high) в виде вектора размера size.  \n",
    "\n",
    "***[np.random.default_rng](https://numpy.org/doc/stable/reference/random/generator.html?highlight=default_rng#numpy.random.default_rng)*** - генератор с помощью BitGenerator по умолчанию (PCG64).  "
   ]
  },
  {
   "cell_type": "markdown",
   "id": "16c7d38e",
   "metadata": {},
   "source": [
    "#### 103. Есть двумерный вектор. В первом столбце имена, во втором фамилии. Нужно написать функцию join_with_sep, которая будет возвращать одномерный вектор с именами и фамилиями через пробел (★★★)\n",
    "\n",
    "Пояснения к заданию: вместо пробела может быть любой разделитель - лучше задать по умолчаю как пробел, чтобы потом можно было поменять при необходимости.  \n",
    "Исходный массив должен остаться неизменным.  \n",
    "\n",
    "Обязательно предложите не менее трех способов решения.  \n",
    "Если вам повезет и вы реализуете самый быстрый вариант обрабатывающий строку, то вы сможете ответить на следующий вопрос:  \n",
    "Емеет ли библиотека Numpy низкоуровневый код для обработки строк, такой же быстрый как для обработки чисел (даже если для этого используется C-API) ?  \n",
    "\n",
    "Ответив на этот вопрос вы сможете сделать вывод о том, что огульное применение numpy вместо pandas при обработке строк не так эффективно, как с при обработке чисел, а зачастую наоборот замедляет процесс.\n",
    "\n",
    "[ссылка на гит автора задания: Daria Mishina](https://github.com/DariaMishina)  "
   ]
  },
  {
   "cell_type": "code",
   "execution_count": 196,
   "id": "36dba5a0",
   "metadata": {},
   "outputs": [
    {
     "name": "stdout",
     "output_type": "stream",
     "text": [
      "Исходный массив из имен и фамилий размера (3, 2):\n",
      " [['Иван' 'Иванов']\n",
      " ['Петр' 'Петров']\n",
      " ['Василий' 'Васечкин']]\n"
     ]
    }
   ],
   "source": [
    "names = np.array(['Иван', 'Петр', 'Василий'])\n",
    "surnames = np.array(['Иванов', 'Петров', 'Васечкин'])\n",
    "Z = np.concatenate([names.reshape(-1,1), surnames.reshape(-1,1)], axis=1).astype('str')\n",
    "print(f'Исходный массив из имен и фамилий размера {Z.shape}:\\n', Z)"
   ]
  },
  {
   "cell_type": "code",
   "execution_count": 197,
   "id": "43988b9c",
   "metadata": {},
   "outputs": [],
   "source": [
    "# первый вариант аналогичный названию функции c add\n",
    "def add_with_sep1(a:np.ndarray, sep=' '):\n",
    "    return np.char.add(np.char.add(a[:, 0],sep), a[:, 1])"
   ]
  },
  {
   "cell_type": "code",
   "execution_count": 198,
   "id": "4b88a51b",
   "metadata": {},
   "outputs": [
    {
     "data": {
      "text/plain": [
       "array(['Иван Иванов', 'Петр Петров', 'Василий Васечкин'], dtype='<U17')"
      ]
     },
     "execution_count": 198,
     "metadata": {},
     "output_type": "execute_result"
    }
   ],
   "source": [
    "# проверяем первый вариант\n",
    "add_with_sep1(Z)"
   ]
  },
  {
   "cell_type": "code",
   "execution_count": 199,
   "id": "4a48b6a0",
   "metadata": {},
   "outputs": [],
   "source": [
    "# второй вариант\n",
    "def add_with_sep2(a: np.ndarray, sep=' '):\n",
    "    temp = np.empty(a.shape[0], dtype=object)\n",
    "    temp[:] = sep\n",
    "    return np.add(np.add(a[:, 0], temp), a[:, 1])\n",
    "\n",
    "# последняя строка аналогична записи\n",
    "# (a[:, 0].astype(np.object) + temp.astype(np.object) + a[:, 1].astype(np.object)).astype('str')"
   ]
  },
  {
   "cell_type": "code",
   "execution_count": 200,
   "id": "07e587cc",
   "metadata": {},
   "outputs": [
    {
     "data": {
      "text/plain": [
       "array(['Иван Иванов', 'Петр Петров', 'Василий Васечкин'], dtype=object)"
      ]
     },
     "execution_count": 200,
     "metadata": {},
     "output_type": "execute_result"
    }
   ],
   "source": [
    "# проверяем второй вариант\n",
    "add_with_sep2(Z)"
   ]
  },
  {
   "cell_type": "code",
   "execution_count": 201,
   "id": "70a911fa",
   "metadata": {},
   "outputs": [],
   "source": [
    "# третий вариант\n",
    "def add_with_sep3(a:np.ndarray, sep=' '):\n",
    "    return np.array([sep.join(row) for row in a])"
   ]
  },
  {
   "cell_type": "code",
   "execution_count": 202,
   "id": "4b88a51b",
   "metadata": {},
   "outputs": [
    {
     "data": {
      "text/plain": [
       "array(['Иван Иванов', 'Петр Петров', 'Василий Васечкин'], dtype='<U16')"
      ]
     },
     "execution_count": 202,
     "metadata": {},
     "output_type": "execute_result"
    }
   ],
   "source": [
    "# проверяем третий вариант\n",
    "add_with_sep3(Z)"
   ]
  },
  {
   "cell_type": "code",
   "execution_count": 203,
   "id": "70a911fa",
   "metadata": {},
   "outputs": [],
   "source": [
    "# четвертый вариант\n",
    "def add_with_sep4(a:np.ndarray, sep=' '):\n",
    "    return np.array([sep.join(row) for row in a.tolist()])"
   ]
  },
  {
   "cell_type": "code",
   "execution_count": 204,
   "id": "4b88a51b",
   "metadata": {},
   "outputs": [
    {
     "data": {
      "text/plain": [
       "array(['Иван Иванов', 'Петр Петров', 'Василий Васечкин'], dtype='<U16')"
      ]
     },
     "execution_count": 204,
     "metadata": {},
     "output_type": "execute_result"
    }
   ],
   "source": [
    "# проверяем четвертый вариант\n",
    "add_with_sep4(Z)"
   ]
  },
  {
   "cell_type": "code",
   "execution_count": 205,
   "id": "94c4dffa",
   "metadata": {},
   "outputs": [],
   "source": [
    "# пятый вариант\n",
    "def add_with_sep5(a:np.ndarray, sep=' '):\n",
    "    temp = np.empty(a.shape[0], object)\n",
    "    temp[:] = list(a)  \n",
    "    return np.char.join(sep, temp)"
   ]
  },
  {
   "cell_type": "code",
   "execution_count": 206,
   "id": "4b88a51b",
   "metadata": {},
   "outputs": [
    {
     "data": {
      "text/plain": [
       "array(['Иван Иванов', 'Петр Петров', 'Василий Васечкин'], dtype='<U16')"
      ]
     },
     "execution_count": 206,
     "metadata": {},
     "output_type": "execute_result"
    }
   ],
   "source": [
    "# проверяем пятый вариант\n",
    "add_with_sep5(Z)"
   ]
  },
  {
   "cell_type": "code",
   "execution_count": 207,
   "id": "265bb57d",
   "metadata": {},
   "outputs": [],
   "source": [
    "# шестой вариант\n",
    "def add_with_sep6(a:np.ndarray, sep=' '):\n",
    "    return np.apply_along_axis(sep.join, 1, a)\n"
   ]
  },
  {
   "cell_type": "code",
   "execution_count": 208,
   "id": "4b88a51b",
   "metadata": {},
   "outputs": [
    {
     "data": {
      "text/plain": [
       "array(['Иван Иванов', 'Петр Петров', 'Василий Вас'], dtype='<U11')"
      ]
     },
     "execution_count": 208,
     "metadata": {},
     "output_type": "execute_result"
    }
   ],
   "source": [
    "# проверяем шестой вариант\n",
    "add_with_sep6(Z)"
   ]
  },
  {
   "cell_type": "markdown",
   "id": "da05dcfe",
   "metadata": {},
   "source": [
    "Шестой вариант не подходит так как он обрезает длинну строки по первому типу результата"
   ]
  },
  {
   "cell_type": "code",
   "execution_count": 209,
   "id": "da11c1e9",
   "metadata": {},
   "outputs": [],
   "source": [
    "# теперь проверим производительность пяти подходящих вариантов\n",
    "# для этого сначала сгенерируем большой вектор с именами и фамилиями\n",
    "\n",
    "def gen_arr_str(d_N:int, d_max_len:int, d_seed=42):\n",
    "    str_chars = 'abcdefghijklnopqrstuvwxyz'\n",
    "    STR_chars = 'ABCDEFGHIJKLMNOPQRSTUVWXYZ'\n",
    "\n",
    "    rng = np.random.default_rng(seed=d_seed)\n",
    "    Z = rng.integers(0,d_max_len,d_N)\n",
    "\n",
    "    Z = Z.astype(str)\n",
    "    for elem in np.unique(Z):\n",
    "        Z[Z==elem] = STR_chars[int(elem)]+str_chars[:int(elem)+1]\n",
    "    return Z"
   ]
  },
  {
   "cell_type": "code",
   "execution_count": 210,
   "id": "65b5defa",
   "metadata": {},
   "outputs": [
    {
     "name": "stdout",
     "output_type": "stream",
     "text": [
      "Несколько строк исходного массива Z_test имен и фамилий размера (1000000, 2):\n",
      " [['Aa' 'Gabcdefg']\n",
      " ['Habcdefgh' 'Cabc']\n",
      " ['Gabcdefg' 'Jabcdefghij']\n",
      " ['Eabcde' 'Jabcdefghij']\n",
      " ['Eabcde' 'Aa']]\n"
     ]
    }
   ],
   "source": [
    "N = int(1e6)\n",
    "max_len = 10  # максимальная длина имени и фамилии\n",
    "names = gen_arr_str(N, max_len)\n",
    "surnames = gen_arr_str(N, max_len, 12)\n",
    "Z_test = np.concatenate([names.reshape(-1,1), surnames.reshape(-1,1)], axis=1).astype('str')\n",
    "print(f'Несколько строк исходного массива Z_test имен и фамилий размера ({N}, 2):\\n', Z_test[:5])"
   ]
  },
  {
   "cell_type": "code",
   "execution_count": 211,
   "id": "72537369",
   "metadata": {},
   "outputs": [
    {
     "name": "stdout",
     "output_type": "stream",
     "text": [
      "2.26 s ± 261 ms per loop (mean ± std. dev. of 7 runs, 1 loop each)\n"
     ]
    }
   ],
   "source": [
    "%timeit add_with_sep1(Z_test)"
   ]
  },
  {
   "cell_type": "code",
   "execution_count": 212,
   "id": "872a3eef",
   "metadata": {},
   "outputs": [
    {
     "name": "stdout",
     "output_type": "stream",
     "text": [
      "499 ms ± 73 ms per loop (mean ± std. dev. of 7 runs, 1 loop each)\n"
     ]
    }
   ],
   "source": [
    "%timeit add_with_sep2(Z_test)"
   ]
  },
  {
   "cell_type": "code",
   "execution_count": 213,
   "id": "b2b76f86",
   "metadata": {},
   "outputs": [
    {
     "name": "stdout",
     "output_type": "stream",
     "text": [
      "3.6 s ± 45.9 ms per loop (mean ± std. dev. of 7 runs, 1 loop each)\n"
     ]
    }
   ],
   "source": [
    "%timeit add_with_sep3(Z_test)"
   ]
  },
  {
   "cell_type": "code",
   "execution_count": 214,
   "id": "c8aab00e",
   "metadata": {},
   "outputs": [
    {
     "name": "stdout",
     "output_type": "stream",
     "text": [
      "868 ms ± 67 ms per loop (mean ± std. dev. of 7 runs, 1 loop each)\n"
     ]
    }
   ],
   "source": [
    "%timeit add_with_sep4(Z_test)"
   ]
  },
  {
   "cell_type": "code",
   "execution_count": 215,
   "id": "f5b1b0b2",
   "metadata": {},
   "outputs": [
    {
     "name": "stdout",
     "output_type": "stream",
     "text": [
      "3.89 s ± 129 ms per loop (mean ± std. dev. of 7 runs, 1 loop each)\n"
     ]
    }
   ],
   "source": [
    "%timeit add_with_sep5(Z_test)"
   ]
  },
  {
   "cell_type": "markdown",
   "id": "955a8b6f",
   "metadata": {},
   "source": [
    "Вывод самый быстрый вариант =2, но по сути там никакого преобразования строки не происходит. Не сильно ему уступает вариант =4 (когда мы переводим весь масив в список и обрабатываем строки встроенной функцией str.join, а потом опять создаем массив. Из чего следует отрицательный ответ на вопрос упражнения - Нет, пока не реализована).  \n",
    "\n",
    "***[np.char.add](https://numpy.org/doc/stable/reference/generated/numpy.char.add.html)*** - Возвращает поэлементную конкатенацию строк для двух массивов str или unicode.  \n",
    "\n",
    "***[np.empty](https://numpy.org/doc/stable/reference/generated/numpy.empty.html)*** - Возвращает новый массив заданной формы и типа без инициализации записей.  \n",
    "\n",
    "***[np.random.default_rng](https://numpy.org/doc/stable/reference/random/generator.html?highlight=default_rng#numpy.random.default_rng)*** - генератор с помощью BitGenerator по умолчанию (PCG64).  "
   ]
  },
  {
   "cell_type": "markdown",
   "id": "dd2063ee",
   "metadata": {},
   "source": [
    "#### 104. Напиши быстрый алгоритм расчёта расстояния для метода k-ближайших соседей (kNN) для матриц с большим колвом объектов и признаков (★★★)\n",
    "\n",
    "**Краткое описание задачи классификации методом k-ближайших соседей (kNN)**\n",
    "Метод k-ближайших соседей (kNN) - это алгоритм машинного обучения, который используется для задач классификации и регрессии. Он работает на основе простой идеи: для определения класса или значения нового объекта алгоритм анализирует `k` наиболее близких к нему объектов из обучающей выборки.\n",
    "Центральным элементом метода kNN является ***расчёт расстояний между объектами***. Для двух точек $A$ и $B$, расстояние можно вычислить по разным метрикам, например, Евклидово расстояние $l_2$ или Манхэттенское расстояние $l_1$. Евклидово расстояние между двумя точками \\(A\\) и \\(B\\), имеющими координаты $(a_1, a_2, \\dots, a_D)$ и $(b_1, b_2, \\dots, b_D)$ в D-мерном пространстве, вычисляется по формуле:\n",
    "\n",
    "$$d(A, B) = \\sqrt{\\sum_{i=1}^{D} (a_i - b_i)^2}$$\n",
    "\n",
    "#### Дополнительная информация к задаче:\n",
    "- мы реализуем и сравним производительность четырёх функций для вычисления матрицы Евклидовых расстояний между тестовыми (y_test) и обучающими примерами (X), используя различные подходы:\n",
    "  -  функция с двумя циклами (`compute_distances_two_loops`)\n",
    "  -  функция с одним циклом (`compute_distances_one_loop`)\n",
    "  -  функция без циклов (`compute_distances_without_loops`)\n",
    "  -  функция без циклов c linalg.norm (`compute_distances_with_linalg_norm`)\n",
    "- функции будут принимать на вход: \n",
    "  - `X_train`: Массив numpy размерности `(num_train, D)`, содержащий обучающие данные, состоящие из `num_train` образцов, каждый из которых имеет размерность `D`.\n",
    "  - `X_test`: Массив numpy размерности `(num_test, D)`, содержащий тестовые данные, состоящие из `num_test` образцов, каждый из которых имеет размерность `D`.\n",
    "- выходные данные функций:\n",
    "  - `dists`: Массив numpy размерности `(num_test, num_train)`, где `dists[i, j]` представляет собой Евклидово расстояние между i-м тестовым примером и j-м обучающим примером."
   ]
  },
  {
   "cell_type": "code",
   "execution_count": 216,
   "id": "453b506f",
   "metadata": {},
   "outputs": [],
   "source": [
    "def compute_distances_two_loops(X_train, X_test):\n",
    "    num_train = X_train.shape[0]\n",
    "    num_test = X_test.shape[0]\n",
    "\n",
    "    dists = np.zeros((num_test, num_train))\n",
    "    for i in range(num_test):\n",
    "        for j in range(num_train):\n",
    "            dists[i, j] = np.sqrt(np.sum(np.square(X_train[j, :] - X_test[i, :])))\n",
    "\n",
    "    return dists"
   ]
  },
  {
   "cell_type": "markdown",
   "id": "0a99f602",
   "metadata": {},
   "source": [
    "Для тестирования функций нам нужны матрицы. Будем строить две матрицы X_train и X_test таким образом, чтобы все вектора матриц лежали на одном векторе, их длины отличались на единицу, и все координаты были ненулевыми. Таким образом расчёт растояний матрицы саму на себя и двух этих матриц делает результат легко тестируемым даже для больших матриц."
   ]
  },
  {
   "cell_type": "code",
   "execution_count": 217,
   "id": "cfb21442",
   "metadata": {},
   "outputs": [],
   "source": [
    "def create_train_test_matrices(num_train, num_test, d):\n",
    "    \"\"\"\n",
    "    Создает две матрицы X_train и X_test таким образом, чтобы все вектора\n",
    "    лежали на одном векторе, их длины отличались на единицу, и все координаты были ненулевыми.\n",
    "\n",
    "    Параметры:\n",
    "    - num_train: количество обучающих примеров\n",
    "    - num_test: количество тестовых примеров\n",
    "    - d: размерность пространства\n",
    "\n",
    "    Возвращает:\n",
    "    - X_train: массив numpy размерности (num_train, d)\n",
    "    - X_test: массив numpy размерности (num_test, d)\n",
    "    \"\"\"\n",
    "    # Нормированный базовый вектор в d-мерном пространстве\n",
    "    base_vector = np.ones(d) / np.sqrt(d)\n",
    "\n",
    "    # Создаем вектора для X_train, увеличивая длину на каждом шаге\n",
    "    lengths_train = np.arange(1, num_train + 1)[:, np.newaxis]\n",
    "    X_train = lengths_train * base_vector\n",
    "\n",
    "    # Создаем вектора для X_test, продолжая увеличивать длину\n",
    "    lengths_test = np.arange(num_train + 1, num_train + num_test + 1)[:, np.newaxis]\n",
    "    X_test = lengths_test * base_vector\n",
    "\n",
    "    return X_train, X_test"
   ]
  },
  {
   "cell_type": "markdown",
   "id": "d1941e40",
   "metadata": {},
   "source": [
    "Протестируем тест и функцию с двумя циклами"
   ]
  },
  {
   "cell_type": "code",
   "execution_count": 218,
   "id": "866ff643",
   "metadata": {},
   "outputs": [
    {
     "data": {
      "text/plain": [
       "(array([[0.57735, 0.57735, 0.57735],\n",
       "        [1.1547 , 1.1547 , 1.1547 ],\n",
       "        [1.73205, 1.73205, 1.73205],\n",
       "        [2.3094 , 2.3094 , 2.3094 ],\n",
       "        [2.88675, 2.88675, 2.88675]]),\n",
       " array([[3.4641 , 3.4641 , 3.4641 ],\n",
       "        [4.04145, 4.04145, 4.04145],\n",
       "        [4.6188 , 4.6188 , 4.6188 ]]))"
      ]
     },
     "execution_count": 218,
     "metadata": {},
     "output_type": "execute_result"
    }
   ],
   "source": [
    "X_train, X_test = create_train_test_matrices(num_train=5, num_test=3, d=3)\n",
    "X_train, X_test\n"
   ]
  },
  {
   "cell_type": "code",
   "execution_count": 219,
   "id": "bcc23151",
   "metadata": {},
   "outputs": [
    {
     "data": {
      "text/plain": [
       "array([[5., 4., 3., 2., 1.],\n",
       "       [6., 5., 4., 3., 2.],\n",
       "       [7., 6., 5., 4., 3.]])"
      ]
     },
     "execution_count": 219,
     "metadata": {},
     "output_type": "execute_result"
    }
   ],
   "source": [
    "compute_distances_two_loops(X_train, X_test)"
   ]
  },
  {
   "cell_type": "code",
   "execution_count": 220,
   "id": "60b5f640",
   "metadata": {},
   "outputs": [
    {
     "data": {
      "text/plain": [
       "array([[0., 1., 2., 3., 4.],\n",
       "       [1., 0., 1., 2., 3.],\n",
       "       [2., 1., 0., 1., 2.],\n",
       "       [3., 2., 1., 0., 1.],\n",
       "       [4., 3., 2., 1., 0.]])"
      ]
     },
     "execution_count": 220,
     "metadata": {},
     "output_type": "execute_result"
    }
   ],
   "source": [
    "compute_distances_two_loops(X_train, X_train)"
   ]
  },
  {
   "cell_type": "code",
   "execution_count": 221,
   "id": "c864d85a",
   "metadata": {},
   "outputs": [],
   "source": [
    "def test_distance_function(num_train, num_test, d, distance_function):\n",
    "    # Генерация матриц\n",
    "    X_train, X_test = create_train_test_matrices(num_train, num_test, d)\n",
    "\n",
    "    # Расчет и проверка расстояний между обучающими и тестовыми примерами\n",
    "    n = num_train + num_test\n",
    "    dists_test = distance_function(X_train, X_test)\n",
    "    expected_dists_test_matrix = np.abs(np.arange(n)[:, np.newaxis] - np.arange(n))\n",
    "    expected_dists_test = expected_dists_test_matrix[num_train:n, 0:num_train]\n",
    "    if not np.allclose(dists_test, expected_dists_test, atol=1e-9):\n",
    "         return \"Тест по расчету расстояния для X_train, X_test не пройден (False)\"\n",
    "    else:\n",
    "        print(\"Тест по расчету расстояния для X_train, X_test  - пройден (True)\")\n",
    "    # Расчет расстояний между обучающими примерами\n",
    "    dists_train = distance_function(X_train, X_train)\n",
    "    expected_dists_train = np.abs(np.arange(num_train) - np.arange(num_train)[:, np.newaxis])\n",
    "    if not np.allclose(dists_train, expected_dists_train, atol=1e-9):\n",
    "        return \"Тест по расчету расстояния для X_train, X_train не пройден (False)\"\n",
    "    else:\n",
    "        print(\"Тест по расчету расстояния для X_train, X_train - пройден (True)\")"
   ]
  },
  {
   "cell_type": "code",
   "execution_count": 222,
   "id": "388dff85",
   "metadata": {},
   "outputs": [
    {
     "name": "stdout",
     "output_type": "stream",
     "text": [
      "Тест по расчету расстояния для X_train, X_test  - пройден (True)\n",
      "Тест по расчету расстояния для X_train, X_train - пройден (True)\n"
     ]
    }
   ],
   "source": [
    "n = 100\n",
    "test_distance_function(n, n//2, n//3, compute_distances_two_loops)"
   ]
  },
  {
   "cell_type": "code",
   "execution_count": 223,
   "id": "72d50044",
   "metadata": {},
   "outputs": [],
   "source": [
    "def compute_distances_one_loop(X_train, X_test):\n",
    "    num_train = X_train.shape[0]\n",
    "    num_test = X_test.shape[0]\n",
    "\n",
    "    dists = np.zeros((num_test, num_train))\n",
    "    for i in range(num_test):\n",
    "\n",
    "        dists[i] = np.sqrt(np.sum(np.square(X_test[i] - X_train), axis = 1))\n",
    "\n",
    "    return dists"
   ]
  },
  {
   "cell_type": "code",
   "execution_count": 224,
   "id": "32bd05fe",
   "metadata": {},
   "outputs": [
    {
     "name": "stdout",
     "output_type": "stream",
     "text": [
      "Тест по расчету расстояния для X_train, X_test  - пройден (True)\n",
      "Тест по расчету расстояния для X_train, X_train - пройден (True)\n"
     ]
    }
   ],
   "source": [
    "n = 100\n",
    "test_distance_function(n, n//2, n//3, compute_distances_one_loop)"
   ]
  },
  {
   "cell_type": "code",
   "execution_count": 225,
   "id": "ad707452",
   "metadata": {},
   "outputs": [],
   "source": [
    "def compute_distances_without_loops(X_train, X_test):\n",
    "    num_train = X_train.shape[0]\n",
    "    num_test = X_test.shape[0]\n",
    "\n",
    "    dists = np.zeros((num_test, num_train))\n",
    "    test_square = np.sum(np.square(X_test), axis=1)\n",
    "    train_square = np.sum(np.square(X_train), axis=1)\n",
    "    dot_product_matrix = np.dot(X_test, X_train.T)\n",
    "    if X_train is X_test:\n",
    "        dists = test_square[:, np.newaxis] + train_square - 2 * dot_product_matrix\n",
    "        np.fill_diagonal(dists, 0)\n",
    "        dists = np.sqrt(dists)\n",
    "    else:\n",
    "        dists = np.sqrt(test_square[:, np.newaxis] + train_square - 2 * dot_product_matrix)\n",
    "    return dists"
   ]
  },
  {
   "cell_type": "code",
   "execution_count": 226,
   "id": "5dd4ca19",
   "metadata": {},
   "outputs": [
    {
     "name": "stdout",
     "output_type": "stream",
     "text": [
      "Тест по расчету расстояния для X_train, X_test  - пройден (True)\n",
      "Тест по расчету расстояния для X_train, X_train - пройден (True)\n"
     ]
    }
   ],
   "source": [
    "n = 100\n",
    "test_distance_function(n, n//2, n//3, compute_distances_without_loops)"
   ]
  },
  {
   "cell_type": "code",
   "execution_count": 227,
   "id": "97ddea6a",
   "metadata": {},
   "outputs": [],
   "source": [
    "def compute_distances_with_linalg_norm(X_train, X_test):\n",
    "\n",
    "    dists = np.linalg.norm(X_test[:, np.newaxis, :] - X_train[np.newaxis, :, :], axis=2)\n",
    "\n",
    "    return dists\n"
   ]
  },
  {
   "cell_type": "code",
   "execution_count": 228,
   "id": "0e888a52",
   "metadata": {},
   "outputs": [
    {
     "name": "stdout",
     "output_type": "stream",
     "text": [
      "Тест по расчету расстояния для X_train, X_test  - пройден (True)\n",
      "Тест по расчету расстояния для X_train, X_train - пройден (True)\n"
     ]
    }
   ],
   "source": [
    "n = 100\n",
    "test_distance_function(n, n//2, n//3, compute_distances_with_linalg_norm)"
   ]
  },
  {
   "cell_type": "code",
   "execution_count": 229,
   "id": "697ef5b5",
   "metadata": {},
   "outputs": [
    {
     "data": {
      "text/plain": [
       "((300, 100), (150, 100))"
      ]
     },
     "execution_count": 229,
     "metadata": {},
     "output_type": "execute_result"
    }
   ],
   "source": [
    "n = 300\n",
    "X_train, X_test = create_train_test_matrices(n, n//2, n//3)\n",
    "X_train.shape, X_test.shape"
   ]
  },
  {
   "cell_type": "code",
   "execution_count": 230,
   "id": "3559f089",
   "metadata": {},
   "outputs": [
    {
     "name": "stdout",
     "output_type": "stream",
     "text": [
      "809 ms ± 59.2 ms per loop (mean ± std. dev. of 7 runs, 10 loops each)\n"
     ]
    }
   ],
   "source": [
    "%timeit -n 10 compute_distances_two_loops(X_train, X_test)"
   ]
  },
  {
   "cell_type": "code",
   "execution_count": 231,
   "id": "1452ed60",
   "metadata": {},
   "outputs": [
    {
     "name": "stdout",
     "output_type": "stream",
     "text": [
      "18 ms ± 1.69 ms per loop (mean ± std. dev. of 7 runs, 30 loops each)\n"
     ]
    }
   ],
   "source": [
    "%timeit -n 30 compute_distances_one_loop(X_train, X_test)"
   ]
  },
  {
   "cell_type": "code",
   "execution_count": 232,
   "id": "caed474a",
   "metadata": {},
   "outputs": [
    {
     "name": "stdout",
     "output_type": "stream",
     "text": [
      "2.3 ms ± 445 µs per loop (mean ± std. dev. of 7 runs, 30 loops each)\n"
     ]
    }
   ],
   "source": [
    "%timeit -n 30 compute_distances_without_loops(X_train, X_test)"
   ]
  },
  {
   "cell_type": "code",
   "execution_count": 233,
   "id": "31eda006",
   "metadata": {},
   "outputs": [
    {
     "name": "stdout",
     "output_type": "stream",
     "text": [
      "38.2 ms ± 1.76 ms per loop (mean ± std. dev. of 7 runs, 30 loops each)\n"
     ]
    }
   ],
   "source": [
    "%timeit -n 30 compute_distances_with_linalg_norm(X_train, X_test)"
   ]
  },
  {
   "cell_type": "markdown",
   "id": "09a935ba",
   "metadata": {},
   "source": [
    "***[np.zeros](https://numpy.org/doc/stable/reference/generated/numpy.zeros.html)*** - возвращает новый массив заполненный нулями.  \n",
    "Параметр dtype - желаемый тип данных для массива. Значение по умолчанию = numpy.float64.  \n",
    "\n",
    "***[np.ones](https://numpy.org/doc/stable/reference/generated/numpy.ones.html)*** - Возвращает новый массив, заполненный единицами.  \n",
    "\n",
    "***[np.sqrt](https://numpy.org/doc/stable/reference/generated/numpy.sqrt.html)*** - Возвращает квадратный корень извлеченный из неотрицательных элементов массива.  \n",
    "\n",
    "***[np.square](https://numpy.org/doc/stable/reference/generated/numpy.square.html)*** - Возвращает поэлементный квадрат массива.  \n",
    "\n",
    "***[np.dot](https://numpy.org/doc/stable/reference/generated/numpy.dot.html)*** - cкалярное произведение двух массивов.  \n",
    "\n",
    "***[np.fill_diagonal](https://numpy.org/doc/stable/reference/generated/numpy.fill_diagonal.html)*** - заполняет главную диагональ заданного массива любой размерности. Для массива a с a.ndim >= 2 диагональю является список местоположений с одинаковыми индексами.  \n",
    "!!!Внимание!!! Эта функция изменяет входной массив in-place, но не возвращает значение.  \n",
    "\n",
    "***[np.linalg.norm](https://numpy.org/doc/stable/reference/generated/numpy.linalg.norm.html)*** - Эта функция возвращает матричную норму.  "
   ]
  },
  {
   "cell_type": "markdown",
   "id": "93e5b98e",
   "metadata": {},
   "source": [
    "Вывод самый быстрый вариант алгоритма для расчета Евклидового расстояния - compute_distances_without_loops"
   ]
  },
  {
   "cell_type": "markdown",
   "metadata": {},
   "source": [
    "Спасибо за внимание, надеюсь будет полезно!  \n",
    "Желаю дальнейшего плодотворного изучения библиотеки numpy в Python!  \n",
    "Заранее спасибо за звезду [репе](https://github.com/alex-sokolov2011/100_Numpy_exercises_Rus_ver) на Github"
   ]
  }
 ],
 "metadata": {
  "celltoolbar": "Отсутствует",
  "kernelspec": {
   "display_name": "Python 3",
   "language": "python",
   "name": "python3"
  },
  "language_info": {
   "codemirror_mode": {
    "name": "ipython",
    "version": 3
   },
   "file_extension": ".py",
   "mimetype": "text/x-python",
   "name": "python",
   "nbconvert_exporter": "python",
   "pygments_lexer": "ipython3",
   "version": "3.8.10"
  },
  "metadata": {
   "interpreter": {
    "hash": "916dbcbb3f70747c44a77c7bcd40155683ae19c65e1c03b4aa3499c5328201f1"
   }
  }
 },
 "nbformat": 4,
 "nbformat_minor": 5
}
